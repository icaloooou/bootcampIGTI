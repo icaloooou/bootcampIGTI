{
  "nbformat": 4,
  "nbformat_minor": 0,
  "metadata": {
    "colab": {
      "name": "[IGTI] Bootcamp - Eng de Dados.ipynb",
      "provenance": [],
      "collapsed_sections": [
        "3bE_rbo0cJb2",
        "cReD5dMxZJv6",
        "vzcgRqUAWhJr",
        "tYhKGZZUYP3O",
        "lnh1mJlVaq4R",
        "ju-t06vha7aO",
        "OaLmpPKtgMdD",
        "Pxz9bOsdbP_G",
        "Os3YCbIpb1Rc",
        "rffbwupymSk6",
        "K_h-BOyJbpXj",
        "jXxpJydWiS0y",
        "tynnXeY8laey",
        "uv3CN70-le-X",
        "5gZJBzlsmR6h",
        "e32sOXdNlHOS",
        "-hCzcxslnAAZ",
        "fikIsOKZnLX4",
        "CeSjQLWhnj4W",
        "kDSahaC7sk20",
        "2nMpycM1TF8c",
        "2KXaDY42T0Th",
        "XgV3PMLgUALD",
        "6gvRMNKaUa41",
        "bMJ-xX7uUlRb",
        "y_WVX37lVOjD",
        "cL0qjH9oV7t5",
        "gmGjyH-TW9yZ"
      ],
      "toc_visible": true,
      "authorship_tag": "ABX9TyNjrdfw4Wj6GWWwiOCg9Qda"
    },
    "kernelspec": {
      "name": "python3",
      "display_name": "Python 3"
    },
    "language_info": {
      "name": "python"
    }
  },
  "cells": [
    {
      "cell_type": "markdown",
      "source": [
        "## 0. Imports"
      ],
      "metadata": {
        "id": "4ZiWWH_YTvrd"
      }
    },
    {
      "cell_type": "code",
      "execution_count": 27,
      "metadata": {
        "id": "T9ITCxL9Tis_"
      },
      "outputs": [],
      "source": [
        "import numpy as np\n",
        "import pandas as pd\n",
        "from sklearn.preprocessing import LabelEncoder\n",
        "from sklearn.linear_model import LogisticRegression\n",
        "from sklearn.linear_model import LinearRegression"
      ]
    },
    {
      "cell_type": "markdown",
      "source": [
        "## 1. Constants"
      ],
      "metadata": {
        "id": "3bE_rbo0cJb2"
      }
    },
    {
      "cell_type": "code",
      "source": [
        "def printa(valor1, valor2):\n",
        "  return valor1, valor2"
      ],
      "metadata": {
        "id": "U0PDjtgHcNid"
      },
      "execution_count": null,
      "outputs": []
    },
    {
      "cell_type": "code",
      "source": [
        "def shape(valor):\n",
        "  return 'shape: ', valor.shape"
      ],
      "metadata": {
        "id": "8cLeJF4fcwne"
      },
      "execution_count": null,
      "outputs": []
    },
    {
      "cell_type": "markdown",
      "source": [
        "# Numpy"
      ],
      "metadata": {
        "id": "cReD5dMxZJv6"
      }
    },
    {
      "cell_type": "markdown",
      "source": [
        "> O numpy é uma das principais bibliotecas para\n",
        "computação científica em Python.\n",
        "> Disponibiliza um objeto de array multidimensional de alta\n",
        "performance e diversas ferramentas para se trabalhar\n",
        "com esses objetos."
      ],
      "metadata": {
        "id": "CVPTEEEkfwu3"
      }
    },
    {
      "cell_type": "markdown",
      "source": [
        "## 1. Criação de Arrays"
      ],
      "metadata": {
        "id": "OXOOoztdT7MD"
      }
    },
    {
      "cell_type": "code",
      "source": [
        "help(np.array)  # o help serve para ver o que esse método aceita"
      ],
      "metadata": {
        "id": "ddgYeFjhT6kC"
      },
      "execution_count": null,
      "outputs": []
    },
    {
      "cell_type": "markdown",
      "source": [
        "### 1.1 Criação de array 1D"
      ],
      "metadata": {
        "id": "_8myxYedUP6c"
      }
    },
    {
      "cell_type": "code",
      "source": [
        "lista = [1, 2, 3]\n",
        "a = np.array(lista)\n",
        "# x = np.array([1, 2, 3])"
      ],
      "metadata": {
        "id": "7AjI3foSTuei"
      },
      "execution_count": null,
      "outputs": []
    },
    {
      "cell_type": "code",
      "source": [
        "printa('a', a)"
      ],
      "metadata": {
        "colab": {
          "base_uri": "https://localhost:8080/"
        },
        "id": "iZVXSbFNTrEi",
        "outputId": "e33e8c02-7f96-4143-8a12-0a2977c3ad5c"
      },
      "execution_count": null,
      "outputs": [
        {
          "output_type": "execute_result",
          "data": {
            "text/plain": [
              "('a', array([1, 2, 3]))"
            ]
          },
          "metadata": {},
          "execution_count": 133
        }
      ]
    },
    {
      "cell_type": "code",
      "source": [
        "shape(a)"
      ],
      "metadata": {
        "colab": {
          "base_uri": "https://localhost:8080/"
        },
        "id": "zRQTNFpyUmO0",
        "outputId": "94282fa6-a50a-46df-e211-8ac5b5698096"
      },
      "execution_count": null,
      "outputs": [
        {
          "output_type": "execute_result",
          "data": {
            "text/plain": [
              "('shape: ', (3,))"
            ]
          },
          "metadata": {},
          "execution_count": 80
        }
      ]
    },
    {
      "cell_type": "code",
      "source": [
        "type(a)"
      ],
      "metadata": {
        "colab": {
          "base_uri": "https://localhost:8080/"
        },
        "id": "QaFpih_dUnBW",
        "outputId": "b862c1cf-29f3-47a8-fce7-0e0c3f54a508"
      },
      "execution_count": null,
      "outputs": [
        {
          "output_type": "execute_result",
          "data": {
            "text/plain": [
              "numpy.ndarray"
            ]
          },
          "metadata": {},
          "execution_count": 84
        }
      ]
    },
    {
      "cell_type": "markdown",
      "source": [
        "### 1.2 Criação de array 2D: listas aninhadas"
      ],
      "metadata": {
        "id": "M9tX0w7jU0wx"
      }
    },
    {
      "cell_type": "code",
      "source": [
        "lista = [[1, 2], [3, 4]]\n",
        "b = np.array(lista)"
      ],
      "metadata": {
        "id": "nrsM46a7UyjI"
      },
      "execution_count": null,
      "outputs": []
    },
    {
      "cell_type": "code",
      "source": [
        "printa('b', b)"
      ],
      "metadata": {
        "colab": {
          "base_uri": "https://localhost:8080/"
        },
        "id": "ZcjJ2G8zVOtQ",
        "outputId": "8e6d659a-e562-4bbb-f319-8028328811a8"
      },
      "execution_count": null,
      "outputs": [
        {
          "output_type": "execute_result",
          "data": {
            "text/plain": [
              "('b', array([[1, 2],\n",
              "        [3, 4]]))"
            ]
          },
          "metadata": {},
          "execution_count": 134
        }
      ]
    },
    {
      "cell_type": "code",
      "source": [
        "shape(b)"
      ],
      "metadata": {
        "colab": {
          "base_uri": "https://localhost:8080/"
        },
        "id": "WUjs9nVIV7Nf",
        "outputId": "ec22277a-2ee5-459f-b0fa-808ac105b933"
      },
      "execution_count": null,
      "outputs": [
        {
          "output_type": "execute_result",
          "data": {
            "text/plain": [
              "('shape: ', (2, 2))"
            ]
          },
          "metadata": {},
          "execution_count": 83
        }
      ]
    },
    {
      "cell_type": "code",
      "source": [
        "type(b)"
      ],
      "metadata": {
        "colab": {
          "base_uri": "https://localhost:8080/"
        },
        "id": "RodgXSCpWBNn",
        "outputId": "025e74c9-5113-4111-c58b-4e6ab4a84261"
      },
      "execution_count": null,
      "outputs": [
        {
          "output_type": "execute_result",
          "data": {
            "text/plain": [
              "numpy.ndarray"
            ]
          },
          "metadata": {},
          "execution_count": 85
        }
      ]
    },
    {
      "cell_type": "markdown",
      "source": [
        "### 1.3 Array contendo apenas 0's"
      ],
      "metadata": {
        "id": "gDqF8GCoWHkC"
      }
    },
    {
      "cell_type": "code",
      "source": [
        "dim = (3, 2)\n",
        "c = np.zeros(dim)"
      ],
      "metadata": {
        "id": "ArteQALDWFWp"
      },
      "execution_count": null,
      "outputs": []
    },
    {
      "cell_type": "code",
      "source": [
        "printa('c', c)"
      ],
      "metadata": {
        "colab": {
          "base_uri": "https://localhost:8080/"
        },
        "id": "MR47kSioWb9K",
        "outputId": "0c97e366-8655-49a9-a529-fab58dab0e65"
      },
      "execution_count": null,
      "outputs": [
        {
          "output_type": "execute_result",
          "data": {
            "text/plain": [
              "('c', array([[0., 0.],\n",
              "        [0., 0.],\n",
              "        [0., 0.]]))"
            ]
          },
          "metadata": {},
          "execution_count": 135
        }
      ]
    },
    {
      "cell_type": "code",
      "source": [
        "shape(c)"
      ],
      "metadata": {
        "colab": {
          "base_uri": "https://localhost:8080/"
        },
        "id": "771rh8mBWd-w",
        "outputId": "88a5e998-d41d-459a-e11e-247977eb4a51"
      },
      "execution_count": null,
      "outputs": [
        {
          "output_type": "execute_result",
          "data": {
            "text/plain": [
              "('shape: ', (3, 2))"
            ]
          },
          "metadata": {},
          "execution_count": 88
        }
      ]
    },
    {
      "cell_type": "markdown",
      "source": [
        "### 1.4 Array contendo apenas 1's"
      ],
      "metadata": {
        "id": "vzcgRqUAWhJr"
      }
    },
    {
      "cell_type": "code",
      "source": [
        "size = (2, 2)\n",
        "d = np.ones(size)"
      ],
      "metadata": {
        "id": "qIccfu4KWffk"
      },
      "execution_count": null,
      "outputs": []
    },
    {
      "cell_type": "code",
      "source": [
        "printa('d', d)"
      ],
      "metadata": {
        "colab": {
          "base_uri": "https://localhost:8080/"
        },
        "id": "YASme-j0WvId",
        "outputId": "c738ae1b-9c42-4906-9ed8-f49179a7ac2a"
      },
      "execution_count": null,
      "outputs": [
        {
          "output_type": "execute_result",
          "data": {
            "text/plain": [
              "('d', array([[1., 1.],\n",
              "        [1., 1.]]))"
            ]
          },
          "metadata": {},
          "execution_count": 136
        }
      ]
    },
    {
      "cell_type": "code",
      "source": [
        "shape(d)"
      ],
      "metadata": {
        "colab": {
          "base_uri": "https://localhost:8080/"
        },
        "id": "5x-nHSJPWzw1",
        "outputId": "cf34eaf5-a188-40d7-9fe5-2b1c90c089b4"
      },
      "execution_count": null,
      "outputs": [
        {
          "output_type": "execute_result",
          "data": {
            "text/plain": [
              "('shape: ', (2, 2))"
            ]
          },
          "metadata": {},
          "execution_count": 91
        }
      ]
    },
    {
      "cell_type": "markdown",
      "source": [
        "### 1.5 Criação de valores dentro de um intervalo"
      ],
      "metadata": {
        "id": "oiLginbKW3G6"
      }
    },
    {
      "cell_type": "code",
      "source": [
        "help(np.linspace)"
      ],
      "metadata": {
        "id": "bz7DpEtmXTxQ"
      },
      "execution_count": null,
      "outputs": []
    },
    {
      "cell_type": "code",
      "source": [
        "x_min, x_max = 5, 15\n",
        "e = np.linspace(start=x_min, stop=x_max, num=6)"
      ],
      "metadata": {
        "id": "KfzF0xRAW1PI"
      },
      "execution_count": null,
      "outputs": []
    },
    {
      "cell_type": "code",
      "source": [
        "printa('e', e)"
      ],
      "metadata": {
        "colab": {
          "base_uri": "https://localhost:8080/"
        },
        "id": "K_6Fq7u5XIFr",
        "outputId": "5ec46db9-2394-400f-8899-b07a35921c17"
      },
      "execution_count": null,
      "outputs": [
        {
          "output_type": "execute_result",
          "data": {
            "text/plain": [
              "('e', array([ 5.,  7.,  9., 11., 13., 15.]))"
            ]
          },
          "metadata": {},
          "execution_count": 137
        }
      ]
    },
    {
      "cell_type": "code",
      "source": [
        "shape(e)"
      ],
      "metadata": {
        "colab": {
          "base_uri": "https://localhost:8080/"
        },
        "id": "gmVKQomcXQcN",
        "outputId": "23407377-7058-492c-d512-175f23a8fbbf"
      },
      "execution_count": null,
      "outputs": [
        {
          "output_type": "execute_result",
          "data": {
            "text/plain": [
              "('shape: ', (6,))"
            ]
          },
          "metadata": {},
          "execution_count": 94
        }
      ]
    },
    {
      "cell_type": "markdown",
      "source": [
        "#### 1.6 Criação da matriz identidade"
      ],
      "metadata": {
        "id": "8oROdbmQXqXq"
      }
    },
    {
      "cell_type": "code",
      "source": [
        "n = 4 # recebe o mesmo numero de linhas e colunas\n",
        "x = np.eye(n)"
      ],
      "metadata": {
        "id": "ax8uFRHtXqLR"
      },
      "execution_count": null,
      "outputs": []
    },
    {
      "cell_type": "code",
      "source": [
        "print('x:\\n', x)"
      ],
      "metadata": {
        "colab": {
          "base_uri": "https://localhost:8080/"
        },
        "id": "IbgtVH00XRUr",
        "outputId": "25a4402a-cd1e-48d0-d156-d10d97d2c43a"
      },
      "execution_count": null,
      "outputs": [
        {
          "output_type": "stream",
          "name": "stdout",
          "text": [
            "x:\n",
            " [[1. 0. 0. 0.]\n",
            " [0. 1. 0. 0.]\n",
            " [0. 0. 1. 0.]\n",
            " [0. 0. 0. 1.]]\n"
          ]
        }
      ]
    },
    {
      "cell_type": "code",
      "source": [
        "print('shape:', x.shape)"
      ],
      "metadata": {
        "colab": {
          "base_uri": "https://localhost:8080/"
        },
        "id": "zUR69G7AX0xZ",
        "outputId": "d22073f4-e49f-48b9-d46d-c966b2ee875b"
      },
      "execution_count": null,
      "outputs": [
        {
          "output_type": "stream",
          "name": "stdout",
          "text": [
            "shape: (4, 4)\n"
          ]
        }
      ]
    },
    {
      "cell_type": "markdown",
      "source": [
        "### 1.6 Criação de valores aleatórios"
      ],
      "metadata": {
        "id": "tYhKGZZUYP3O"
      }
    },
    {
      "cell_type": "code",
      "source": [
        "f = np.random.random(size=(2, 3))"
      ],
      "metadata": {
        "id": "jg5ucDF2X14I"
      },
      "execution_count": null,
      "outputs": []
    },
    {
      "cell_type": "code",
      "source": [
        "printa('f', f)"
      ],
      "metadata": {
        "colab": {
          "base_uri": "https://localhost:8080/"
        },
        "id": "Fo58HK1sYZyM",
        "outputId": "9cb59fcc-0c81-441e-ad60-95bf75425ce0"
      },
      "execution_count": null,
      "outputs": [
        {
          "output_type": "execute_result",
          "data": {
            "text/plain": [
              "('f', array([[0.77132064, 0.02075195, 0.63364823],\n",
              "        [0.74880388, 0.49850701, 0.22479665]]))"
            ]
          },
          "metadata": {},
          "execution_count": 138
        }
      ]
    },
    {
      "cell_type": "code",
      "source": [
        "shape(f)"
      ],
      "metadata": {
        "colab": {
          "base_uri": "https://localhost:8080/"
        },
        "id": "AUTpKi7ZYbd5",
        "outputId": "e5da624a-f2e4-4a83-d9de-2b2d45bbc23e"
      },
      "execution_count": null,
      "outputs": [
        {
          "output_type": "execute_result",
          "data": {
            "text/plain": [
              "('shape: ', (2, 3))"
            ]
          },
          "metadata": {},
          "execution_count": 97
        }
      ]
    },
    {
      "cell_type": "markdown",
      "source": [
        "## 2. Indexação de arrays"
      ],
      "metadata": {
        "id": "lnh1mJlVaq4R"
      }
    },
    {
      "cell_type": "code",
      "source": [
        "g = np.linspace(10, 100, num=10)"
      ],
      "metadata": {
        "id": "_E8QE2ALYcoP"
      },
      "execution_count": null,
      "outputs": []
    },
    {
      "cell_type": "code",
      "source": [
        "printa('g', g)"
      ],
      "metadata": {
        "colab": {
          "base_uri": "https://localhost:8080/"
        },
        "id": "i0TkU1sra22p",
        "outputId": "8701aa0f-5f87-4ce6-af51-3d0f6b164abb"
      },
      "execution_count": null,
      "outputs": [
        {
          "output_type": "execute_result",
          "data": {
            "text/plain": [
              "('g', array([ 10.,  20.,  30.,  40.,  50.,  60.,  70.,  80.,  90., 100.]))"
            ]
          },
          "metadata": {},
          "execution_count": 139
        }
      ]
    },
    {
      "cell_type": "markdown",
      "source": [
        "### 2.1 Arrays 1D"
      ],
      "metadata": {
        "id": "ju-t06vha7aO"
      }
    },
    {
      "cell_type": "markdown",
      "source": [
        "#### 2.1.1 Extração de elementos"
      ],
      "metadata": {
        "id": "OaLmpPKtgMdD"
      }
    },
    {
      "cell_type": "code",
      "source": [
        "print('1:', g[0])\n",
        "print('2:', g[1])\n",
        "print('10:', g[9])\n",
        "print('10:', g[-1])"
      ],
      "metadata": {
        "colab": {
          "base_uri": "https://localhost:8080/"
        },
        "id": "Hw87QBFbdys2",
        "outputId": "3342a548-51d2-43e6-efb0-b5622470ea1b"
      },
      "execution_count": null,
      "outputs": [
        {
          "output_type": "stream",
          "name": "stdout",
          "text": [
            "1: 10.0\n",
            "2: 20.0\n",
            "10: 100.0\n",
            "10: 100.0\n"
          ]
        }
      ]
    },
    {
      "cell_type": "markdown",
      "source": [
        "#### 2.1.2 Slicing: extração de subarrays"
      ],
      "metadata": {
        "id": "Pxz9bOsdbP_G"
      }
    },
    {
      "cell_type": "code",
      "source": [
        "print('1 e 2:', g[0:2])\n",
        "print('1 e 2:', g[:2])\n",
        "print('9 e 10:', g[-2:])\n",
        "print('9 e 10:', g[8:])"
      ],
      "metadata": {
        "colab": {
          "base_uri": "https://localhost:8080/"
        },
        "id": "_7DpNSesbNi6",
        "outputId": "b864bac1-c875-46b6-8adf-a58fff864ece"
      },
      "execution_count": null,
      "outputs": [
        {
          "output_type": "stream",
          "name": "stdout",
          "text": [
            "1 e 2: [10. 20.]\n",
            "1 e 2: [10. 20.]\n",
            "9 e 10: [ 90. 100.]\n",
            "9 e 10: [ 90. 100.]\n"
          ]
        }
      ]
    },
    {
      "cell_type": "markdown",
      "source": [
        "### 2.2 Reshape de arrays 2D (matrizes)"
      ],
      "metadata": {
        "id": "Os3YCbIpb1Rc"
      }
    },
    {
      "cell_type": "code",
      "source": [
        "h = g.reshape(2, 5) # reshape de g para 2 linhas e 5 colunas"
      ],
      "metadata": {
        "id": "0qxO5FVqbd3Y"
      },
      "execution_count": null,
      "outputs": []
    },
    {
      "cell_type": "code",
      "source": [
        "printa('h', h)"
      ],
      "metadata": {
        "colab": {
          "base_uri": "https://localhost:8080/"
        },
        "id": "Z8G6qPIYcARx",
        "outputId": "58e27dfc-2343-49e8-91ab-74f46fd34102"
      },
      "execution_count": null,
      "outputs": [
        {
          "output_type": "execute_result",
          "data": {
            "text/plain": [
              "('h', array([[ 10.,  20.,  30.,  40.,  50.],\n",
              "        [ 60.,  70.,  80.,  90., 100.]]))"
            ]
          },
          "metadata": {},
          "execution_count": 140
        }
      ]
    },
    {
      "cell_type": "code",
      "source": [
        "i = g.reshape(5, 2) # reshape de g para 5 linhas e 2 colunas"
      ],
      "metadata": {
        "id": "BM_n1QHhcDYz"
      },
      "execution_count": null,
      "outputs": []
    },
    {
      "cell_type": "code",
      "source": [
        "printa('i', i)"
      ],
      "metadata": {
        "colab": {
          "base_uri": "https://localhost:8080/"
        },
        "id": "MtQgOwUieQ7j",
        "outputId": "f7c19607-3a14-41cd-f891-bebab8f9be81"
      },
      "execution_count": null,
      "outputs": [
        {
          "output_type": "execute_result",
          "data": {
            "text/plain": [
              "('i', array([[ 10.,  20.],\n",
              "        [ 30.,  40.],\n",
              "        [ 50.,  60.],\n",
              "        [ 70.,  80.],\n",
              "        [ 90., 100.]]))"
            ]
          },
          "metadata": {},
          "execution_count": 141
        }
      ]
    },
    {
      "cell_type": "markdown",
      "source": [
        "#### 2.2.1 Extração de elementos"
      ],
      "metadata": {
        "id": "awUif5rEgqLy"
      }
    },
    {
      "cell_type": "code",
      "source": [
        "print('primeira linha, segunda coluna', h[0, 1])\n",
        "print('segunda linha, penultima coluna', h[1, -2])\n",
        "print('ultima linha, ultima coluna', h[-1, -1])\n",
        "print('ultima linha, ultima coluna', h[1, 4])"
      ],
      "metadata": {
        "colab": {
          "base_uri": "https://localhost:8080/"
        },
        "id": "cCPXMoP3eRmE",
        "outputId": "0ea6ed37-929e-4f91-ae05-3c37b2a7fc52"
      },
      "execution_count": null,
      "outputs": [
        {
          "output_type": "stream",
          "name": "stdout",
          "text": [
            "primeira linha, segunda coluna 20.0\n",
            "segunda linha, penultima coluna 90.0\n",
            "ultima linha, ultima coluna 100.0\n",
            "ultima linha, ultima coluna 100.0\n"
          ]
        }
      ]
    },
    {
      "cell_type": "markdown",
      "source": [
        "#### 2.2.2 Slicing: estração de subarrays"
      ],
      "metadata": {
        "id": "aAW0YGgWgv6l"
      }
    },
    {
      "cell_type": "code",
      "source": [
        "print('primeira linha inteira', h[0, :])\n",
        "print('primeira linha, segunda a quarta coluna', h[0, 1:4])\n",
        "print('ultima coluna inteira\\n', h[:, [-1]]) # ao inserir o indice da coluna, ele retona na dimensao correta\n",
        "print('ultima coluna inteira fora da dimensao', h[:, -1]) # fora da dimensao, veio como linha, sendo que é coluna"
      ],
      "metadata": {
        "colab": {
          "base_uri": "https://localhost:8080/"
        },
        "id": "msNnqsunejW7",
        "outputId": "b8b6a8b8-b30f-4d0e-c491-1943e20d8058"
      },
      "execution_count": null,
      "outputs": [
        {
          "output_type": "stream",
          "name": "stdout",
          "text": [
            "primeira linha inteira [10. 20. 30. 40. 50.]\n",
            "primeira linha, segunda a quarta coluna [20. 30. 40.]\n",
            "ultima coluna inteira\n",
            " [[ 50.]\n",
            " [100.]]\n",
            "ultima coluna inteira fora da dimensao [ 50. 100.]\n"
          ]
        }
      ]
    },
    {
      "cell_type": "markdown",
      "source": [
        "### 2.3 Compartilhamento de memória em subarrays"
      ],
      "metadata": {
        "id": "PRDwEOmriZyQ"
      }
    },
    {
      "cell_type": "code",
      "source": [
        "j = np.array([1, 2, 3])\n",
        "printa('j antes', j)"
      ],
      "metadata": {
        "colab": {
          "base_uri": "https://localhost:8080/"
        },
        "id": "npA-wpk2hGo4",
        "outputId": "c0db0600-58c4-41c9-ed29-5f14350e40b2"
      },
      "execution_count": null,
      "outputs": [
        {
          "output_type": "execute_result",
          "data": {
            "text/plain": [
              "('j antes', array([1, 2, 3]))"
            ]
          },
          "metadata": {},
          "execution_count": 146
        }
      ]
    },
    {
      "cell_type": "code",
      "source": [
        "k = j[:2]\n",
        "k[0] = -100 # alteração de valor em K altera o valor de J\n",
        "printa('j depois', j)"
      ],
      "metadata": {
        "colab": {
          "base_uri": "https://localhost:8080/"
        },
        "id": "qa_exACaiqzr",
        "outputId": "115ede87-cbd4-4f04-cbbd-507fcad233a0"
      },
      "execution_count": null,
      "outputs": [
        {
          "output_type": "execute_result",
          "data": {
            "text/plain": [
              "('j depois', array([-100,    2,    3]))"
            ]
          },
          "metadata": {},
          "execution_count": 147
        }
      ]
    },
    {
      "cell_type": "code",
      "source": [
        "# para que isso não ocorra, precisa usar o copy()\n",
        "l = j[:2].copy()\n",
        "l[0] = 10\n",
        "printa('j', j)"
      ],
      "metadata": {
        "colab": {
          "base_uri": "https://localhost:8080/"
        },
        "id": "pSuR61KZjeAj",
        "outputId": "88d396a9-ffdd-4391-80c5-c84257347fcd"
      },
      "execution_count": null,
      "outputs": [
        {
          "output_type": "execute_result",
          "data": {
            "text/plain": [
              "('j', array([-100,    2,    3]))"
            ]
          },
          "metadata": {},
          "execution_count": 150
        }
      ]
    },
    {
      "cell_type": "markdown",
      "source": [
        "## 3. Funções aritméticas"
      ],
      "metadata": {
        "id": "rffbwupymSk6"
      }
    },
    {
      "cell_type": "code",
      "source": [
        "base_um = np.ones((2, 2))\n",
        "printa('base_um', base_um)"
      ],
      "metadata": {
        "colab": {
          "base_uri": "https://localhost:8080/"
        },
        "id": "lhXRl7VpkNH2",
        "outputId": "ee67bb1e-7d15-498b-8687-f140061d2ed2"
      },
      "execution_count": null,
      "outputs": [
        {
          "output_type": "execute_result",
          "data": {
            "text/plain": [
              "('base_um', array([[1., 1.],\n",
              "        [1., 1.]]))"
            ]
          },
          "metadata": {},
          "execution_count": 153
        }
      ]
    },
    {
      "cell_type": "code",
      "source": [
        "base_dois = np.eye(2)\n",
        "printa('base_dois', base_dois)"
      ],
      "metadata": {
        "colab": {
          "base_uri": "https://localhost:8080/"
        },
        "id": "10yysbPNnHVZ",
        "outputId": "bee8634e-28b1-45e7-ba4a-1dba7af32148"
      },
      "execution_count": null,
      "outputs": [
        {
          "output_type": "execute_result",
          "data": {
            "text/plain": [
              "('base_dois', array([[1., 0.],\n",
              "        [0., 1.]]))"
            ]
          },
          "metadata": {},
          "execution_count": 154
        }
      ]
    },
    {
      "cell_type": "markdown",
      "source": [
        "### 3.1 Soma"
      ],
      "metadata": {
        "id": "a7pJ4gPznTsl"
      }
    },
    {
      "cell_type": "code",
      "source": [
        "print('soma de dois arrays:\\n', base_um + base_dois)\n",
        "print('soma com float/int:\\n', base_um + 2) # broadcasting"
      ],
      "metadata": {
        "colab": {
          "base_uri": "https://localhost:8080/"
        },
        "id": "Tx9g6OX4nN4B",
        "outputId": "23f7a771-284c-4248-adb8-e2c65e1f93d0"
      },
      "execution_count": null,
      "outputs": [
        {
          "output_type": "stream",
          "name": "stdout",
          "text": [
            "soma de dois arrays:\n",
            " [[2. 1.]\n",
            " [1. 2.]]\n",
            "soma com float/int:\n",
            " [[3. 3.]\n",
            " [3. 3.]]\n"
          ]
        }
      ]
    },
    {
      "cell_type": "markdown",
      "source": [
        "### 3.2 Subtração"
      ],
      "metadata": {
        "id": "EvnpmenCnoS8"
      }
    },
    {
      "cell_type": "code",
      "source": [
        "print('substração de dois arrays:\\n', base_um - base_dois)\n",
        "print('substração com float/int:\\n', base_um - 2) # broadcasting"
      ],
      "metadata": {
        "colab": {
          "base_uri": "https://localhost:8080/"
        },
        "id": "AIWHjMqMnlHc",
        "outputId": "aa3fc17c-c30e-45f9-d29f-26b999058a3e"
      },
      "execution_count": null,
      "outputs": [
        {
          "output_type": "stream",
          "name": "stdout",
          "text": [
            "substração de dois arrays:\n",
            " [[0. 1.]\n",
            " [1. 0.]]\n",
            "substração com float/int:\n",
            " [[-1. -1.]\n",
            " [-1. -1.]]\n"
          ]
        }
      ]
    },
    {
      "cell_type": "markdown",
      "source": [
        "### 3.3 Divisão"
      ],
      "metadata": {
        "id": "8LusEViwn-N4"
      }
    },
    {
      "cell_type": "code",
      "source": [
        "print('divisao de dois arrays:\\n', base_um / base_dois) # se for uma divisao por zero, retorna infinito\n",
        "print('divisao com float/int:\\n', base_um / 2) # broadcasting"
      ],
      "metadata": {
        "colab": {
          "base_uri": "https://localhost:8080/"
        },
        "id": "V77-uexVnzlM",
        "outputId": "9037e66f-3ccb-4e74-c123-622a3f3127f5"
      },
      "execution_count": null,
      "outputs": [
        {
          "output_type": "stream",
          "name": "stdout",
          "text": [
            "divisao de dois arrays:\n",
            " [[ 1. inf]\n",
            " [inf  1.]]\n",
            "divisao com float/int:\n",
            " [[0.5 0.5]\n",
            " [0.5 0.5]]\n"
          ]
        },
        {
          "output_type": "stream",
          "name": "stderr",
          "text": [
            "/usr/local/lib/python3.7/dist-packages/ipykernel_launcher.py:1: RuntimeWarning: divide by zero encountered in true_divide\n",
            "  \"\"\"Entry point for launching an IPython kernel.\n"
          ]
        }
      ]
    },
    {
      "cell_type": "markdown",
      "source": [
        "### 3.4 Broadcasting não funciona"
      ],
      "metadata": {
        "id": "W1yfKDlLozM2"
      }
    },
    {
      "cell_type": "code",
      "source": [
        "#np.array([1, 2, 3]) + np.array([1, 2])"
      ],
      "metadata": {
        "id": "-8iz33kko2gS"
      },
      "execution_count": null,
      "outputs": []
    },
    {
      "cell_type": "markdown",
      "source": [
        "### 3.5 Combinação de operações"
      ],
      "metadata": {
        "id": "5zgxnRcvowYV"
      }
    },
    {
      "cell_type": "code",
      "source": [
        "print('combinação de operações:\\n', (base_um + base_dois) / (base_um - 2))"
      ],
      "metadata": {
        "colab": {
          "base_uri": "https://localhost:8080/"
        },
        "id": "TGveHx8goFBo",
        "outputId": "36e41c84-5ebc-4500-9ff1-255fb887d3ac"
      },
      "execution_count": null,
      "outputs": [
        {
          "output_type": "stream",
          "name": "stdout",
          "text": [
            "combinação de operações:\n",
            " [[-2. -1.]\n",
            " [-1. -2.]]\n"
          ]
        }
      ]
    },
    {
      "cell_type": "markdown",
      "source": [
        "### 3.6 Multiplicação"
      ],
      "metadata": {
        "id": "YfHTLUN4piGb"
      }
    },
    {
      "cell_type": "markdown",
      "source": [
        "#### 3.6.1 Elemento a elemento"
      ],
      "metadata": {
        "id": "6Xv7-EhTpl4j"
      }
    },
    {
      "cell_type": "code",
      "source": [
        "print('multiplicação de dois arrays:\\n', base_um * base_dois)\n",
        "print('multiplicação com float/int:\\n', base_dois * 2) # broadcasting"
      ],
      "metadata": {
        "colab": {
          "base_uri": "https://localhost:8080/"
        },
        "id": "8waBjXxrpN4t",
        "outputId": "187e6745-e126-4e1b-968a-e4d011a762fa"
      },
      "execution_count": null,
      "outputs": [
        {
          "output_type": "stream",
          "name": "stdout",
          "text": [
            "multiplicação de dois arrays:\n",
            " [[1. 0.]\n",
            " [0. 1.]]\n",
            "multiplicação com float/int:\n",
            " [[2. 0.]\n",
            " [0. 2.]]\n"
          ]
        }
      ]
    },
    {
      "cell_type": "markdown",
      "source": [
        "#### 3.6.2 Matricial"
      ],
      "metadata": {
        "id": "P5oYaeRIqSbr"
      }
    },
    {
      "cell_type": "code",
      "source": [
        "print('multiplicação matricial (np.dot):\\n', np.dot(base_um, base_dois))\n",
        "print('multiplicação matricial (@):\\n',base_um @ base_dois)\n",
        "print('multiplicação matricial (.dot):\\n', base_um.dot(base_dois))"
      ],
      "metadata": {
        "colab": {
          "base_uri": "https://localhost:8080/"
        },
        "id": "P1K-MV3sp-Tx",
        "outputId": "d4f30e44-0d13-46bd-fc2f-f49137d18a44"
      },
      "execution_count": null,
      "outputs": [
        {
          "output_type": "stream",
          "name": "stdout",
          "text": [
            "multiplicação matricial (np.dot):\n",
            " [[1. 1.]\n",
            " [1. 1.]]\n",
            "multiplicação matricial (@):\n",
            " [[1. 1.]\n",
            " [1. 1.]]\n",
            "multiplicação matricial (.dot):\n",
            " [[1. 1.]\n",
            " [1. 1.]]\n"
          ]
        }
      ]
    },
    {
      "cell_type": "markdown",
      "source": [
        "## 4. Comparações"
      ],
      "metadata": {
        "id": "uaOyptIA2G-Y"
      }
    },
    {
      "cell_type": "code",
      "source": [
        "m_um = np.array([[1, 2], [3, 4]])\n",
        "printa('um:', m_um)"
      ],
      "metadata": {
        "id": "GlwkIM08q5YZ"
      },
      "execution_count": null,
      "outputs": []
    },
    {
      "cell_type": "code",
      "source": [
        "m_dois = np.array([1.5, 3.5])\n",
        "printa('dois:', m_dois)"
      ],
      "metadata": {
        "id": "Suh95dSS24p3"
      },
      "execution_count": null,
      "outputs": []
    },
    {
      "cell_type": "markdown",
      "source": [
        "### 4.1 Comparações elemento a elemento"
      ],
      "metadata": {
        "id": "3UD05LNr3JvQ"
      }
    },
    {
      "cell_type": "code",
      "source": [
        "print('comparaçção de um array com um escalar (>):\\n', m_um > 2)\n",
        "print('comparaçção de um array com um escalar (>=):\\n', m_um >= 2)\n",
        "print('comparaçção de um array com um escalar (<):\\n', m_um < 2)\n",
        "print('comparaçção de um array com um escalar (<=):\\n', m_um <= 2)\n",
        "print('comparação entre arrays (==):\\n', m_um == m_um)\n",
        "print('comparação entre arrays (>):\\n', m_um > m_um)\n",
        "print('comparação entre arrays (>):\\n', m_um > m_dois) # broadcasting\n",
        "print('comparação entre arrays (<):\\n', m_um < m_dois) # broadcasting"
      ],
      "metadata": {
        "id": "7yXK0EwF3Dgf"
      },
      "execution_count": null,
      "outputs": []
    },
    {
      "cell_type": "markdown",
      "source": [
        "## 5. Indexação booleana"
      ],
      "metadata": {
        "id": "3gbWLS0A4fgB"
      }
    },
    {
      "cell_type": "code",
      "source": [
        "base = np.array([[1, 3, 7], [4, 11, 21], [42, 8, 9]])\n",
        "print('x:\\n', base)"
      ],
      "metadata": {
        "colab": {
          "base_uri": "https://localhost:8080/"
        },
        "id": "GJvBLc3733Q9",
        "outputId": "896ea648-7525-4c1c-ebca-514ee20ab2d5"
      },
      "execution_count": null,
      "outputs": [
        {
          "output_type": "stream",
          "name": "stdout",
          "text": [
            "x:\n",
            " [[ 1  3  7]\n",
            " [ 4 11 21]\n",
            " [42  8  9]]\n"
          ]
        }
      ]
    },
    {
      "cell_type": "markdown",
      "source": [
        "### 5.1 Retornar o numero de elementos maiores que a variavel K"
      ],
      "metadata": {
        "id": "O4c8cAJ647Je"
      }
    },
    {
      "cell_type": "code",
      "source": [
        "k = 10\n",
        "cond = base > k\n",
        "print('condição:\\n', cond)\n",
        "print(f'elementos maiores que {k}:', base[cond])\n",
        "print(f'numeros de elementos maiores que {k}:', len(base[cond]))"
      ],
      "metadata": {
        "colab": {
          "base_uri": "https://localhost:8080/"
        },
        "id": "tZhojsFR4zQr",
        "outputId": "e711a65f-bea1-40a9-dcbd-03810c457183"
      },
      "execution_count": null,
      "outputs": [
        {
          "output_type": "stream",
          "name": "stdout",
          "text": [
            "condição:\n",
            " [[False False False]\n",
            " [False  True  True]\n",
            " [ True False False]]\n",
            "elementos maiores que 10: [11 21 42]\n",
            "numeros de elementos maiores que 10: 3\n"
          ]
        }
      ]
    },
    {
      "cell_type": "markdown",
      "source": [
        "### 5.2 Extração dos números pares"
      ],
      "metadata": {
        "id": "fBzUIllR59Cv"
      }
    },
    {
      "cell_type": "code",
      "source": [
        "cond = base % 2 == 0\n",
        "print('condição:\\n', cond)\n",
        "print('numeros pares:', base[cond])"
      ],
      "metadata": {
        "colab": {
          "base_uri": "https://localhost:8080/"
        },
        "id": "RvzhdJxr5Ywl",
        "outputId": "f3aa3e7e-b516-445f-b55e-dedfb91cf413"
      },
      "execution_count": null,
      "outputs": [
        {
          "output_type": "stream",
          "name": "stdout",
          "text": [
            "condição:\n",
            " [[False False False]\n",
            " [ True False False]\n",
            " [ True  True False]]\n",
            "numeros pares: [ 4 42  8]\n"
          ]
        }
      ]
    },
    {
      "cell_type": "markdown",
      "source": [
        "### 5.3 Extração de números impares"
      ],
      "metadata": {
        "id": "gXw3uunK6qGZ"
      }
    },
    {
      "cell_type": "code",
      "source": [
        "cond = base % 2 == 1\n",
        "print('condição:\\n', cond)\n",
        "print('numeros pares:', base[cond])"
      ],
      "metadata": {
        "colab": {
          "base_uri": "https://localhost:8080/"
        },
        "id": "wAa0IML66WAb",
        "outputId": "d1bb1641-f86c-47e0-84fe-4518b9e38eb9"
      },
      "execution_count": null,
      "outputs": [
        {
          "output_type": "stream",
          "name": "stdout",
          "text": [
            "condição:\n",
            " [[ True  True  True]\n",
            " [False  True  True]\n",
            " [False False  True]]\n",
            "numeros pares: [ 1  3  7 11 21  9]\n"
          ]
        }
      ]
    },
    {
      "cell_type": "markdown",
      "source": [
        "## 6. Dicas úteis"
      ],
      "metadata": {
        "id": "jvp-jRHbY8Ek"
      }
    },
    {
      "cell_type": "code",
      "source": [
        "base = np.array([[1, 3, 7], [4, 11, 21], [42, 8, 9]])\n",
        "print('x:\\n', base)"
      ],
      "metadata": {
        "id": "0GuyhMd16xCk",
        "colab": {
          "base_uri": "https://localhost:8080/"
        },
        "outputId": "7ac76ec4-ac1a-47d9-d4e1-8175777d5b0b"
      },
      "execution_count": null,
      "outputs": [
        {
          "output_type": "stream",
          "name": "stdout",
          "text": [
            "x:\n",
            " [[ 1  3  7]\n",
            " [ 4 11 21]\n",
            " [42  8  9]]\n"
          ]
        }
      ]
    },
    {
      "cell_type": "markdown",
      "source": [
        "### 6.1 reshape: transformar a matriz em um vetor coluna e um vetor linha"
      ],
      "metadata": {
        "id": "OG4DXyJ8ZO60"
      }
    },
    {
      "cell_type": "code",
      "source": [
        "print('transformação de uma matriz em um vetor coluna:\\n', base.reshape(9,1))\n",
        "print('transformação de uma matriz em um vetor linha:\\n', base.reshape(1,9))"
      ],
      "metadata": {
        "id": "mQp_0aCxZGE8"
      },
      "execution_count": null,
      "outputs": []
    },
    {
      "cell_type": "markdown",
      "source": [
        "### 6.2 Transposição de matriz > o que era linha vira coluna e o que era coluna vira linha"
      ],
      "metadata": {
        "id": "yky_IunTaJlt"
      }
    },
    {
      "cell_type": "code",
      "source": [
        "print('base transposta:\\n', base.T)"
      ],
      "metadata": {
        "colab": {
          "base_uri": "https://localhost:8080/"
        },
        "id": "lrah5VSDZnaf",
        "outputId": "a0b86ac8-c148-41f3-ccbf-76854a188bb3"
      },
      "execution_count": null,
      "outputs": [
        {
          "output_type": "stream",
          "name": "stdout",
          "text": [
            "base transposta:\n",
            " [[ 1  4 42]\n",
            " [ 3 11  8]\n",
            " [ 7 21  9]]\n"
          ]
        }
      ]
    },
    {
      "cell_type": "markdown",
      "source": [
        "### 6.3 np.sum e np.mean"
      ],
      "metadata": {
        "id": "0ka-bRixaUjD"
      }
    },
    {
      "cell_type": "markdown",
      "source": [
        "#### 6.3.1 soma em um dado eixo, axis = {0: linha, 1: coluna}"
      ],
      "metadata": {
        "id": "_1eoZEnQaYmV"
      }
    },
    {
      "cell_type": "code",
      "source": [
        "print('soma de todos elementos da base:\\n', np.sum(base))\n",
        "print('soma da base ao longo das linhas:', np.sum(base, axis=0))\n",
        "print('soma da base ao longo das colunas:', np.sum(base, axis=1))"
      ],
      "metadata": {
        "colab": {
          "base_uri": "https://localhost:8080/"
        },
        "id": "EAj-0ldMZ86m",
        "outputId": "e91be5cb-b3e8-4a09-fba3-16b8bcc04650"
      },
      "execution_count": null,
      "outputs": [
        {
          "output_type": "stream",
          "name": "stdout",
          "text": [
            "soma de todos elementos da base:\n",
            " 106\n",
            "soma da base ao longo das linhas: [47 22 37]\n",
            "soma da base ao longo das colunas: [11 36 59]\n"
          ]
        }
      ]
    },
    {
      "cell_type": "markdown",
      "source": [
        "#### 6.3.2 média em um dado eixo, axis = {0: linha, 1: coluna}"
      ],
      "metadata": {
        "id": "MVZFHXrRbPQS"
      }
    },
    {
      "cell_type": "code",
      "source": [
        "print('médi de todos elementos da base:\\n', np.mean(base))\n",
        "print('média da base ao longo das linhas:', np.mean(base, axis=0))\n",
        "print('média da base ao longo das colunas:', np.mean(base, axis=1))"
      ],
      "metadata": {
        "colab": {
          "base_uri": "https://localhost:8080/"
        },
        "id": "Eq7RSz8dapIR",
        "outputId": "91800390-cce3-48ee-f517-8938549494f3"
      },
      "execution_count": null,
      "outputs": [
        {
          "output_type": "stream",
          "name": "stdout",
          "text": [
            "médi de todos elementos da base:\n",
            " 11.777777777777779\n",
            "média da base ao longo das linhas: [15.66666667  7.33333333 12.33333333]\n",
            "média da base ao longo das colunas: [ 3.66666667 12.         19.66666667]\n"
          ]
        }
      ]
    },
    {
      "cell_type": "markdown",
      "source": [
        "### 6.4 np.where > identificação dos índices onde uma dada condição é atendida. Uso conjunto com indexação booleana"
      ],
      "metadata": {
        "id": "K_h-BOyJbpXj"
      }
    },
    {
      "cell_type": "code",
      "source": [
        "cond = base % 2 == 0\n",
        "print('condição:\\n', cond)\n",
        "y, z = np.where(cond)\n",
        "print('índice y (linhas):', y)\n",
        "print('índice z (colunas):', z)"
      ],
      "metadata": {
        "colab": {
          "base_uri": "https://localhost:8080/"
        },
        "id": "68Rrwqsybb76",
        "outputId": "7e1406cf-7d11-4db4-bc73-f59007144bcc"
      },
      "execution_count": null,
      "outputs": [
        {
          "output_type": "stream",
          "name": "stdout",
          "text": [
            "condição:\n",
            " [[False False False]\n",
            " [ True False False]\n",
            " [ True  True False]]\n",
            "índice y (linhas): [1 2 2]\n",
            "índice z (colunas): [0 0 1]\n"
          ]
        }
      ]
    },
    {
      "cell_type": "markdown",
      "source": [
        "### 6.5 indexação booleana e slicing"
      ],
      "metadata": {
        "id": "rMhoAhJjcdvL"
      }
    },
    {
      "cell_type": "markdown",
      "source": [
        "#### 6.5.1 selecionar as linhas que possuem algum numero par"
      ],
      "metadata": {
        "id": "1gioPkR7cpgi"
      }
    },
    {
      "cell_type": "code",
      "source": [
        "cond = base % 2 == 0\n",
        "print('condição:\\n', cond)\n",
        "\n",
        "# se houver alguma condiçao True na linha, a soma será > 0\n",
        "row = np.where(np.sum(cond, axis=1))[0]\n",
        "print('índice das linhas que possuem números pares:', row)\n",
        "print('linhas que possuem números pares: \\n', base[row, :])"
      ],
      "metadata": {
        "colab": {
          "base_uri": "https://localhost:8080/"
        },
        "id": "dkX2jZ76cNrd",
        "outputId": "53a02d5d-78c3-4252-f9c8-c7426bac2cc5"
      },
      "execution_count": null,
      "outputs": [
        {
          "output_type": "stream",
          "name": "stdout",
          "text": [
            "condição:\n",
            " [[False False False]\n",
            " [ True False False]\n",
            " [ True  True False]]\n",
            "índice das linhas que possuem números pares: [1 2]\n",
            "linhas que possuem números pares: \n",
            " [[ 4 11 21]\n",
            " [42  8  9]]\n"
          ]
        }
      ]
    },
    {
      "cell_type": "markdown",
      "source": [
        "# Pandas"
      ],
      "metadata": {
        "id": "FLPhsjfzdbRn"
      }
    },
    {
      "cell_type": "markdown",
      "source": [
        "> Pandas é um pacote em Python desenvolvido para disponibilizar\n",
        "estruturas de dados rápidas e flexíveis para se trabalhar com dados\n",
        "“relacionais” ou “rotulados”. Ele é adequado para diversos tipos de\n",
        "dados."
      ],
      "metadata": {
        "id": "cPPF4NyJf80N"
      }
    },
    {
      "cell_type": "markdown",
      "source": [
        "## 1. Leitura de dados"
      ],
      "metadata": {
        "id": "7JIrT9vdh6gV"
      }
    },
    {
      "cell_type": "markdown",
      "source": [
        "### 1.1 csv"
      ],
      "metadata": {
        "id": "ya1JSor1iRLx"
      }
    },
    {
      "cell_type": "code",
      "source": [
        "df = pd.read_csv('https://pycourse.s3.amazonaws.com/temperature.csv')\n",
        "df"
      ],
      "metadata": {
        "colab": {
          "base_uri": "https://localhost:8080/",
          "height": 237
        },
        "id": "FkT9sS8AdIxj",
        "outputId": "00914c9d-7aeb-41a6-b33d-cb71a4caa551"
      },
      "execution_count": 2,
      "outputs": [
        {
          "output_type": "execute_result",
          "data": {
            "text/plain": [
              "         date  temperatura classification\n",
              "0  2020-01-01         29.1         quente\n",
              "1  2020-02-01         31.2   muito quente\n",
              "2  2020-03-01         28.5         quente\n",
              "3  2020-04-01         28.0         quente\n",
              "4  2020-05-01         24.0    confortavel\n",
              "5  2020-06-01         20.0           frio"
            ],
            "text/html": [
              "\n",
              "  <div id=\"df-fe812892-ccd1-41a4-9972-89e66795ff83\">\n",
              "    <div class=\"colab-df-container\">\n",
              "      <div>\n",
              "<style scoped>\n",
              "    .dataframe tbody tr th:only-of-type {\n",
              "        vertical-align: middle;\n",
              "    }\n",
              "\n",
              "    .dataframe tbody tr th {\n",
              "        vertical-align: top;\n",
              "    }\n",
              "\n",
              "    .dataframe thead th {\n",
              "        text-align: right;\n",
              "    }\n",
              "</style>\n",
              "<table border=\"1\" class=\"dataframe\">\n",
              "  <thead>\n",
              "    <tr style=\"text-align: right;\">\n",
              "      <th></th>\n",
              "      <th>date</th>\n",
              "      <th>temperatura</th>\n",
              "      <th>classification</th>\n",
              "    </tr>\n",
              "  </thead>\n",
              "  <tbody>\n",
              "    <tr>\n",
              "      <th>0</th>\n",
              "      <td>2020-01-01</td>\n",
              "      <td>29.1</td>\n",
              "      <td>quente</td>\n",
              "    </tr>\n",
              "    <tr>\n",
              "      <th>1</th>\n",
              "      <td>2020-02-01</td>\n",
              "      <td>31.2</td>\n",
              "      <td>muito quente</td>\n",
              "    </tr>\n",
              "    <tr>\n",
              "      <th>2</th>\n",
              "      <td>2020-03-01</td>\n",
              "      <td>28.5</td>\n",
              "      <td>quente</td>\n",
              "    </tr>\n",
              "    <tr>\n",
              "      <th>3</th>\n",
              "      <td>2020-04-01</td>\n",
              "      <td>28.0</td>\n",
              "      <td>quente</td>\n",
              "    </tr>\n",
              "    <tr>\n",
              "      <th>4</th>\n",
              "      <td>2020-05-01</td>\n",
              "      <td>24.0</td>\n",
              "      <td>confortavel</td>\n",
              "    </tr>\n",
              "    <tr>\n",
              "      <th>5</th>\n",
              "      <td>2020-06-01</td>\n",
              "      <td>20.0</td>\n",
              "      <td>frio</td>\n",
              "    </tr>\n",
              "  </tbody>\n",
              "</table>\n",
              "</div>\n",
              "      <button class=\"colab-df-convert\" onclick=\"convertToInteractive('df-fe812892-ccd1-41a4-9972-89e66795ff83')\"\n",
              "              title=\"Convert this dataframe to an interactive table.\"\n",
              "              style=\"display:none;\">\n",
              "        \n",
              "  <svg xmlns=\"http://www.w3.org/2000/svg\" height=\"24px\"viewBox=\"0 0 24 24\"\n",
              "       width=\"24px\">\n",
              "    <path d=\"M0 0h24v24H0V0z\" fill=\"none\"/>\n",
              "    <path d=\"M18.56 5.44l.94 2.06.94-2.06 2.06-.94-2.06-.94-.94-2.06-.94 2.06-2.06.94zm-11 1L8.5 8.5l.94-2.06 2.06-.94-2.06-.94L8.5 2.5l-.94 2.06-2.06.94zm10 10l.94 2.06.94-2.06 2.06-.94-2.06-.94-.94-2.06-.94 2.06-2.06.94z\"/><path d=\"M17.41 7.96l-1.37-1.37c-.4-.4-.92-.59-1.43-.59-.52 0-1.04.2-1.43.59L10.3 9.45l-7.72 7.72c-.78.78-.78 2.05 0 2.83L4 21.41c.39.39.9.59 1.41.59.51 0 1.02-.2 1.41-.59l7.78-7.78 2.81-2.81c.8-.78.8-2.07 0-2.86zM5.41 20L4 18.59l7.72-7.72 1.47 1.35L5.41 20z\"/>\n",
              "  </svg>\n",
              "      </button>\n",
              "      \n",
              "  <style>\n",
              "    .colab-df-container {\n",
              "      display:flex;\n",
              "      flex-wrap:wrap;\n",
              "      gap: 12px;\n",
              "    }\n",
              "\n",
              "    .colab-df-convert {\n",
              "      background-color: #E8F0FE;\n",
              "      border: none;\n",
              "      border-radius: 50%;\n",
              "      cursor: pointer;\n",
              "      display: none;\n",
              "      fill: #1967D2;\n",
              "      height: 32px;\n",
              "      padding: 0 0 0 0;\n",
              "      width: 32px;\n",
              "    }\n",
              "\n",
              "    .colab-df-convert:hover {\n",
              "      background-color: #E2EBFA;\n",
              "      box-shadow: 0px 1px 2px rgba(60, 64, 67, 0.3), 0px 1px 3px 1px rgba(60, 64, 67, 0.15);\n",
              "      fill: #174EA6;\n",
              "    }\n",
              "\n",
              "    [theme=dark] .colab-df-convert {\n",
              "      background-color: #3B4455;\n",
              "      fill: #D2E3FC;\n",
              "    }\n",
              "\n",
              "    [theme=dark] .colab-df-convert:hover {\n",
              "      background-color: #434B5C;\n",
              "      box-shadow: 0px 1px 3px 1px rgba(0, 0, 0, 0.15);\n",
              "      filter: drop-shadow(0px 1px 2px rgba(0, 0, 0, 0.3));\n",
              "      fill: #FFFFFF;\n",
              "    }\n",
              "  </style>\n",
              "\n",
              "      <script>\n",
              "        const buttonEl =\n",
              "          document.querySelector('#df-fe812892-ccd1-41a4-9972-89e66795ff83 button.colab-df-convert');\n",
              "        buttonEl.style.display =\n",
              "          google.colab.kernel.accessAllowed ? 'block' : 'none';\n",
              "\n",
              "        async function convertToInteractive(key) {\n",
              "          const element = document.querySelector('#df-fe812892-ccd1-41a4-9972-89e66795ff83');\n",
              "          const dataTable =\n",
              "            await google.colab.kernel.invokeFunction('convertToInteractive',\n",
              "                                                     [key], {});\n",
              "          if (!dataTable) return;\n",
              "\n",
              "          const docLinkHtml = 'Like what you see? Visit the ' +\n",
              "            '<a target=\"_blank\" href=https://colab.research.google.com/notebooks/data_table.ipynb>data table notebook</a>'\n",
              "            + ' to learn more about interactive tables.';\n",
              "          element.innerHTML = '';\n",
              "          dataTable['output_type'] = 'display_data';\n",
              "          await google.colab.output.renderOutput(dataTable, element);\n",
              "          const docLink = document.createElement('div');\n",
              "          docLink.innerHTML = docLinkHtml;\n",
              "          element.appendChild(docLink);\n",
              "        }\n",
              "      </script>\n",
              "    </div>\n",
              "  </div>\n",
              "  "
            ]
          },
          "metadata": {},
          "execution_count": 2
        }
      ]
    },
    {
      "cell_type": "markdown",
      "source": [
        "### 1.2 excel"
      ],
      "metadata": {
        "id": "jXxpJydWiS0y"
      }
    },
    {
      "cell_type": "code",
      "source": [
        "# aqui vai ler o arquivo todo (todas as sheets)\n",
        "excel_file = pd.ExcelFile('https://pycourse.s3.amazonaws.com/temperature.xlsx')"
      ],
      "metadata": {
        "id": "Ti9gv8zyiNwD"
      },
      "execution_count": null,
      "outputs": []
    },
    {
      "cell_type": "code",
      "source": [
        "# leitura da primeira aba (sheet1)\n",
        "df2 = pd.read_excel(excel_file, sheet_name='Sheet1')\n",
        "df2"
      ],
      "metadata": {
        "colab": {
          "base_uri": "https://localhost:8080/",
          "height": 238
        },
        "id": "HpCtMxvcimJt",
        "outputId": "c873919b-4b9d-430a-d795-76d1a13226e8"
      },
      "execution_count": null,
      "outputs": [
        {
          "output_type": "execute_result",
          "data": {
            "text/plain": [
              "        date  temperatura classification\n",
              "0 2020-01-01         29.1         quente\n",
              "1 2020-02-01         31.2   muito quente\n",
              "2 2020-03-01         28.5         quente\n",
              "3 2020-04-01         28.0         quente\n",
              "4 2020-05-01         24.0    confortavel\n",
              "5 2020-06-01         20.0           frio"
            ],
            "text/html": [
              "\n",
              "  <div id=\"df-fd29c7c8-82af-46ac-a1ac-bbed0d7db3da\">\n",
              "    <div class=\"colab-df-container\">\n",
              "      <div>\n",
              "<style scoped>\n",
              "    .dataframe tbody tr th:only-of-type {\n",
              "        vertical-align: middle;\n",
              "    }\n",
              "\n",
              "    .dataframe tbody tr th {\n",
              "        vertical-align: top;\n",
              "    }\n",
              "\n",
              "    .dataframe thead th {\n",
              "        text-align: right;\n",
              "    }\n",
              "</style>\n",
              "<table border=\"1\" class=\"dataframe\">\n",
              "  <thead>\n",
              "    <tr style=\"text-align: right;\">\n",
              "      <th></th>\n",
              "      <th>date</th>\n",
              "      <th>temperatura</th>\n",
              "      <th>classification</th>\n",
              "    </tr>\n",
              "  </thead>\n",
              "  <tbody>\n",
              "    <tr>\n",
              "      <th>0</th>\n",
              "      <td>2020-01-01</td>\n",
              "      <td>29.1</td>\n",
              "      <td>quente</td>\n",
              "    </tr>\n",
              "    <tr>\n",
              "      <th>1</th>\n",
              "      <td>2020-02-01</td>\n",
              "      <td>31.2</td>\n",
              "      <td>muito quente</td>\n",
              "    </tr>\n",
              "    <tr>\n",
              "      <th>2</th>\n",
              "      <td>2020-03-01</td>\n",
              "      <td>28.5</td>\n",
              "      <td>quente</td>\n",
              "    </tr>\n",
              "    <tr>\n",
              "      <th>3</th>\n",
              "      <td>2020-04-01</td>\n",
              "      <td>28.0</td>\n",
              "      <td>quente</td>\n",
              "    </tr>\n",
              "    <tr>\n",
              "      <th>4</th>\n",
              "      <td>2020-05-01</td>\n",
              "      <td>24.0</td>\n",
              "      <td>confortavel</td>\n",
              "    </tr>\n",
              "    <tr>\n",
              "      <th>5</th>\n",
              "      <td>2020-06-01</td>\n",
              "      <td>20.0</td>\n",
              "      <td>frio</td>\n",
              "    </tr>\n",
              "  </tbody>\n",
              "</table>\n",
              "</div>\n",
              "      <button class=\"colab-df-convert\" onclick=\"convertToInteractive('df-fd29c7c8-82af-46ac-a1ac-bbed0d7db3da')\"\n",
              "              title=\"Convert this dataframe to an interactive table.\"\n",
              "              style=\"display:none;\">\n",
              "        \n",
              "  <svg xmlns=\"http://www.w3.org/2000/svg\" height=\"24px\"viewBox=\"0 0 24 24\"\n",
              "       width=\"24px\">\n",
              "    <path d=\"M0 0h24v24H0V0z\" fill=\"none\"/>\n",
              "    <path d=\"M18.56 5.44l.94 2.06.94-2.06 2.06-.94-2.06-.94-.94-2.06-.94 2.06-2.06.94zm-11 1L8.5 8.5l.94-2.06 2.06-.94-2.06-.94L8.5 2.5l-.94 2.06-2.06.94zm10 10l.94 2.06.94-2.06 2.06-.94-2.06-.94-.94-2.06-.94 2.06-2.06.94z\"/><path d=\"M17.41 7.96l-1.37-1.37c-.4-.4-.92-.59-1.43-.59-.52 0-1.04.2-1.43.59L10.3 9.45l-7.72 7.72c-.78.78-.78 2.05 0 2.83L4 21.41c.39.39.9.59 1.41.59.51 0 1.02-.2 1.41-.59l7.78-7.78 2.81-2.81c.8-.78.8-2.07 0-2.86zM5.41 20L4 18.59l7.72-7.72 1.47 1.35L5.41 20z\"/>\n",
              "  </svg>\n",
              "      </button>\n",
              "      \n",
              "  <style>\n",
              "    .colab-df-container {\n",
              "      display:flex;\n",
              "      flex-wrap:wrap;\n",
              "      gap: 12px;\n",
              "    }\n",
              "\n",
              "    .colab-df-convert {\n",
              "      background-color: #E8F0FE;\n",
              "      border: none;\n",
              "      border-radius: 50%;\n",
              "      cursor: pointer;\n",
              "      display: none;\n",
              "      fill: #1967D2;\n",
              "      height: 32px;\n",
              "      padding: 0 0 0 0;\n",
              "      width: 32px;\n",
              "    }\n",
              "\n",
              "    .colab-df-convert:hover {\n",
              "      background-color: #E2EBFA;\n",
              "      box-shadow: 0px 1px 2px rgba(60, 64, 67, 0.3), 0px 1px 3px 1px rgba(60, 64, 67, 0.15);\n",
              "      fill: #174EA6;\n",
              "    }\n",
              "\n",
              "    [theme=dark] .colab-df-convert {\n",
              "      background-color: #3B4455;\n",
              "      fill: #D2E3FC;\n",
              "    }\n",
              "\n",
              "    [theme=dark] .colab-df-convert:hover {\n",
              "      background-color: #434B5C;\n",
              "      box-shadow: 0px 1px 3px 1px rgba(0, 0, 0, 0.15);\n",
              "      filter: drop-shadow(0px 1px 2px rgba(0, 0, 0, 0.3));\n",
              "      fill: #FFFFFF;\n",
              "    }\n",
              "  </style>\n",
              "\n",
              "      <script>\n",
              "        const buttonEl =\n",
              "          document.querySelector('#df-fd29c7c8-82af-46ac-a1ac-bbed0d7db3da button.colab-df-convert');\n",
              "        buttonEl.style.display =\n",
              "          google.colab.kernel.accessAllowed ? 'block' : 'none';\n",
              "\n",
              "        async function convertToInteractive(key) {\n",
              "          const element = document.querySelector('#df-fd29c7c8-82af-46ac-a1ac-bbed0d7db3da');\n",
              "          const dataTable =\n",
              "            await google.colab.kernel.invokeFunction('convertToInteractive',\n",
              "                                                     [key], {});\n",
              "          if (!dataTable) return;\n",
              "\n",
              "          const docLinkHtml = 'Like what you see? Visit the ' +\n",
              "            '<a target=\"_blank\" href=https://colab.research.google.com/notebooks/data_table.ipynb>data table notebook</a>'\n",
              "            + ' to learn more about interactive tables.';\n",
              "          element.innerHTML = '';\n",
              "          dataTable['output_type'] = 'display_data';\n",
              "          await google.colab.output.renderOutput(dataTable, element);\n",
              "          const docLink = document.createElement('div');\n",
              "          docLink.innerHTML = docLinkHtml;\n",
              "          element.appendChild(docLink);\n",
              "        }\n",
              "      </script>\n",
              "    </div>\n",
              "  </div>\n",
              "  "
            ]
          },
          "metadata": {},
          "execution_count": 22
        }
      ]
    },
    {
      "cell_type": "code",
      "source": [
        "# leitura da segunda aba (sheet2)\n",
        "df3 = pd.read_excel(excel_file, sheet_name='Sheet2')\n",
        "df3"
      ],
      "metadata": {
        "colab": {
          "base_uri": "https://localhost:8080/",
          "height": 238
        },
        "id": "VR7iiR6FizjM",
        "outputId": "e47dc78f-0027-4725-9caa-5d25acc44988"
      },
      "execution_count": null,
      "outputs": [
        {
          "output_type": "execute_result",
          "data": {
            "text/plain": [
              "        date temperatura classification\n",
              "0 2020-01-01        29,1         quente\n",
              "1 2020-02-01        31,2   muito quente\n",
              "2 2020-03-01        28,5         quente\n",
              "3 2020-04-01        28,0         quente\n",
              "4 2020-05-01        24,0    confortavel\n",
              "5 2020-06-01        20,0           frio"
            ],
            "text/html": [
              "\n",
              "  <div id=\"df-1fc238fa-da7b-418f-aa15-42c0a1cb18cd\">\n",
              "    <div class=\"colab-df-container\">\n",
              "      <div>\n",
              "<style scoped>\n",
              "    .dataframe tbody tr th:only-of-type {\n",
              "        vertical-align: middle;\n",
              "    }\n",
              "\n",
              "    .dataframe tbody tr th {\n",
              "        vertical-align: top;\n",
              "    }\n",
              "\n",
              "    .dataframe thead th {\n",
              "        text-align: right;\n",
              "    }\n",
              "</style>\n",
              "<table border=\"1\" class=\"dataframe\">\n",
              "  <thead>\n",
              "    <tr style=\"text-align: right;\">\n",
              "      <th></th>\n",
              "      <th>date</th>\n",
              "      <th>temperatura</th>\n",
              "      <th>classification</th>\n",
              "    </tr>\n",
              "  </thead>\n",
              "  <tbody>\n",
              "    <tr>\n",
              "      <th>0</th>\n",
              "      <td>2020-01-01</td>\n",
              "      <td>29,1</td>\n",
              "      <td>quente</td>\n",
              "    </tr>\n",
              "    <tr>\n",
              "      <th>1</th>\n",
              "      <td>2020-02-01</td>\n",
              "      <td>31,2</td>\n",
              "      <td>muito quente</td>\n",
              "    </tr>\n",
              "    <tr>\n",
              "      <th>2</th>\n",
              "      <td>2020-03-01</td>\n",
              "      <td>28,5</td>\n",
              "      <td>quente</td>\n",
              "    </tr>\n",
              "    <tr>\n",
              "      <th>3</th>\n",
              "      <td>2020-04-01</td>\n",
              "      <td>28,0</td>\n",
              "      <td>quente</td>\n",
              "    </tr>\n",
              "    <tr>\n",
              "      <th>4</th>\n",
              "      <td>2020-05-01</td>\n",
              "      <td>24,0</td>\n",
              "      <td>confortavel</td>\n",
              "    </tr>\n",
              "    <tr>\n",
              "      <th>5</th>\n",
              "      <td>2020-06-01</td>\n",
              "      <td>20,0</td>\n",
              "      <td>frio</td>\n",
              "    </tr>\n",
              "  </tbody>\n",
              "</table>\n",
              "</div>\n",
              "      <button class=\"colab-df-convert\" onclick=\"convertToInteractive('df-1fc238fa-da7b-418f-aa15-42c0a1cb18cd')\"\n",
              "              title=\"Convert this dataframe to an interactive table.\"\n",
              "              style=\"display:none;\">\n",
              "        \n",
              "  <svg xmlns=\"http://www.w3.org/2000/svg\" height=\"24px\"viewBox=\"0 0 24 24\"\n",
              "       width=\"24px\">\n",
              "    <path d=\"M0 0h24v24H0V0z\" fill=\"none\"/>\n",
              "    <path d=\"M18.56 5.44l.94 2.06.94-2.06 2.06-.94-2.06-.94-.94-2.06-.94 2.06-2.06.94zm-11 1L8.5 8.5l.94-2.06 2.06-.94-2.06-.94L8.5 2.5l-.94 2.06-2.06.94zm10 10l.94 2.06.94-2.06 2.06-.94-2.06-.94-.94-2.06-.94 2.06-2.06.94z\"/><path d=\"M17.41 7.96l-1.37-1.37c-.4-.4-.92-.59-1.43-.59-.52 0-1.04.2-1.43.59L10.3 9.45l-7.72 7.72c-.78.78-.78 2.05 0 2.83L4 21.41c.39.39.9.59 1.41.59.51 0 1.02-.2 1.41-.59l7.78-7.78 2.81-2.81c.8-.78.8-2.07 0-2.86zM5.41 20L4 18.59l7.72-7.72 1.47 1.35L5.41 20z\"/>\n",
              "  </svg>\n",
              "      </button>\n",
              "      \n",
              "  <style>\n",
              "    .colab-df-container {\n",
              "      display:flex;\n",
              "      flex-wrap:wrap;\n",
              "      gap: 12px;\n",
              "    }\n",
              "\n",
              "    .colab-df-convert {\n",
              "      background-color: #E8F0FE;\n",
              "      border: none;\n",
              "      border-radius: 50%;\n",
              "      cursor: pointer;\n",
              "      display: none;\n",
              "      fill: #1967D2;\n",
              "      height: 32px;\n",
              "      padding: 0 0 0 0;\n",
              "      width: 32px;\n",
              "    }\n",
              "\n",
              "    .colab-df-convert:hover {\n",
              "      background-color: #E2EBFA;\n",
              "      box-shadow: 0px 1px 2px rgba(60, 64, 67, 0.3), 0px 1px 3px 1px rgba(60, 64, 67, 0.15);\n",
              "      fill: #174EA6;\n",
              "    }\n",
              "\n",
              "    [theme=dark] .colab-df-convert {\n",
              "      background-color: #3B4455;\n",
              "      fill: #D2E3FC;\n",
              "    }\n",
              "\n",
              "    [theme=dark] .colab-df-convert:hover {\n",
              "      background-color: #434B5C;\n",
              "      box-shadow: 0px 1px 3px 1px rgba(0, 0, 0, 0.15);\n",
              "      filter: drop-shadow(0px 1px 2px rgba(0, 0, 0, 0.3));\n",
              "      fill: #FFFFFF;\n",
              "    }\n",
              "  </style>\n",
              "\n",
              "      <script>\n",
              "        const buttonEl =\n",
              "          document.querySelector('#df-1fc238fa-da7b-418f-aa15-42c0a1cb18cd button.colab-df-convert');\n",
              "        buttonEl.style.display =\n",
              "          google.colab.kernel.accessAllowed ? 'block' : 'none';\n",
              "\n",
              "        async function convertToInteractive(key) {\n",
              "          const element = document.querySelector('#df-1fc238fa-da7b-418f-aa15-42c0a1cb18cd');\n",
              "          const dataTable =\n",
              "            await google.colab.kernel.invokeFunction('convertToInteractive',\n",
              "                                                     [key], {});\n",
              "          if (!dataTable) return;\n",
              "\n",
              "          const docLinkHtml = 'Like what you see? Visit the ' +\n",
              "            '<a target=\"_blank\" href=https://colab.research.google.com/notebooks/data_table.ipynb>data table notebook</a>'\n",
              "            + ' to learn more about interactive tables.';\n",
              "          element.innerHTML = '';\n",
              "          dataTable['output_type'] = 'display_data';\n",
              "          await google.colab.output.renderOutput(dataTable, element);\n",
              "          const docLink = document.createElement('div');\n",
              "          docLink.innerHTML = docLinkHtml;\n",
              "          element.appendChild(docLink);\n",
              "        }\n",
              "      </script>\n",
              "    </div>\n",
              "  </div>\n",
              "  "
            ]
          },
          "metadata": {},
          "execution_count": 26
        }
      ]
    },
    {
      "cell_type": "markdown",
      "source": [
        "## 2. Visualização"
      ],
      "metadata": {
        "id": "ivOceDWTlOeY"
      }
    },
    {
      "cell_type": "markdown",
      "source": [
        "### 2.1 Visualizando as n primeiras linhas"
      ],
      "metadata": {
        "id": "tynnXeY8laey"
      }
    },
    {
      "cell_type": "code",
      "source": [
        "n = 5\n",
        "df.head(n)"
      ],
      "metadata": {
        "colab": {
          "base_uri": "https://localhost:8080/",
          "height": 206
        },
        "id": "gqz1tO2ckUDi",
        "outputId": "1f66c930-9322-470e-b56a-573e28c7d9fc"
      },
      "execution_count": null,
      "outputs": [
        {
          "output_type": "execute_result",
          "data": {
            "text/plain": [
              "         date  temperatura classification\n",
              "0  2020-01-01         29.1         quente\n",
              "1  2020-02-01         31.2   muito quente\n",
              "2  2020-03-01         28.5         quente\n",
              "3  2020-04-01         28.0         quente\n",
              "4  2020-05-01         24.0    confortavel"
            ],
            "text/html": [
              "\n",
              "  <div id=\"df-56bad756-61cd-4921-a05d-1a0b09cb5d49\">\n",
              "    <div class=\"colab-df-container\">\n",
              "      <div>\n",
              "<style scoped>\n",
              "    .dataframe tbody tr th:only-of-type {\n",
              "        vertical-align: middle;\n",
              "    }\n",
              "\n",
              "    .dataframe tbody tr th {\n",
              "        vertical-align: top;\n",
              "    }\n",
              "\n",
              "    .dataframe thead th {\n",
              "        text-align: right;\n",
              "    }\n",
              "</style>\n",
              "<table border=\"1\" class=\"dataframe\">\n",
              "  <thead>\n",
              "    <tr style=\"text-align: right;\">\n",
              "      <th></th>\n",
              "      <th>date</th>\n",
              "      <th>temperatura</th>\n",
              "      <th>classification</th>\n",
              "    </tr>\n",
              "  </thead>\n",
              "  <tbody>\n",
              "    <tr>\n",
              "      <th>0</th>\n",
              "      <td>2020-01-01</td>\n",
              "      <td>29.1</td>\n",
              "      <td>quente</td>\n",
              "    </tr>\n",
              "    <tr>\n",
              "      <th>1</th>\n",
              "      <td>2020-02-01</td>\n",
              "      <td>31.2</td>\n",
              "      <td>muito quente</td>\n",
              "    </tr>\n",
              "    <tr>\n",
              "      <th>2</th>\n",
              "      <td>2020-03-01</td>\n",
              "      <td>28.5</td>\n",
              "      <td>quente</td>\n",
              "    </tr>\n",
              "    <tr>\n",
              "      <th>3</th>\n",
              "      <td>2020-04-01</td>\n",
              "      <td>28.0</td>\n",
              "      <td>quente</td>\n",
              "    </tr>\n",
              "    <tr>\n",
              "      <th>4</th>\n",
              "      <td>2020-05-01</td>\n",
              "      <td>24.0</td>\n",
              "      <td>confortavel</td>\n",
              "    </tr>\n",
              "  </tbody>\n",
              "</table>\n",
              "</div>\n",
              "      <button class=\"colab-df-convert\" onclick=\"convertToInteractive('df-56bad756-61cd-4921-a05d-1a0b09cb5d49')\"\n",
              "              title=\"Convert this dataframe to an interactive table.\"\n",
              "              style=\"display:none;\">\n",
              "        \n",
              "  <svg xmlns=\"http://www.w3.org/2000/svg\" height=\"24px\"viewBox=\"0 0 24 24\"\n",
              "       width=\"24px\">\n",
              "    <path d=\"M0 0h24v24H0V0z\" fill=\"none\"/>\n",
              "    <path d=\"M18.56 5.44l.94 2.06.94-2.06 2.06-.94-2.06-.94-.94-2.06-.94 2.06-2.06.94zm-11 1L8.5 8.5l.94-2.06 2.06-.94-2.06-.94L8.5 2.5l-.94 2.06-2.06.94zm10 10l.94 2.06.94-2.06 2.06-.94-2.06-.94-.94-2.06-.94 2.06-2.06.94z\"/><path d=\"M17.41 7.96l-1.37-1.37c-.4-.4-.92-.59-1.43-.59-.52 0-1.04.2-1.43.59L10.3 9.45l-7.72 7.72c-.78.78-.78 2.05 0 2.83L4 21.41c.39.39.9.59 1.41.59.51 0 1.02-.2 1.41-.59l7.78-7.78 2.81-2.81c.8-.78.8-2.07 0-2.86zM5.41 20L4 18.59l7.72-7.72 1.47 1.35L5.41 20z\"/>\n",
              "  </svg>\n",
              "      </button>\n",
              "      \n",
              "  <style>\n",
              "    .colab-df-container {\n",
              "      display:flex;\n",
              "      flex-wrap:wrap;\n",
              "      gap: 12px;\n",
              "    }\n",
              "\n",
              "    .colab-df-convert {\n",
              "      background-color: #E8F0FE;\n",
              "      border: none;\n",
              "      border-radius: 50%;\n",
              "      cursor: pointer;\n",
              "      display: none;\n",
              "      fill: #1967D2;\n",
              "      height: 32px;\n",
              "      padding: 0 0 0 0;\n",
              "      width: 32px;\n",
              "    }\n",
              "\n",
              "    .colab-df-convert:hover {\n",
              "      background-color: #E2EBFA;\n",
              "      box-shadow: 0px 1px 2px rgba(60, 64, 67, 0.3), 0px 1px 3px 1px rgba(60, 64, 67, 0.15);\n",
              "      fill: #174EA6;\n",
              "    }\n",
              "\n",
              "    [theme=dark] .colab-df-convert {\n",
              "      background-color: #3B4455;\n",
              "      fill: #D2E3FC;\n",
              "    }\n",
              "\n",
              "    [theme=dark] .colab-df-convert:hover {\n",
              "      background-color: #434B5C;\n",
              "      box-shadow: 0px 1px 3px 1px rgba(0, 0, 0, 0.15);\n",
              "      filter: drop-shadow(0px 1px 2px rgba(0, 0, 0, 0.3));\n",
              "      fill: #FFFFFF;\n",
              "    }\n",
              "  </style>\n",
              "\n",
              "      <script>\n",
              "        const buttonEl =\n",
              "          document.querySelector('#df-56bad756-61cd-4921-a05d-1a0b09cb5d49 button.colab-df-convert');\n",
              "        buttonEl.style.display =\n",
              "          google.colab.kernel.accessAllowed ? 'block' : 'none';\n",
              "\n",
              "        async function convertToInteractive(key) {\n",
              "          const element = document.querySelector('#df-56bad756-61cd-4921-a05d-1a0b09cb5d49');\n",
              "          const dataTable =\n",
              "            await google.colab.kernel.invokeFunction('convertToInteractive',\n",
              "                                                     [key], {});\n",
              "          if (!dataTable) return;\n",
              "\n",
              "          const docLinkHtml = 'Like what you see? Visit the ' +\n",
              "            '<a target=\"_blank\" href=https://colab.research.google.com/notebooks/data_table.ipynb>data table notebook</a>'\n",
              "            + ' to learn more about interactive tables.';\n",
              "          element.innerHTML = '';\n",
              "          dataTable['output_type'] = 'display_data';\n",
              "          await google.colab.output.renderOutput(dataTable, element);\n",
              "          const docLink = document.createElement('div');\n",
              "          docLink.innerHTML = docLinkHtml;\n",
              "          element.appendChild(docLink);\n",
              "        }\n",
              "      </script>\n",
              "    </div>\n",
              "  </div>\n",
              "  "
            ]
          },
          "metadata": {},
          "execution_count": 8
        }
      ]
    },
    {
      "cell_type": "markdown",
      "source": [
        "### 2.2 Visualizando as últimas n linhas"
      ],
      "metadata": {
        "id": "uv3CN70-le-X"
      }
    },
    {
      "cell_type": "code",
      "source": [
        "n = 3\n",
        "df.tail(n)"
      ],
      "metadata": {
        "colab": {
          "base_uri": "https://localhost:8080/",
          "height": 143
        },
        "id": "s_5zOPLxlYHl",
        "outputId": "8ebe1261-c0e9-4ffb-e573-970eb24c3400"
      },
      "execution_count": null,
      "outputs": [
        {
          "output_type": "execute_result",
          "data": {
            "text/plain": [
              "         date  temperatura classification\n",
              "3  2020-04-01         28.0         quente\n",
              "4  2020-05-01         24.0    confortavel\n",
              "5  2020-06-01         20.0           frio"
            ],
            "text/html": [
              "\n",
              "  <div id=\"df-a85d1717-cefb-4b7f-99de-8fb7494ef5be\">\n",
              "    <div class=\"colab-df-container\">\n",
              "      <div>\n",
              "<style scoped>\n",
              "    .dataframe tbody tr th:only-of-type {\n",
              "        vertical-align: middle;\n",
              "    }\n",
              "\n",
              "    .dataframe tbody tr th {\n",
              "        vertical-align: top;\n",
              "    }\n",
              "\n",
              "    .dataframe thead th {\n",
              "        text-align: right;\n",
              "    }\n",
              "</style>\n",
              "<table border=\"1\" class=\"dataframe\">\n",
              "  <thead>\n",
              "    <tr style=\"text-align: right;\">\n",
              "      <th></th>\n",
              "      <th>date</th>\n",
              "      <th>temperatura</th>\n",
              "      <th>classification</th>\n",
              "    </tr>\n",
              "  </thead>\n",
              "  <tbody>\n",
              "    <tr>\n",
              "      <th>3</th>\n",
              "      <td>2020-04-01</td>\n",
              "      <td>28.0</td>\n",
              "      <td>quente</td>\n",
              "    </tr>\n",
              "    <tr>\n",
              "      <th>4</th>\n",
              "      <td>2020-05-01</td>\n",
              "      <td>24.0</td>\n",
              "      <td>confortavel</td>\n",
              "    </tr>\n",
              "    <tr>\n",
              "      <th>5</th>\n",
              "      <td>2020-06-01</td>\n",
              "      <td>20.0</td>\n",
              "      <td>frio</td>\n",
              "    </tr>\n",
              "  </tbody>\n",
              "</table>\n",
              "</div>\n",
              "      <button class=\"colab-df-convert\" onclick=\"convertToInteractive('df-a85d1717-cefb-4b7f-99de-8fb7494ef5be')\"\n",
              "              title=\"Convert this dataframe to an interactive table.\"\n",
              "              style=\"display:none;\">\n",
              "        \n",
              "  <svg xmlns=\"http://www.w3.org/2000/svg\" height=\"24px\"viewBox=\"0 0 24 24\"\n",
              "       width=\"24px\">\n",
              "    <path d=\"M0 0h24v24H0V0z\" fill=\"none\"/>\n",
              "    <path d=\"M18.56 5.44l.94 2.06.94-2.06 2.06-.94-2.06-.94-.94-2.06-.94 2.06-2.06.94zm-11 1L8.5 8.5l.94-2.06 2.06-.94-2.06-.94L8.5 2.5l-.94 2.06-2.06.94zm10 10l.94 2.06.94-2.06 2.06-.94-2.06-.94-.94-2.06-.94 2.06-2.06.94z\"/><path d=\"M17.41 7.96l-1.37-1.37c-.4-.4-.92-.59-1.43-.59-.52 0-1.04.2-1.43.59L10.3 9.45l-7.72 7.72c-.78.78-.78 2.05 0 2.83L4 21.41c.39.39.9.59 1.41.59.51 0 1.02-.2 1.41-.59l7.78-7.78 2.81-2.81c.8-.78.8-2.07 0-2.86zM5.41 20L4 18.59l7.72-7.72 1.47 1.35L5.41 20z\"/>\n",
              "  </svg>\n",
              "      </button>\n",
              "      \n",
              "  <style>\n",
              "    .colab-df-container {\n",
              "      display:flex;\n",
              "      flex-wrap:wrap;\n",
              "      gap: 12px;\n",
              "    }\n",
              "\n",
              "    .colab-df-convert {\n",
              "      background-color: #E8F0FE;\n",
              "      border: none;\n",
              "      border-radius: 50%;\n",
              "      cursor: pointer;\n",
              "      display: none;\n",
              "      fill: #1967D2;\n",
              "      height: 32px;\n",
              "      padding: 0 0 0 0;\n",
              "      width: 32px;\n",
              "    }\n",
              "\n",
              "    .colab-df-convert:hover {\n",
              "      background-color: #E2EBFA;\n",
              "      box-shadow: 0px 1px 2px rgba(60, 64, 67, 0.3), 0px 1px 3px 1px rgba(60, 64, 67, 0.15);\n",
              "      fill: #174EA6;\n",
              "    }\n",
              "\n",
              "    [theme=dark] .colab-df-convert {\n",
              "      background-color: #3B4455;\n",
              "      fill: #D2E3FC;\n",
              "    }\n",
              "\n",
              "    [theme=dark] .colab-df-convert:hover {\n",
              "      background-color: #434B5C;\n",
              "      box-shadow: 0px 1px 3px 1px rgba(0, 0, 0, 0.15);\n",
              "      filter: drop-shadow(0px 1px 2px rgba(0, 0, 0, 0.3));\n",
              "      fill: #FFFFFF;\n",
              "    }\n",
              "  </style>\n",
              "\n",
              "      <script>\n",
              "        const buttonEl =\n",
              "          document.querySelector('#df-a85d1717-cefb-4b7f-99de-8fb7494ef5be button.colab-df-convert');\n",
              "        buttonEl.style.display =\n",
              "          google.colab.kernel.accessAllowed ? 'block' : 'none';\n",
              "\n",
              "        async function convertToInteractive(key) {\n",
              "          const element = document.querySelector('#df-a85d1717-cefb-4b7f-99de-8fb7494ef5be');\n",
              "          const dataTable =\n",
              "            await google.colab.kernel.invokeFunction('convertToInteractive',\n",
              "                                                     [key], {});\n",
              "          if (!dataTable) return;\n",
              "\n",
              "          const docLinkHtml = 'Like what you see? Visit the ' +\n",
              "            '<a target=\"_blank\" href=https://colab.research.google.com/notebooks/data_table.ipynb>data table notebook</a>'\n",
              "            + ' to learn more about interactive tables.';\n",
              "          element.innerHTML = '';\n",
              "          dataTable['output_type'] = 'display_data';\n",
              "          await google.colab.output.renderOutput(dataTable, element);\n",
              "          const docLink = document.createElement('div');\n",
              "          docLink.innerHTML = docLinkHtml;\n",
              "          element.appendChild(docLink);\n",
              "        }\n",
              "      </script>\n",
              "    </div>\n",
              "  </div>\n",
              "  "
            ]
          },
          "metadata": {},
          "execution_count": 9
        }
      ]
    },
    {
      "cell_type": "markdown",
      "source": [
        "### 2.3 Tipos"
      ],
      "metadata": {
        "id": "EWRr6G4hltI4"
      }
    },
    {
      "cell_type": "code",
      "source": [
        "# visualização dos tipos de cada coluna\n",
        "df.dtypes"
      ],
      "metadata": {
        "colab": {
          "base_uri": "https://localhost:8080/"
        },
        "id": "tPvFMoztlrTd",
        "outputId": "7794355c-6568-4609-c3a0-220ee0335d60"
      },
      "execution_count": null,
      "outputs": [
        {
          "output_type": "execute_result",
          "data": {
            "text/plain": [
              "date               object\n",
              "temperatura       float64\n",
              "classification     object\n",
              "dtype: object"
            ]
          },
          "metadata": {},
          "execution_count": 30
        }
      ]
    },
    {
      "cell_type": "markdown",
      "source": [
        "### 2.4 Estatisticas básicas"
      ],
      "metadata": {
        "id": "MRXtxU_kmDMx"
      }
    },
    {
      "cell_type": "code",
      "source": [
        "df.describe()"
      ],
      "metadata": {
        "colab": {
          "base_uri": "https://localhost:8080/",
          "height": 300
        },
        "id": "tSBjlmrjlxd5",
        "outputId": "93c69737-fdfc-47f5-a34f-b1d09c9a5c84"
      },
      "execution_count": null,
      "outputs": [
        {
          "output_type": "execute_result",
          "data": {
            "text/plain": [
              "       temperatura\n",
              "count     6.000000\n",
              "mean     26.800000\n",
              "std       4.075782\n",
              "min      20.000000\n",
              "25%      25.000000\n",
              "50%      28.250000\n",
              "75%      28.950000\n",
              "max      31.200000"
            ],
            "text/html": [
              "\n",
              "  <div id=\"df-03989268-039f-41fb-91a2-53f9820c319e\">\n",
              "    <div class=\"colab-df-container\">\n",
              "      <div>\n",
              "<style scoped>\n",
              "    .dataframe tbody tr th:only-of-type {\n",
              "        vertical-align: middle;\n",
              "    }\n",
              "\n",
              "    .dataframe tbody tr th {\n",
              "        vertical-align: top;\n",
              "    }\n",
              "\n",
              "    .dataframe thead th {\n",
              "        text-align: right;\n",
              "    }\n",
              "</style>\n",
              "<table border=\"1\" class=\"dataframe\">\n",
              "  <thead>\n",
              "    <tr style=\"text-align: right;\">\n",
              "      <th></th>\n",
              "      <th>temperatura</th>\n",
              "    </tr>\n",
              "  </thead>\n",
              "  <tbody>\n",
              "    <tr>\n",
              "      <th>count</th>\n",
              "      <td>6.000000</td>\n",
              "    </tr>\n",
              "    <tr>\n",
              "      <th>mean</th>\n",
              "      <td>26.800000</td>\n",
              "    </tr>\n",
              "    <tr>\n",
              "      <th>std</th>\n",
              "      <td>4.075782</td>\n",
              "    </tr>\n",
              "    <tr>\n",
              "      <th>min</th>\n",
              "      <td>20.000000</td>\n",
              "    </tr>\n",
              "    <tr>\n",
              "      <th>25%</th>\n",
              "      <td>25.000000</td>\n",
              "    </tr>\n",
              "    <tr>\n",
              "      <th>50%</th>\n",
              "      <td>28.250000</td>\n",
              "    </tr>\n",
              "    <tr>\n",
              "      <th>75%</th>\n",
              "      <td>28.950000</td>\n",
              "    </tr>\n",
              "    <tr>\n",
              "      <th>max</th>\n",
              "      <td>31.200000</td>\n",
              "    </tr>\n",
              "  </tbody>\n",
              "</table>\n",
              "</div>\n",
              "      <button class=\"colab-df-convert\" onclick=\"convertToInteractive('df-03989268-039f-41fb-91a2-53f9820c319e')\"\n",
              "              title=\"Convert this dataframe to an interactive table.\"\n",
              "              style=\"display:none;\">\n",
              "        \n",
              "  <svg xmlns=\"http://www.w3.org/2000/svg\" height=\"24px\"viewBox=\"0 0 24 24\"\n",
              "       width=\"24px\">\n",
              "    <path d=\"M0 0h24v24H0V0z\" fill=\"none\"/>\n",
              "    <path d=\"M18.56 5.44l.94 2.06.94-2.06 2.06-.94-2.06-.94-.94-2.06-.94 2.06-2.06.94zm-11 1L8.5 8.5l.94-2.06 2.06-.94-2.06-.94L8.5 2.5l-.94 2.06-2.06.94zm10 10l.94 2.06.94-2.06 2.06-.94-2.06-.94-.94-2.06-.94 2.06-2.06.94z\"/><path d=\"M17.41 7.96l-1.37-1.37c-.4-.4-.92-.59-1.43-.59-.52 0-1.04.2-1.43.59L10.3 9.45l-7.72 7.72c-.78.78-.78 2.05 0 2.83L4 21.41c.39.39.9.59 1.41.59.51 0 1.02-.2 1.41-.59l7.78-7.78 2.81-2.81c.8-.78.8-2.07 0-2.86zM5.41 20L4 18.59l7.72-7.72 1.47 1.35L5.41 20z\"/>\n",
              "  </svg>\n",
              "      </button>\n",
              "      \n",
              "  <style>\n",
              "    .colab-df-container {\n",
              "      display:flex;\n",
              "      flex-wrap:wrap;\n",
              "      gap: 12px;\n",
              "    }\n",
              "\n",
              "    .colab-df-convert {\n",
              "      background-color: #E8F0FE;\n",
              "      border: none;\n",
              "      border-radius: 50%;\n",
              "      cursor: pointer;\n",
              "      display: none;\n",
              "      fill: #1967D2;\n",
              "      height: 32px;\n",
              "      padding: 0 0 0 0;\n",
              "      width: 32px;\n",
              "    }\n",
              "\n",
              "    .colab-df-convert:hover {\n",
              "      background-color: #E2EBFA;\n",
              "      box-shadow: 0px 1px 2px rgba(60, 64, 67, 0.3), 0px 1px 3px 1px rgba(60, 64, 67, 0.15);\n",
              "      fill: #174EA6;\n",
              "    }\n",
              "\n",
              "    [theme=dark] .colab-df-convert {\n",
              "      background-color: #3B4455;\n",
              "      fill: #D2E3FC;\n",
              "    }\n",
              "\n",
              "    [theme=dark] .colab-df-convert:hover {\n",
              "      background-color: #434B5C;\n",
              "      box-shadow: 0px 1px 3px 1px rgba(0, 0, 0, 0.15);\n",
              "      filter: drop-shadow(0px 1px 2px rgba(0, 0, 0, 0.3));\n",
              "      fill: #FFFFFF;\n",
              "    }\n",
              "  </style>\n",
              "\n",
              "      <script>\n",
              "        const buttonEl =\n",
              "          document.querySelector('#df-03989268-039f-41fb-91a2-53f9820c319e button.colab-df-convert');\n",
              "        buttonEl.style.display =\n",
              "          google.colab.kernel.accessAllowed ? 'block' : 'none';\n",
              "\n",
              "        async function convertToInteractive(key) {\n",
              "          const element = document.querySelector('#df-03989268-039f-41fb-91a2-53f9820c319e');\n",
              "          const dataTable =\n",
              "            await google.colab.kernel.invokeFunction('convertToInteractive',\n",
              "                                                     [key], {});\n",
              "          if (!dataTable) return;\n",
              "\n",
              "          const docLinkHtml = 'Like what you see? Visit the ' +\n",
              "            '<a target=\"_blank\" href=https://colab.research.google.com/notebooks/data_table.ipynb>data table notebook</a>'\n",
              "            + ' to learn more about interactive tables.';\n",
              "          element.innerHTML = '';\n",
              "          dataTable['output_type'] = 'display_data';\n",
              "          await google.colab.output.renderOutput(dataTable, element);\n",
              "          const docLink = document.createElement('div');\n",
              "          docLink.innerHTML = docLinkHtml;\n",
              "          element.appendChild(docLink);\n",
              "        }\n",
              "      </script>\n",
              "    </div>\n",
              "  </div>\n",
              "  "
            ]
          },
          "metadata": {},
          "execution_count": 31
        }
      ]
    },
    {
      "cell_type": "markdown",
      "source": [
        "### 2.5 Dataframe info"
      ],
      "metadata": {
        "id": "_qKalJKpmJ5P"
      }
    },
    {
      "cell_type": "code",
      "source": [
        "df.info()"
      ],
      "metadata": {
        "colab": {
          "base_uri": "https://localhost:8080/"
        },
        "id": "WXkqFK_vmIrr",
        "outputId": "c779be3d-51dc-4aea-b8ad-8beac2a478c0"
      },
      "execution_count": null,
      "outputs": [
        {
          "output_type": "stream",
          "name": "stdout",
          "text": [
            "<class 'pandas.core.frame.DataFrame'>\n",
            "RangeIndex: 6 entries, 0 to 5\n",
            "Data columns (total 3 columns):\n",
            " #   Column          Non-Null Count  Dtype  \n",
            "---  ------          --------------  -----  \n",
            " 0   date            6 non-null      object \n",
            " 1   temperatura     6 non-null      float64\n",
            " 2   classification  6 non-null      object \n",
            "dtypes: float64(1), object(2)\n",
            "memory usage: 272.0+ bytes\n"
          ]
        }
      ]
    },
    {
      "cell_type": "markdown",
      "source": [
        "### 2.6 Nome das colunas"
      ],
      "metadata": {
        "id": "5gZJBzlsmR6h"
      }
    },
    {
      "cell_type": "code",
      "source": [
        "df.columns"
      ],
      "metadata": {
        "colab": {
          "base_uri": "https://localhost:8080/"
        },
        "id": "kzlPb8k4mOnI",
        "outputId": "a0dd7c5b-bb69-4ab0-9b9b-c79de1cc7a40"
      },
      "execution_count": null,
      "outputs": [
        {
          "output_type": "execute_result",
          "data": {
            "text/plain": [
              "Index(['date', 'temperatura', 'classification'], dtype='object')"
            ]
          },
          "metadata": {},
          "execution_count": 33
        }
      ]
    },
    {
      "cell_type": "code",
      "source": [
        "# para renomear é facil\n",
        "df.columns = ['col1', 'col2', 'col3']"
      ],
      "metadata": {
        "id": "xTp2ZMCJmUdq"
      },
      "execution_count": null,
      "outputs": []
    },
    {
      "cell_type": "code",
      "source": [
        "df"
      ],
      "metadata": {
        "colab": {
          "base_uri": "https://localhost:8080/",
          "height": 238
        },
        "id": "qOtW47BFmjqa",
        "outputId": "9240f0f0-81b6-4737-e23a-798d9572b0ff"
      },
      "execution_count": null,
      "outputs": [
        {
          "output_type": "execute_result",
          "data": {
            "text/plain": [
              "         col1  col2          col3\n",
              "0  2020-01-01  29.1        quente\n",
              "1  2020-02-01  31.2  muito quente\n",
              "2  2020-03-01  28.5        quente\n",
              "3  2020-04-01  28.0        quente\n",
              "4  2020-05-01  24.0   confortavel\n",
              "5  2020-06-01  20.0          frio"
            ],
            "text/html": [
              "\n",
              "  <div id=\"df-48bd034e-c4a7-4fa8-9275-14575af56610\">\n",
              "    <div class=\"colab-df-container\">\n",
              "      <div>\n",
              "<style scoped>\n",
              "    .dataframe tbody tr th:only-of-type {\n",
              "        vertical-align: middle;\n",
              "    }\n",
              "\n",
              "    .dataframe tbody tr th {\n",
              "        vertical-align: top;\n",
              "    }\n",
              "\n",
              "    .dataframe thead th {\n",
              "        text-align: right;\n",
              "    }\n",
              "</style>\n",
              "<table border=\"1\" class=\"dataframe\">\n",
              "  <thead>\n",
              "    <tr style=\"text-align: right;\">\n",
              "      <th></th>\n",
              "      <th>col1</th>\n",
              "      <th>col2</th>\n",
              "      <th>col3</th>\n",
              "    </tr>\n",
              "  </thead>\n",
              "  <tbody>\n",
              "    <tr>\n",
              "      <th>0</th>\n",
              "      <td>2020-01-01</td>\n",
              "      <td>29.1</td>\n",
              "      <td>quente</td>\n",
              "    </tr>\n",
              "    <tr>\n",
              "      <th>1</th>\n",
              "      <td>2020-02-01</td>\n",
              "      <td>31.2</td>\n",
              "      <td>muito quente</td>\n",
              "    </tr>\n",
              "    <tr>\n",
              "      <th>2</th>\n",
              "      <td>2020-03-01</td>\n",
              "      <td>28.5</td>\n",
              "      <td>quente</td>\n",
              "    </tr>\n",
              "    <tr>\n",
              "      <th>3</th>\n",
              "      <td>2020-04-01</td>\n",
              "      <td>28.0</td>\n",
              "      <td>quente</td>\n",
              "    </tr>\n",
              "    <tr>\n",
              "      <th>4</th>\n",
              "      <td>2020-05-01</td>\n",
              "      <td>24.0</td>\n",
              "      <td>confortavel</td>\n",
              "    </tr>\n",
              "    <tr>\n",
              "      <th>5</th>\n",
              "      <td>2020-06-01</td>\n",
              "      <td>20.0</td>\n",
              "      <td>frio</td>\n",
              "    </tr>\n",
              "  </tbody>\n",
              "</table>\n",
              "</div>\n",
              "      <button class=\"colab-df-convert\" onclick=\"convertToInteractive('df-48bd034e-c4a7-4fa8-9275-14575af56610')\"\n",
              "              title=\"Convert this dataframe to an interactive table.\"\n",
              "              style=\"display:none;\">\n",
              "        \n",
              "  <svg xmlns=\"http://www.w3.org/2000/svg\" height=\"24px\"viewBox=\"0 0 24 24\"\n",
              "       width=\"24px\">\n",
              "    <path d=\"M0 0h24v24H0V0z\" fill=\"none\"/>\n",
              "    <path d=\"M18.56 5.44l.94 2.06.94-2.06 2.06-.94-2.06-.94-.94-2.06-.94 2.06-2.06.94zm-11 1L8.5 8.5l.94-2.06 2.06-.94-2.06-.94L8.5 2.5l-.94 2.06-2.06.94zm10 10l.94 2.06.94-2.06 2.06-.94-2.06-.94-.94-2.06-.94 2.06-2.06.94z\"/><path d=\"M17.41 7.96l-1.37-1.37c-.4-.4-.92-.59-1.43-.59-.52 0-1.04.2-1.43.59L10.3 9.45l-7.72 7.72c-.78.78-.78 2.05 0 2.83L4 21.41c.39.39.9.59 1.41.59.51 0 1.02-.2 1.41-.59l7.78-7.78 2.81-2.81c.8-.78.8-2.07 0-2.86zM5.41 20L4 18.59l7.72-7.72 1.47 1.35L5.41 20z\"/>\n",
              "  </svg>\n",
              "      </button>\n",
              "      \n",
              "  <style>\n",
              "    .colab-df-container {\n",
              "      display:flex;\n",
              "      flex-wrap:wrap;\n",
              "      gap: 12px;\n",
              "    }\n",
              "\n",
              "    .colab-df-convert {\n",
              "      background-color: #E8F0FE;\n",
              "      border: none;\n",
              "      border-radius: 50%;\n",
              "      cursor: pointer;\n",
              "      display: none;\n",
              "      fill: #1967D2;\n",
              "      height: 32px;\n",
              "      padding: 0 0 0 0;\n",
              "      width: 32px;\n",
              "    }\n",
              "\n",
              "    .colab-df-convert:hover {\n",
              "      background-color: #E2EBFA;\n",
              "      box-shadow: 0px 1px 2px rgba(60, 64, 67, 0.3), 0px 1px 3px 1px rgba(60, 64, 67, 0.15);\n",
              "      fill: #174EA6;\n",
              "    }\n",
              "\n",
              "    [theme=dark] .colab-df-convert {\n",
              "      background-color: #3B4455;\n",
              "      fill: #D2E3FC;\n",
              "    }\n",
              "\n",
              "    [theme=dark] .colab-df-convert:hover {\n",
              "      background-color: #434B5C;\n",
              "      box-shadow: 0px 1px 3px 1px rgba(0, 0, 0, 0.15);\n",
              "      filter: drop-shadow(0px 1px 2px rgba(0, 0, 0, 0.3));\n",
              "      fill: #FFFFFF;\n",
              "    }\n",
              "  </style>\n",
              "\n",
              "      <script>\n",
              "        const buttonEl =\n",
              "          document.querySelector('#df-48bd034e-c4a7-4fa8-9275-14575af56610 button.colab-df-convert');\n",
              "        buttonEl.style.display =\n",
              "          google.colab.kernel.accessAllowed ? 'block' : 'none';\n",
              "\n",
              "        async function convertToInteractive(key) {\n",
              "          const element = document.querySelector('#df-48bd034e-c4a7-4fa8-9275-14575af56610');\n",
              "          const dataTable =\n",
              "            await google.colab.kernel.invokeFunction('convertToInteractive',\n",
              "                                                     [key], {});\n",
              "          if (!dataTable) return;\n",
              "\n",
              "          const docLinkHtml = 'Like what you see? Visit the ' +\n",
              "            '<a target=\"_blank\" href=https://colab.research.google.com/notebooks/data_table.ipynb>data table notebook</a>'\n",
              "            + ' to learn more about interactive tables.';\n",
              "          element.innerHTML = '';\n",
              "          dataTable['output_type'] = 'display_data';\n",
              "          await google.colab.output.renderOutput(dataTable, element);\n",
              "          const docLink = document.createElement('div');\n",
              "          docLink.innerHTML = docLinkHtml;\n",
              "          element.appendChild(docLink);\n",
              "        }\n",
              "      </script>\n",
              "    </div>\n",
              "  </div>\n",
              "  "
            ]
          },
          "metadata": {},
          "execution_count": 35
        }
      ]
    },
    {
      "cell_type": "markdown",
      "source": [
        "### 2.7 Indexação"
      ],
      "metadata": {
        "id": "UxKGjZ9kfXqJ"
      }
    },
    {
      "cell_type": "markdown",
      "source": [
        "#### 2.7.1 iloc"
      ],
      "metadata": {
        "id": "eTlfahvJf5gY"
      }
    },
    {
      "cell_type": "code",
      "source": [
        "# df.iloc['indice_linha', 'indice_coluna'] # para uma linha e uma coluna\n",
        "# df.iloc['indice:linha', 'indice:coluna'] # para multiplas linhas ou colunas\n",
        "#df.iloc[:, 1]\n",
        "df.iloc[:, 1:3] # tendo slice dentro"
      ],
      "metadata": {
        "id": "vVvP_rKhmkZ7",
        "colab": {
          "base_uri": "https://localhost:8080/",
          "height": 237
        },
        "outputId": "aa5845a7-f7d2-4313-b0e4-09d2ad60713b"
      },
      "execution_count": null,
      "outputs": [
        {
          "output_type": "execute_result",
          "data": {
            "text/plain": [
              "   temperatura classification\n",
              "0         29.1         quente\n",
              "1         31.2   muito quente\n",
              "2         28.5         quente\n",
              "3         28.0         quente\n",
              "4         24.0    confortavel\n",
              "5         20.0           frio"
            ],
            "text/html": [
              "\n",
              "  <div id=\"df-e67e732b-e831-487e-8ab0-3ab81c26c4b9\">\n",
              "    <div class=\"colab-df-container\">\n",
              "      <div>\n",
              "<style scoped>\n",
              "    .dataframe tbody tr th:only-of-type {\n",
              "        vertical-align: middle;\n",
              "    }\n",
              "\n",
              "    .dataframe tbody tr th {\n",
              "        vertical-align: top;\n",
              "    }\n",
              "\n",
              "    .dataframe thead th {\n",
              "        text-align: right;\n",
              "    }\n",
              "</style>\n",
              "<table border=\"1\" class=\"dataframe\">\n",
              "  <thead>\n",
              "    <tr style=\"text-align: right;\">\n",
              "      <th></th>\n",
              "      <th>temperatura</th>\n",
              "      <th>classification</th>\n",
              "    </tr>\n",
              "  </thead>\n",
              "  <tbody>\n",
              "    <tr>\n",
              "      <th>0</th>\n",
              "      <td>29.1</td>\n",
              "      <td>quente</td>\n",
              "    </tr>\n",
              "    <tr>\n",
              "      <th>1</th>\n",
              "      <td>31.2</td>\n",
              "      <td>muito quente</td>\n",
              "    </tr>\n",
              "    <tr>\n",
              "      <th>2</th>\n",
              "      <td>28.5</td>\n",
              "      <td>quente</td>\n",
              "    </tr>\n",
              "    <tr>\n",
              "      <th>3</th>\n",
              "      <td>28.0</td>\n",
              "      <td>quente</td>\n",
              "    </tr>\n",
              "    <tr>\n",
              "      <th>4</th>\n",
              "      <td>24.0</td>\n",
              "      <td>confortavel</td>\n",
              "    </tr>\n",
              "    <tr>\n",
              "      <th>5</th>\n",
              "      <td>20.0</td>\n",
              "      <td>frio</td>\n",
              "    </tr>\n",
              "  </tbody>\n",
              "</table>\n",
              "</div>\n",
              "      <button class=\"colab-df-convert\" onclick=\"convertToInteractive('df-e67e732b-e831-487e-8ab0-3ab81c26c4b9')\"\n",
              "              title=\"Convert this dataframe to an interactive table.\"\n",
              "              style=\"display:none;\">\n",
              "        \n",
              "  <svg xmlns=\"http://www.w3.org/2000/svg\" height=\"24px\"viewBox=\"0 0 24 24\"\n",
              "       width=\"24px\">\n",
              "    <path d=\"M0 0h24v24H0V0z\" fill=\"none\"/>\n",
              "    <path d=\"M18.56 5.44l.94 2.06.94-2.06 2.06-.94-2.06-.94-.94-2.06-.94 2.06-2.06.94zm-11 1L8.5 8.5l.94-2.06 2.06-.94-2.06-.94L8.5 2.5l-.94 2.06-2.06.94zm10 10l.94 2.06.94-2.06 2.06-.94-2.06-.94-.94-2.06-.94 2.06-2.06.94z\"/><path d=\"M17.41 7.96l-1.37-1.37c-.4-.4-.92-.59-1.43-.59-.52 0-1.04.2-1.43.59L10.3 9.45l-7.72 7.72c-.78.78-.78 2.05 0 2.83L4 21.41c.39.39.9.59 1.41.59.51 0 1.02-.2 1.41-.59l7.78-7.78 2.81-2.81c.8-.78.8-2.07 0-2.86zM5.41 20L4 18.59l7.72-7.72 1.47 1.35L5.41 20z\"/>\n",
              "  </svg>\n",
              "      </button>\n",
              "      \n",
              "  <style>\n",
              "    .colab-df-container {\n",
              "      display:flex;\n",
              "      flex-wrap:wrap;\n",
              "      gap: 12px;\n",
              "    }\n",
              "\n",
              "    .colab-df-convert {\n",
              "      background-color: #E8F0FE;\n",
              "      border: none;\n",
              "      border-radius: 50%;\n",
              "      cursor: pointer;\n",
              "      display: none;\n",
              "      fill: #1967D2;\n",
              "      height: 32px;\n",
              "      padding: 0 0 0 0;\n",
              "      width: 32px;\n",
              "    }\n",
              "\n",
              "    .colab-df-convert:hover {\n",
              "      background-color: #E2EBFA;\n",
              "      box-shadow: 0px 1px 2px rgba(60, 64, 67, 0.3), 0px 1px 3px 1px rgba(60, 64, 67, 0.15);\n",
              "      fill: #174EA6;\n",
              "    }\n",
              "\n",
              "    [theme=dark] .colab-df-convert {\n",
              "      background-color: #3B4455;\n",
              "      fill: #D2E3FC;\n",
              "    }\n",
              "\n",
              "    [theme=dark] .colab-df-convert:hover {\n",
              "      background-color: #434B5C;\n",
              "      box-shadow: 0px 1px 3px 1px rgba(0, 0, 0, 0.15);\n",
              "      filter: drop-shadow(0px 1px 2px rgba(0, 0, 0, 0.3));\n",
              "      fill: #FFFFFF;\n",
              "    }\n",
              "  </style>\n",
              "\n",
              "      <script>\n",
              "        const buttonEl =\n",
              "          document.querySelector('#df-e67e732b-e831-487e-8ab0-3ab81c26c4b9 button.colab-df-convert');\n",
              "        buttonEl.style.display =\n",
              "          google.colab.kernel.accessAllowed ? 'block' : 'none';\n",
              "\n",
              "        async function convertToInteractive(key) {\n",
              "          const element = document.querySelector('#df-e67e732b-e831-487e-8ab0-3ab81c26c4b9');\n",
              "          const dataTable =\n",
              "            await google.colab.kernel.invokeFunction('convertToInteractive',\n",
              "                                                     [key], {});\n",
              "          if (!dataTable) return;\n",
              "\n",
              "          const docLinkHtml = 'Like what you see? Visit the ' +\n",
              "            '<a target=\"_blank\" href=https://colab.research.google.com/notebooks/data_table.ipynb>data table notebook</a>'\n",
              "            + ' to learn more about interactive tables.';\n",
              "          element.innerHTML = '';\n",
              "          dataTable['output_type'] = 'display_data';\n",
              "          await google.colab.output.renderOutput(dataTable, element);\n",
              "          const docLink = document.createElement('div');\n",
              "          docLink.innerHTML = docLinkHtml;\n",
              "          element.appendChild(docLink);\n",
              "        }\n",
              "      </script>\n",
              "    </div>\n",
              "  </div>\n",
              "  "
            ]
          },
          "metadata": {},
          "execution_count": 23
        }
      ]
    },
    {
      "cell_type": "markdown",
      "source": [
        "#### 2.7.2 loc"
      ],
      "metadata": {
        "id": "IE7hV5TTf9aD"
      }
    },
    {
      "cell_type": "code",
      "source": [
        "#df.loc['nome_linha', 'nome_coluna'] # para uma linha e uma coluna\n",
        "#df.loc[:, 'temperatura']\n",
        "df.loc[:, ['temperatura', 'classification']]"
      ],
      "metadata": {
        "colab": {
          "base_uri": "https://localhost:8080/",
          "height": 237
        },
        "id": "no6xVzsxf_jm",
        "outputId": "36626826-9b92-40e6-8016-973fc4e78094"
      },
      "execution_count": null,
      "outputs": [
        {
          "output_type": "execute_result",
          "data": {
            "text/plain": [
              "   temperatura classification\n",
              "0         29.1         quente\n",
              "1         31.2   muito quente\n",
              "2         28.5         quente\n",
              "3         28.0         quente\n",
              "4         24.0    confortavel\n",
              "5         20.0           frio"
            ],
            "text/html": [
              "\n",
              "  <div id=\"df-734ef386-cd28-4e93-a296-b32f4cdda5ba\">\n",
              "    <div class=\"colab-df-container\">\n",
              "      <div>\n",
              "<style scoped>\n",
              "    .dataframe tbody tr th:only-of-type {\n",
              "        vertical-align: middle;\n",
              "    }\n",
              "\n",
              "    .dataframe tbody tr th {\n",
              "        vertical-align: top;\n",
              "    }\n",
              "\n",
              "    .dataframe thead th {\n",
              "        text-align: right;\n",
              "    }\n",
              "</style>\n",
              "<table border=\"1\" class=\"dataframe\">\n",
              "  <thead>\n",
              "    <tr style=\"text-align: right;\">\n",
              "      <th></th>\n",
              "      <th>temperatura</th>\n",
              "      <th>classification</th>\n",
              "    </tr>\n",
              "  </thead>\n",
              "  <tbody>\n",
              "    <tr>\n",
              "      <th>0</th>\n",
              "      <td>29.1</td>\n",
              "      <td>quente</td>\n",
              "    </tr>\n",
              "    <tr>\n",
              "      <th>1</th>\n",
              "      <td>31.2</td>\n",
              "      <td>muito quente</td>\n",
              "    </tr>\n",
              "    <tr>\n",
              "      <th>2</th>\n",
              "      <td>28.5</td>\n",
              "      <td>quente</td>\n",
              "    </tr>\n",
              "    <tr>\n",
              "      <th>3</th>\n",
              "      <td>28.0</td>\n",
              "      <td>quente</td>\n",
              "    </tr>\n",
              "    <tr>\n",
              "      <th>4</th>\n",
              "      <td>24.0</td>\n",
              "      <td>confortavel</td>\n",
              "    </tr>\n",
              "    <tr>\n",
              "      <th>5</th>\n",
              "      <td>20.0</td>\n",
              "      <td>frio</td>\n",
              "    </tr>\n",
              "  </tbody>\n",
              "</table>\n",
              "</div>\n",
              "      <button class=\"colab-df-convert\" onclick=\"convertToInteractive('df-734ef386-cd28-4e93-a296-b32f4cdda5ba')\"\n",
              "              title=\"Convert this dataframe to an interactive table.\"\n",
              "              style=\"display:none;\">\n",
              "        \n",
              "  <svg xmlns=\"http://www.w3.org/2000/svg\" height=\"24px\"viewBox=\"0 0 24 24\"\n",
              "       width=\"24px\">\n",
              "    <path d=\"M0 0h24v24H0V0z\" fill=\"none\"/>\n",
              "    <path d=\"M18.56 5.44l.94 2.06.94-2.06 2.06-.94-2.06-.94-.94-2.06-.94 2.06-2.06.94zm-11 1L8.5 8.5l.94-2.06 2.06-.94-2.06-.94L8.5 2.5l-.94 2.06-2.06.94zm10 10l.94 2.06.94-2.06 2.06-.94-2.06-.94-.94-2.06-.94 2.06-2.06.94z\"/><path d=\"M17.41 7.96l-1.37-1.37c-.4-.4-.92-.59-1.43-.59-.52 0-1.04.2-1.43.59L10.3 9.45l-7.72 7.72c-.78.78-.78 2.05 0 2.83L4 21.41c.39.39.9.59 1.41.59.51 0 1.02-.2 1.41-.59l7.78-7.78 2.81-2.81c.8-.78.8-2.07 0-2.86zM5.41 20L4 18.59l7.72-7.72 1.47 1.35L5.41 20z\"/>\n",
              "  </svg>\n",
              "      </button>\n",
              "      \n",
              "  <style>\n",
              "    .colab-df-container {\n",
              "      display:flex;\n",
              "      flex-wrap:wrap;\n",
              "      gap: 12px;\n",
              "    }\n",
              "\n",
              "    .colab-df-convert {\n",
              "      background-color: #E8F0FE;\n",
              "      border: none;\n",
              "      border-radius: 50%;\n",
              "      cursor: pointer;\n",
              "      display: none;\n",
              "      fill: #1967D2;\n",
              "      height: 32px;\n",
              "      padding: 0 0 0 0;\n",
              "      width: 32px;\n",
              "    }\n",
              "\n",
              "    .colab-df-convert:hover {\n",
              "      background-color: #E2EBFA;\n",
              "      box-shadow: 0px 1px 2px rgba(60, 64, 67, 0.3), 0px 1px 3px 1px rgba(60, 64, 67, 0.15);\n",
              "      fill: #174EA6;\n",
              "    }\n",
              "\n",
              "    [theme=dark] .colab-df-convert {\n",
              "      background-color: #3B4455;\n",
              "      fill: #D2E3FC;\n",
              "    }\n",
              "\n",
              "    [theme=dark] .colab-df-convert:hover {\n",
              "      background-color: #434B5C;\n",
              "      box-shadow: 0px 1px 3px 1px rgba(0, 0, 0, 0.15);\n",
              "      filter: drop-shadow(0px 1px 2px rgba(0, 0, 0, 0.3));\n",
              "      fill: #FFFFFF;\n",
              "    }\n",
              "  </style>\n",
              "\n",
              "      <script>\n",
              "        const buttonEl =\n",
              "          document.querySelector('#df-734ef386-cd28-4e93-a296-b32f4cdda5ba button.colab-df-convert');\n",
              "        buttonEl.style.display =\n",
              "          google.colab.kernel.accessAllowed ? 'block' : 'none';\n",
              "\n",
              "        async function convertToInteractive(key) {\n",
              "          const element = document.querySelector('#df-734ef386-cd28-4e93-a296-b32f4cdda5ba');\n",
              "          const dataTable =\n",
              "            await google.colab.kernel.invokeFunction('convertToInteractive',\n",
              "                                                     [key], {});\n",
              "          if (!dataTable) return;\n",
              "\n",
              "          const docLinkHtml = 'Like what you see? Visit the ' +\n",
              "            '<a target=\"_blank\" href=https://colab.research.google.com/notebooks/data_table.ipynb>data table notebook</a>'\n",
              "            + ' to learn more about interactive tables.';\n",
              "          element.innerHTML = '';\n",
              "          dataTable['output_type'] = 'display_data';\n",
              "          await google.colab.output.renderOutput(dataTable, element);\n",
              "          const docLink = document.createElement('div');\n",
              "          docLink.innerHTML = docLinkHtml;\n",
              "          element.appendChild(docLink);\n",
              "        }\n",
              "      </script>\n",
              "    </div>\n",
              "  </div>\n",
              "  "
            ]
          },
          "metadata": {},
          "execution_count": 24
        }
      ]
    },
    {
      "cell_type": "markdown",
      "source": [
        "#### 2.7.3 booleana"
      ],
      "metadata": {
        "id": "i3Euk46vgHOW"
      }
    },
    {
      "cell_type": "code",
      "source": [
        "df['date'] = pd.to_datetime(df['date'])"
      ],
      "metadata": {
        "id": "of8kns3fjgBj"
      },
      "execution_count": null,
      "outputs": []
    },
    {
      "cell_type": "code",
      "source": [
        "df = df.set_index('date')"
      ],
      "metadata": {
        "id": "r3vI6al-jfyO"
      },
      "execution_count": 3,
      "outputs": []
    },
    {
      "cell_type": "code",
      "source": [
        "df[df['classification'] == 'quente']"
      ],
      "metadata": {
        "colab": {
          "base_uri": "https://localhost:8080/",
          "height": 175
        },
        "id": "pxwZopuKf_hH",
        "outputId": "20c6b074-1aa6-484b-dcac-226ff3209b74"
      },
      "execution_count": null,
      "outputs": [
        {
          "output_type": "execute_result",
          "data": {
            "text/plain": [
              "            temperatura classification\n",
              "date                                  \n",
              "2020-01-01         29.1         quente\n",
              "2020-03-01         28.5         quente\n",
              "2020-04-01         28.0         quente"
            ],
            "text/html": [
              "\n",
              "  <div id=\"df-15110949-7976-4317-b635-27b22673ab9f\">\n",
              "    <div class=\"colab-df-container\">\n",
              "      <div>\n",
              "<style scoped>\n",
              "    .dataframe tbody tr th:only-of-type {\n",
              "        vertical-align: middle;\n",
              "    }\n",
              "\n",
              "    .dataframe tbody tr th {\n",
              "        vertical-align: top;\n",
              "    }\n",
              "\n",
              "    .dataframe thead th {\n",
              "        text-align: right;\n",
              "    }\n",
              "</style>\n",
              "<table border=\"1\" class=\"dataframe\">\n",
              "  <thead>\n",
              "    <tr style=\"text-align: right;\">\n",
              "      <th></th>\n",
              "      <th>temperatura</th>\n",
              "      <th>classification</th>\n",
              "    </tr>\n",
              "    <tr>\n",
              "      <th>date</th>\n",
              "      <th></th>\n",
              "      <th></th>\n",
              "    </tr>\n",
              "  </thead>\n",
              "  <tbody>\n",
              "    <tr>\n",
              "      <th>2020-01-01</th>\n",
              "      <td>29.1</td>\n",
              "      <td>quente</td>\n",
              "    </tr>\n",
              "    <tr>\n",
              "      <th>2020-03-01</th>\n",
              "      <td>28.5</td>\n",
              "      <td>quente</td>\n",
              "    </tr>\n",
              "    <tr>\n",
              "      <th>2020-04-01</th>\n",
              "      <td>28.0</td>\n",
              "      <td>quente</td>\n",
              "    </tr>\n",
              "  </tbody>\n",
              "</table>\n",
              "</div>\n",
              "      <button class=\"colab-df-convert\" onclick=\"convertToInteractive('df-15110949-7976-4317-b635-27b22673ab9f')\"\n",
              "              title=\"Convert this dataframe to an interactive table.\"\n",
              "              style=\"display:none;\">\n",
              "        \n",
              "  <svg xmlns=\"http://www.w3.org/2000/svg\" height=\"24px\"viewBox=\"0 0 24 24\"\n",
              "       width=\"24px\">\n",
              "    <path d=\"M0 0h24v24H0V0z\" fill=\"none\"/>\n",
              "    <path d=\"M18.56 5.44l.94 2.06.94-2.06 2.06-.94-2.06-.94-.94-2.06-.94 2.06-2.06.94zm-11 1L8.5 8.5l.94-2.06 2.06-.94-2.06-.94L8.5 2.5l-.94 2.06-2.06.94zm10 10l.94 2.06.94-2.06 2.06-.94-2.06-.94-.94-2.06-.94 2.06-2.06.94z\"/><path d=\"M17.41 7.96l-1.37-1.37c-.4-.4-.92-.59-1.43-.59-.52 0-1.04.2-1.43.59L10.3 9.45l-7.72 7.72c-.78.78-.78 2.05 0 2.83L4 21.41c.39.39.9.59 1.41.59.51 0 1.02-.2 1.41-.59l7.78-7.78 2.81-2.81c.8-.78.8-2.07 0-2.86zM5.41 20L4 18.59l7.72-7.72 1.47 1.35L5.41 20z\"/>\n",
              "  </svg>\n",
              "      </button>\n",
              "      \n",
              "  <style>\n",
              "    .colab-df-container {\n",
              "      display:flex;\n",
              "      flex-wrap:wrap;\n",
              "      gap: 12px;\n",
              "    }\n",
              "\n",
              "    .colab-df-convert {\n",
              "      background-color: #E8F0FE;\n",
              "      border: none;\n",
              "      border-radius: 50%;\n",
              "      cursor: pointer;\n",
              "      display: none;\n",
              "      fill: #1967D2;\n",
              "      height: 32px;\n",
              "      padding: 0 0 0 0;\n",
              "      width: 32px;\n",
              "    }\n",
              "\n",
              "    .colab-df-convert:hover {\n",
              "      background-color: #E2EBFA;\n",
              "      box-shadow: 0px 1px 2px rgba(60, 64, 67, 0.3), 0px 1px 3px 1px rgba(60, 64, 67, 0.15);\n",
              "      fill: #174EA6;\n",
              "    }\n",
              "\n",
              "    [theme=dark] .colab-df-convert {\n",
              "      background-color: #3B4455;\n",
              "      fill: #D2E3FC;\n",
              "    }\n",
              "\n",
              "    [theme=dark] .colab-df-convert:hover {\n",
              "      background-color: #434B5C;\n",
              "      box-shadow: 0px 1px 3px 1px rgba(0, 0, 0, 0.15);\n",
              "      filter: drop-shadow(0px 1px 2px rgba(0, 0, 0, 0.3));\n",
              "      fill: #FFFFFF;\n",
              "    }\n",
              "  </style>\n",
              "\n",
              "      <script>\n",
              "        const buttonEl =\n",
              "          document.querySelector('#df-15110949-7976-4317-b635-27b22673ab9f button.colab-df-convert');\n",
              "        buttonEl.style.display =\n",
              "          google.colab.kernel.accessAllowed ? 'block' : 'none';\n",
              "\n",
              "        async function convertToInteractive(key) {\n",
              "          const element = document.querySelector('#df-15110949-7976-4317-b635-27b22673ab9f');\n",
              "          const dataTable =\n",
              "            await google.colab.kernel.invokeFunction('convertToInteractive',\n",
              "                                                     [key], {});\n",
              "          if (!dataTable) return;\n",
              "\n",
              "          const docLinkHtml = 'Like what you see? Visit the ' +\n",
              "            '<a target=\"_blank\" href=https://colab.research.google.com/notebooks/data_table.ipynb>data table notebook</a>'\n",
              "            + ' to learn more about interactive tables.';\n",
              "          element.innerHTML = '';\n",
              "          dataTable['output_type'] = 'display_data';\n",
              "          await google.colab.output.renderOutput(dataTable, element);\n",
              "          const docLink = document.createElement('div');\n",
              "          docLink.innerHTML = docLinkHtml;\n",
              "          element.appendChild(docLink);\n",
              "        }\n",
              "      </script>\n",
              "    </div>\n",
              "  </div>\n",
              "  "
            ]
          },
          "metadata": {},
          "execution_count": 31
        }
      ]
    },
    {
      "cell_type": "code",
      "source": [
        "df.loc[df['classification'] == 'quente', 'temperatura'] # usar o booelano em conjunto com o loc"
      ],
      "metadata": {
        "colab": {
          "base_uri": "https://localhost:8080/"
        },
        "id": "yDjjdW3ogWYv",
        "outputId": "0ab6a909-8f71-4aae-e2a7-0ff64dc0b48c"
      },
      "execution_count": null,
      "outputs": [
        {
          "output_type": "execute_result",
          "data": {
            "text/plain": [
              "date\n",
              "2020-01-01    29.1\n",
              "2020-03-01    28.5\n",
              "2020-04-01    28.0\n",
              "Name: temperatura, dtype: float64"
            ]
          },
          "metadata": {},
          "execution_count": 32
        }
      ]
    },
    {
      "cell_type": "code",
      "source": [
        "# selecionar apenas exemplos acima de 25 graus\n",
        "df[df['temperatura'] >= 25]"
      ],
      "metadata": {
        "colab": {
          "base_uri": "https://localhost:8080/",
          "height": 206
        },
        "id": "pyXXo--Sj1aN",
        "outputId": "8385bdd0-24b4-468d-99cc-d37efe2650a7"
      },
      "execution_count": null,
      "outputs": [
        {
          "output_type": "execute_result",
          "data": {
            "text/plain": [
              "            temperatura classification\n",
              "date                                  \n",
              "2020-01-01         29.1         quente\n",
              "2020-02-01         31.2   muito quente\n",
              "2020-03-01         28.5         quente\n",
              "2020-04-01         28.0         quente"
            ],
            "text/html": [
              "\n",
              "  <div id=\"df-53f8853c-69fe-4c06-9177-ecf0f2af4b00\">\n",
              "    <div class=\"colab-df-container\">\n",
              "      <div>\n",
              "<style scoped>\n",
              "    .dataframe tbody tr th:only-of-type {\n",
              "        vertical-align: middle;\n",
              "    }\n",
              "\n",
              "    .dataframe tbody tr th {\n",
              "        vertical-align: top;\n",
              "    }\n",
              "\n",
              "    .dataframe thead th {\n",
              "        text-align: right;\n",
              "    }\n",
              "</style>\n",
              "<table border=\"1\" class=\"dataframe\">\n",
              "  <thead>\n",
              "    <tr style=\"text-align: right;\">\n",
              "      <th></th>\n",
              "      <th>temperatura</th>\n",
              "      <th>classification</th>\n",
              "    </tr>\n",
              "    <tr>\n",
              "      <th>date</th>\n",
              "      <th></th>\n",
              "      <th></th>\n",
              "    </tr>\n",
              "  </thead>\n",
              "  <tbody>\n",
              "    <tr>\n",
              "      <th>2020-01-01</th>\n",
              "      <td>29.1</td>\n",
              "      <td>quente</td>\n",
              "    </tr>\n",
              "    <tr>\n",
              "      <th>2020-02-01</th>\n",
              "      <td>31.2</td>\n",
              "      <td>muito quente</td>\n",
              "    </tr>\n",
              "    <tr>\n",
              "      <th>2020-03-01</th>\n",
              "      <td>28.5</td>\n",
              "      <td>quente</td>\n",
              "    </tr>\n",
              "    <tr>\n",
              "      <th>2020-04-01</th>\n",
              "      <td>28.0</td>\n",
              "      <td>quente</td>\n",
              "    </tr>\n",
              "  </tbody>\n",
              "</table>\n",
              "</div>\n",
              "      <button class=\"colab-df-convert\" onclick=\"convertToInteractive('df-53f8853c-69fe-4c06-9177-ecf0f2af4b00')\"\n",
              "              title=\"Convert this dataframe to an interactive table.\"\n",
              "              style=\"display:none;\">\n",
              "        \n",
              "  <svg xmlns=\"http://www.w3.org/2000/svg\" height=\"24px\"viewBox=\"0 0 24 24\"\n",
              "       width=\"24px\">\n",
              "    <path d=\"M0 0h24v24H0V0z\" fill=\"none\"/>\n",
              "    <path d=\"M18.56 5.44l.94 2.06.94-2.06 2.06-.94-2.06-.94-.94-2.06-.94 2.06-2.06.94zm-11 1L8.5 8.5l.94-2.06 2.06-.94-2.06-.94L8.5 2.5l-.94 2.06-2.06.94zm10 10l.94 2.06.94-2.06 2.06-.94-2.06-.94-.94-2.06-.94 2.06-2.06.94z\"/><path d=\"M17.41 7.96l-1.37-1.37c-.4-.4-.92-.59-1.43-.59-.52 0-1.04.2-1.43.59L10.3 9.45l-7.72 7.72c-.78.78-.78 2.05 0 2.83L4 21.41c.39.39.9.59 1.41.59.51 0 1.02-.2 1.41-.59l7.78-7.78 2.81-2.81c.8-.78.8-2.07 0-2.86zM5.41 20L4 18.59l7.72-7.72 1.47 1.35L5.41 20z\"/>\n",
              "  </svg>\n",
              "      </button>\n",
              "      \n",
              "  <style>\n",
              "    .colab-df-container {\n",
              "      display:flex;\n",
              "      flex-wrap:wrap;\n",
              "      gap: 12px;\n",
              "    }\n",
              "\n",
              "    .colab-df-convert {\n",
              "      background-color: #E8F0FE;\n",
              "      border: none;\n",
              "      border-radius: 50%;\n",
              "      cursor: pointer;\n",
              "      display: none;\n",
              "      fill: #1967D2;\n",
              "      height: 32px;\n",
              "      padding: 0 0 0 0;\n",
              "      width: 32px;\n",
              "    }\n",
              "\n",
              "    .colab-df-convert:hover {\n",
              "      background-color: #E2EBFA;\n",
              "      box-shadow: 0px 1px 2px rgba(60, 64, 67, 0.3), 0px 1px 3px 1px rgba(60, 64, 67, 0.15);\n",
              "      fill: #174EA6;\n",
              "    }\n",
              "\n",
              "    [theme=dark] .colab-df-convert {\n",
              "      background-color: #3B4455;\n",
              "      fill: #D2E3FC;\n",
              "    }\n",
              "\n",
              "    [theme=dark] .colab-df-convert:hover {\n",
              "      background-color: #434B5C;\n",
              "      box-shadow: 0px 1px 3px 1px rgba(0, 0, 0, 0.15);\n",
              "      filter: drop-shadow(0px 1px 2px rgba(0, 0, 0, 0.3));\n",
              "      fill: #FFFFFF;\n",
              "    }\n",
              "  </style>\n",
              "\n",
              "      <script>\n",
              "        const buttonEl =\n",
              "          document.querySelector('#df-53f8853c-69fe-4c06-9177-ecf0f2af4b00 button.colab-df-convert');\n",
              "        buttonEl.style.display =\n",
              "          google.colab.kernel.accessAllowed ? 'block' : 'none';\n",
              "\n",
              "        async function convertToInteractive(key) {\n",
              "          const element = document.querySelector('#df-53f8853c-69fe-4c06-9177-ecf0f2af4b00');\n",
              "          const dataTable =\n",
              "            await google.colab.kernel.invokeFunction('convertToInteractive',\n",
              "                                                     [key], {});\n",
              "          if (!dataTable) return;\n",
              "\n",
              "          const docLinkHtml = 'Like what you see? Visit the ' +\n",
              "            '<a target=\"_blank\" href=https://colab.research.google.com/notebooks/data_table.ipynb>data table notebook</a>'\n",
              "            + ' to learn more about interactive tables.';\n",
              "          element.innerHTML = '';\n",
              "          dataTable['output_type'] = 'display_data';\n",
              "          await google.colab.output.renderOutput(dataTable, element);\n",
              "          const docLink = document.createElement('div');\n",
              "          docLink.innerHTML = docLinkHtml;\n",
              "          element.appendChild(docLink);\n",
              "        }\n",
              "      </script>\n",
              "    </div>\n",
              "  </div>\n",
              "  "
            ]
          },
          "metadata": {},
          "execution_count": 34
        }
      ]
    },
    {
      "cell_type": "code",
      "source": [
        "# selecionar entradas até Março de 2020\n",
        "df[df.index <= '2020-03-01']"
      ],
      "metadata": {
        "colab": {
          "base_uri": "https://localhost:8080/",
          "height": 175
        },
        "id": "dUr-TSHYj1SP",
        "outputId": "4e3e6062-7021-486d-f1ff-fa1b3cb60a99"
      },
      "execution_count": null,
      "outputs": [
        {
          "output_type": "execute_result",
          "data": {
            "text/plain": [
              "            temperatura classification\n",
              "date                                  \n",
              "2020-01-01         29.1         quente\n",
              "2020-02-01         31.2   muito quente\n",
              "2020-03-01         28.5         quente"
            ],
            "text/html": [
              "\n",
              "  <div id=\"df-a2f62c1f-739a-4007-a3e1-14edb5c36166\">\n",
              "    <div class=\"colab-df-container\">\n",
              "      <div>\n",
              "<style scoped>\n",
              "    .dataframe tbody tr th:only-of-type {\n",
              "        vertical-align: middle;\n",
              "    }\n",
              "\n",
              "    .dataframe tbody tr th {\n",
              "        vertical-align: top;\n",
              "    }\n",
              "\n",
              "    .dataframe thead th {\n",
              "        text-align: right;\n",
              "    }\n",
              "</style>\n",
              "<table border=\"1\" class=\"dataframe\">\n",
              "  <thead>\n",
              "    <tr style=\"text-align: right;\">\n",
              "      <th></th>\n",
              "      <th>temperatura</th>\n",
              "      <th>classification</th>\n",
              "    </tr>\n",
              "    <tr>\n",
              "      <th>date</th>\n",
              "      <th></th>\n",
              "      <th></th>\n",
              "    </tr>\n",
              "  </thead>\n",
              "  <tbody>\n",
              "    <tr>\n",
              "      <th>2020-01-01</th>\n",
              "      <td>29.1</td>\n",
              "      <td>quente</td>\n",
              "    </tr>\n",
              "    <tr>\n",
              "      <th>2020-02-01</th>\n",
              "      <td>31.2</td>\n",
              "      <td>muito quente</td>\n",
              "    </tr>\n",
              "    <tr>\n",
              "      <th>2020-03-01</th>\n",
              "      <td>28.5</td>\n",
              "      <td>quente</td>\n",
              "    </tr>\n",
              "  </tbody>\n",
              "</table>\n",
              "</div>\n",
              "      <button class=\"colab-df-convert\" onclick=\"convertToInteractive('df-a2f62c1f-739a-4007-a3e1-14edb5c36166')\"\n",
              "              title=\"Convert this dataframe to an interactive table.\"\n",
              "              style=\"display:none;\">\n",
              "        \n",
              "  <svg xmlns=\"http://www.w3.org/2000/svg\" height=\"24px\"viewBox=\"0 0 24 24\"\n",
              "       width=\"24px\">\n",
              "    <path d=\"M0 0h24v24H0V0z\" fill=\"none\"/>\n",
              "    <path d=\"M18.56 5.44l.94 2.06.94-2.06 2.06-.94-2.06-.94-.94-2.06-.94 2.06-2.06.94zm-11 1L8.5 8.5l.94-2.06 2.06-.94-2.06-.94L8.5 2.5l-.94 2.06-2.06.94zm10 10l.94 2.06.94-2.06 2.06-.94-2.06-.94-.94-2.06-.94 2.06-2.06.94z\"/><path d=\"M17.41 7.96l-1.37-1.37c-.4-.4-.92-.59-1.43-.59-.52 0-1.04.2-1.43.59L10.3 9.45l-7.72 7.72c-.78.78-.78 2.05 0 2.83L4 21.41c.39.39.9.59 1.41.59.51 0 1.02-.2 1.41-.59l7.78-7.78 2.81-2.81c.8-.78.8-2.07 0-2.86zM5.41 20L4 18.59l7.72-7.72 1.47 1.35L5.41 20z\"/>\n",
              "  </svg>\n",
              "      </button>\n",
              "      \n",
              "  <style>\n",
              "    .colab-df-container {\n",
              "      display:flex;\n",
              "      flex-wrap:wrap;\n",
              "      gap: 12px;\n",
              "    }\n",
              "\n",
              "    .colab-df-convert {\n",
              "      background-color: #E8F0FE;\n",
              "      border: none;\n",
              "      border-radius: 50%;\n",
              "      cursor: pointer;\n",
              "      display: none;\n",
              "      fill: #1967D2;\n",
              "      height: 32px;\n",
              "      padding: 0 0 0 0;\n",
              "      width: 32px;\n",
              "    }\n",
              "\n",
              "    .colab-df-convert:hover {\n",
              "      background-color: #E2EBFA;\n",
              "      box-shadow: 0px 1px 2px rgba(60, 64, 67, 0.3), 0px 1px 3px 1px rgba(60, 64, 67, 0.15);\n",
              "      fill: #174EA6;\n",
              "    }\n",
              "\n",
              "    [theme=dark] .colab-df-convert {\n",
              "      background-color: #3B4455;\n",
              "      fill: #D2E3FC;\n",
              "    }\n",
              "\n",
              "    [theme=dark] .colab-df-convert:hover {\n",
              "      background-color: #434B5C;\n",
              "      box-shadow: 0px 1px 3px 1px rgba(0, 0, 0, 0.15);\n",
              "      filter: drop-shadow(0px 1px 2px rgba(0, 0, 0, 0.3));\n",
              "      fill: #FFFFFF;\n",
              "    }\n",
              "  </style>\n",
              "\n",
              "      <script>\n",
              "        const buttonEl =\n",
              "          document.querySelector('#df-a2f62c1f-739a-4007-a3e1-14edb5c36166 button.colab-df-convert');\n",
              "        buttonEl.style.display =\n",
              "          google.colab.kernel.accessAllowed ? 'block' : 'none';\n",
              "\n",
              "        async function convertToInteractive(key) {\n",
              "          const element = document.querySelector('#df-a2f62c1f-739a-4007-a3e1-14edb5c36166');\n",
              "          const dataTable =\n",
              "            await google.colab.kernel.invokeFunction('convertToInteractive',\n",
              "                                                     [key], {});\n",
              "          if (!dataTable) return;\n",
              "\n",
              "          const docLinkHtml = 'Like what you see? Visit the ' +\n",
              "            '<a target=\"_blank\" href=https://colab.research.google.com/notebooks/data_table.ipynb>data table notebook</a>'\n",
              "            + ' to learn more about interactive tables.';\n",
              "          element.innerHTML = '';\n",
              "          dataTable['output_type'] = 'display_data';\n",
              "          await google.colab.output.renderOutput(dataTable, element);\n",
              "          const docLink = document.createElement('div');\n",
              "          docLink.innerHTML = docLinkHtml;\n",
              "          element.appendChild(docLink);\n",
              "        }\n",
              "      </script>\n",
              "    </div>\n",
              "  </div>\n",
              "  "
            ]
          },
          "metadata": {},
          "execution_count": 36
        }
      ]
    },
    {
      "cell_type": "markdown",
      "source": [
        "### 2.8 Visualização de colunas"
      ],
      "metadata": {
        "id": "H2nstMUxhVo9"
      }
    },
    {
      "cell_type": "code",
      "source": [
        "# uma unica coluna\n",
        "df['date']"
      ],
      "metadata": {
        "colab": {
          "base_uri": "https://localhost:8080/"
        },
        "id": "MqoAwyA9hY-F",
        "outputId": "71769272-706d-40d8-ea73-557d3ec1a170"
      },
      "execution_count": null,
      "outputs": [
        {
          "output_type": "execute_result",
          "data": {
            "text/plain": [
              "0    2020-01-01\n",
              "1    2020-02-01\n",
              "2    2020-03-01\n",
              "3    2020-04-01\n",
              "4    2020-05-01\n",
              "5    2020-06-01\n",
              "Name: date, dtype: object"
            ]
          },
          "metadata": {},
          "execution_count": 10
        }
      ]
    },
    {
      "cell_type": "code",
      "source": [
        "# mais de uma coluna - passa uma lista das colunas (labels) desejadas\n",
        "df[['temperatura', 'classification']]"
      ],
      "metadata": {
        "colab": {
          "base_uri": "https://localhost:8080/",
          "height": 269
        },
        "id": "ki96ukXphchN",
        "outputId": "56642a4d-03f4-4eb0-c67f-c83a06cb3efb"
      },
      "execution_count": null,
      "outputs": [
        {
          "output_type": "execute_result",
          "data": {
            "text/plain": [
              "            temperatura classification\n",
              "date                                  \n",
              "2020-01-01         29.1         quente\n",
              "2020-02-01         31.2   muito quente\n",
              "2020-03-01         28.5         quente\n",
              "2020-04-01         28.0         quente\n",
              "2020-05-01         24.0    confortavel\n",
              "2020-06-01         20.0           frio"
            ],
            "text/html": [
              "\n",
              "  <div id=\"df-f0c9878e-02b6-435e-a6ad-40cf7a30c409\">\n",
              "    <div class=\"colab-df-container\">\n",
              "      <div>\n",
              "<style scoped>\n",
              "    .dataframe tbody tr th:only-of-type {\n",
              "        vertical-align: middle;\n",
              "    }\n",
              "\n",
              "    .dataframe tbody tr th {\n",
              "        vertical-align: top;\n",
              "    }\n",
              "\n",
              "    .dataframe thead th {\n",
              "        text-align: right;\n",
              "    }\n",
              "</style>\n",
              "<table border=\"1\" class=\"dataframe\">\n",
              "  <thead>\n",
              "    <tr style=\"text-align: right;\">\n",
              "      <th></th>\n",
              "      <th>temperatura</th>\n",
              "      <th>classification</th>\n",
              "    </tr>\n",
              "    <tr>\n",
              "      <th>date</th>\n",
              "      <th></th>\n",
              "      <th></th>\n",
              "    </tr>\n",
              "  </thead>\n",
              "  <tbody>\n",
              "    <tr>\n",
              "      <th>2020-01-01</th>\n",
              "      <td>29.1</td>\n",
              "      <td>quente</td>\n",
              "    </tr>\n",
              "    <tr>\n",
              "      <th>2020-02-01</th>\n",
              "      <td>31.2</td>\n",
              "      <td>muito quente</td>\n",
              "    </tr>\n",
              "    <tr>\n",
              "      <th>2020-03-01</th>\n",
              "      <td>28.5</td>\n",
              "      <td>quente</td>\n",
              "    </tr>\n",
              "    <tr>\n",
              "      <th>2020-04-01</th>\n",
              "      <td>28.0</td>\n",
              "      <td>quente</td>\n",
              "    </tr>\n",
              "    <tr>\n",
              "      <th>2020-05-01</th>\n",
              "      <td>24.0</td>\n",
              "      <td>confortavel</td>\n",
              "    </tr>\n",
              "    <tr>\n",
              "      <th>2020-06-01</th>\n",
              "      <td>20.0</td>\n",
              "      <td>frio</td>\n",
              "    </tr>\n",
              "  </tbody>\n",
              "</table>\n",
              "</div>\n",
              "      <button class=\"colab-df-convert\" onclick=\"convertToInteractive('df-f0c9878e-02b6-435e-a6ad-40cf7a30c409')\"\n",
              "              title=\"Convert this dataframe to an interactive table.\"\n",
              "              style=\"display:none;\">\n",
              "        \n",
              "  <svg xmlns=\"http://www.w3.org/2000/svg\" height=\"24px\"viewBox=\"0 0 24 24\"\n",
              "       width=\"24px\">\n",
              "    <path d=\"M0 0h24v24H0V0z\" fill=\"none\"/>\n",
              "    <path d=\"M18.56 5.44l.94 2.06.94-2.06 2.06-.94-2.06-.94-.94-2.06-.94 2.06-2.06.94zm-11 1L8.5 8.5l.94-2.06 2.06-.94-2.06-.94L8.5 2.5l-.94 2.06-2.06.94zm10 10l.94 2.06.94-2.06 2.06-.94-2.06-.94-.94-2.06-.94 2.06-2.06.94z\"/><path d=\"M17.41 7.96l-1.37-1.37c-.4-.4-.92-.59-1.43-.59-.52 0-1.04.2-1.43.59L10.3 9.45l-7.72 7.72c-.78.78-.78 2.05 0 2.83L4 21.41c.39.39.9.59 1.41.59.51 0 1.02-.2 1.41-.59l7.78-7.78 2.81-2.81c.8-.78.8-2.07 0-2.86zM5.41 20L4 18.59l7.72-7.72 1.47 1.35L5.41 20z\"/>\n",
              "  </svg>\n",
              "      </button>\n",
              "      \n",
              "  <style>\n",
              "    .colab-df-container {\n",
              "      display:flex;\n",
              "      flex-wrap:wrap;\n",
              "      gap: 12px;\n",
              "    }\n",
              "\n",
              "    .colab-df-convert {\n",
              "      background-color: #E8F0FE;\n",
              "      border: none;\n",
              "      border-radius: 50%;\n",
              "      cursor: pointer;\n",
              "      display: none;\n",
              "      fill: #1967D2;\n",
              "      height: 32px;\n",
              "      padding: 0 0 0 0;\n",
              "      width: 32px;\n",
              "    }\n",
              "\n",
              "    .colab-df-convert:hover {\n",
              "      background-color: #E2EBFA;\n",
              "      box-shadow: 0px 1px 2px rgba(60, 64, 67, 0.3), 0px 1px 3px 1px rgba(60, 64, 67, 0.15);\n",
              "      fill: #174EA6;\n",
              "    }\n",
              "\n",
              "    [theme=dark] .colab-df-convert {\n",
              "      background-color: #3B4455;\n",
              "      fill: #D2E3FC;\n",
              "    }\n",
              "\n",
              "    [theme=dark] .colab-df-convert:hover {\n",
              "      background-color: #434B5C;\n",
              "      box-shadow: 0px 1px 3px 1px rgba(0, 0, 0, 0.15);\n",
              "      filter: drop-shadow(0px 1px 2px rgba(0, 0, 0, 0.3));\n",
              "      fill: #FFFFFF;\n",
              "    }\n",
              "  </style>\n",
              "\n",
              "      <script>\n",
              "        const buttonEl =\n",
              "          document.querySelector('#df-f0c9878e-02b6-435e-a6ad-40cf7a30c409 button.colab-df-convert');\n",
              "        buttonEl.style.display =\n",
              "          google.colab.kernel.accessAllowed ? 'block' : 'none';\n",
              "\n",
              "        async function convertToInteractive(key) {\n",
              "          const element = document.querySelector('#df-f0c9878e-02b6-435e-a6ad-40cf7a30c409');\n",
              "          const dataTable =\n",
              "            await google.colab.kernel.invokeFunction('convertToInteractive',\n",
              "                                                     [key], {});\n",
              "          if (!dataTable) return;\n",
              "\n",
              "          const docLinkHtml = 'Like what you see? Visit the ' +\n",
              "            '<a target=\"_blank\" href=https://colab.research.google.com/notebooks/data_table.ipynb>data table notebook</a>'\n",
              "            + ' to learn more about interactive tables.';\n",
              "          element.innerHTML = '';\n",
              "          dataTable['output_type'] = 'display_data';\n",
              "          await google.colab.output.renderOutput(dataTable, element);\n",
              "          const docLink = document.createElement('div');\n",
              "          docLink.innerHTML = docLinkHtml;\n",
              "          element.appendChild(docLink);\n",
              "        }\n",
              "      </script>\n",
              "    </div>\n",
              "  </div>\n",
              "  "
            ]
          },
          "metadata": {},
          "execution_count": 38
        }
      ]
    },
    {
      "cell_type": "markdown",
      "source": [
        "### 2.9 Ordenação"
      ],
      "metadata": {
        "id": "e32sOXdNlHOS"
      }
    },
    {
      "cell_type": "markdown",
      "source": [
        "#### 2.9.1 Sort_values"
      ],
      "metadata": {
        "id": "-hCzcxslnAAZ"
      }
    },
    {
      "cell_type": "code",
      "source": [
        "# ordenação de forma crescente\n",
        "df.sort_values(by='temperatura')"
      ],
      "metadata": {
        "colab": {
          "base_uri": "https://localhost:8080/",
          "height": 269
        },
        "id": "xOAhcM78lOFc",
        "outputId": "55f5588d-0e33-4b66-a1d8-946a9f01f929"
      },
      "execution_count": null,
      "outputs": [
        {
          "output_type": "execute_result",
          "data": {
            "text/plain": [
              "            temperatura classification\n",
              "date                                  \n",
              "2020-06-01         20.0           frio\n",
              "2020-05-01         24.0    confortavel\n",
              "2020-04-01         28.0         quente\n",
              "2020-03-01         28.5         quente\n",
              "2020-01-01         29.1         quente\n",
              "2020-02-01         31.2   muito quente"
            ],
            "text/html": [
              "\n",
              "  <div id=\"df-06e0ee55-4393-424a-9c20-094a18e6249a\">\n",
              "    <div class=\"colab-df-container\">\n",
              "      <div>\n",
              "<style scoped>\n",
              "    .dataframe tbody tr th:only-of-type {\n",
              "        vertical-align: middle;\n",
              "    }\n",
              "\n",
              "    .dataframe tbody tr th {\n",
              "        vertical-align: top;\n",
              "    }\n",
              "\n",
              "    .dataframe thead th {\n",
              "        text-align: right;\n",
              "    }\n",
              "</style>\n",
              "<table border=\"1\" class=\"dataframe\">\n",
              "  <thead>\n",
              "    <tr style=\"text-align: right;\">\n",
              "      <th></th>\n",
              "      <th>temperatura</th>\n",
              "      <th>classification</th>\n",
              "    </tr>\n",
              "    <tr>\n",
              "      <th>date</th>\n",
              "      <th></th>\n",
              "      <th></th>\n",
              "    </tr>\n",
              "  </thead>\n",
              "  <tbody>\n",
              "    <tr>\n",
              "      <th>2020-06-01</th>\n",
              "      <td>20.0</td>\n",
              "      <td>frio</td>\n",
              "    </tr>\n",
              "    <tr>\n",
              "      <th>2020-05-01</th>\n",
              "      <td>24.0</td>\n",
              "      <td>confortavel</td>\n",
              "    </tr>\n",
              "    <tr>\n",
              "      <th>2020-04-01</th>\n",
              "      <td>28.0</td>\n",
              "      <td>quente</td>\n",
              "    </tr>\n",
              "    <tr>\n",
              "      <th>2020-03-01</th>\n",
              "      <td>28.5</td>\n",
              "      <td>quente</td>\n",
              "    </tr>\n",
              "    <tr>\n",
              "      <th>2020-01-01</th>\n",
              "      <td>29.1</td>\n",
              "      <td>quente</td>\n",
              "    </tr>\n",
              "    <tr>\n",
              "      <th>2020-02-01</th>\n",
              "      <td>31.2</td>\n",
              "      <td>muito quente</td>\n",
              "    </tr>\n",
              "  </tbody>\n",
              "</table>\n",
              "</div>\n",
              "      <button class=\"colab-df-convert\" onclick=\"convertToInteractive('df-06e0ee55-4393-424a-9c20-094a18e6249a')\"\n",
              "              title=\"Convert this dataframe to an interactive table.\"\n",
              "              style=\"display:none;\">\n",
              "        \n",
              "  <svg xmlns=\"http://www.w3.org/2000/svg\" height=\"24px\"viewBox=\"0 0 24 24\"\n",
              "       width=\"24px\">\n",
              "    <path d=\"M0 0h24v24H0V0z\" fill=\"none\"/>\n",
              "    <path d=\"M18.56 5.44l.94 2.06.94-2.06 2.06-.94-2.06-.94-.94-2.06-.94 2.06-2.06.94zm-11 1L8.5 8.5l.94-2.06 2.06-.94-2.06-.94L8.5 2.5l-.94 2.06-2.06.94zm10 10l.94 2.06.94-2.06 2.06-.94-2.06-.94-.94-2.06-.94 2.06-2.06.94z\"/><path d=\"M17.41 7.96l-1.37-1.37c-.4-.4-.92-.59-1.43-.59-.52 0-1.04.2-1.43.59L10.3 9.45l-7.72 7.72c-.78.78-.78 2.05 0 2.83L4 21.41c.39.39.9.59 1.41.59.51 0 1.02-.2 1.41-.59l7.78-7.78 2.81-2.81c.8-.78.8-2.07 0-2.86zM5.41 20L4 18.59l7.72-7.72 1.47 1.35L5.41 20z\"/>\n",
              "  </svg>\n",
              "      </button>\n",
              "      \n",
              "  <style>\n",
              "    .colab-df-container {\n",
              "      display:flex;\n",
              "      flex-wrap:wrap;\n",
              "      gap: 12px;\n",
              "    }\n",
              "\n",
              "    .colab-df-convert {\n",
              "      background-color: #E8F0FE;\n",
              "      border: none;\n",
              "      border-radius: 50%;\n",
              "      cursor: pointer;\n",
              "      display: none;\n",
              "      fill: #1967D2;\n",
              "      height: 32px;\n",
              "      padding: 0 0 0 0;\n",
              "      width: 32px;\n",
              "    }\n",
              "\n",
              "    .colab-df-convert:hover {\n",
              "      background-color: #E2EBFA;\n",
              "      box-shadow: 0px 1px 2px rgba(60, 64, 67, 0.3), 0px 1px 3px 1px rgba(60, 64, 67, 0.15);\n",
              "      fill: #174EA6;\n",
              "    }\n",
              "\n",
              "    [theme=dark] .colab-df-convert {\n",
              "      background-color: #3B4455;\n",
              "      fill: #D2E3FC;\n",
              "    }\n",
              "\n",
              "    [theme=dark] .colab-df-convert:hover {\n",
              "      background-color: #434B5C;\n",
              "      box-shadow: 0px 1px 3px 1px rgba(0, 0, 0, 0.15);\n",
              "      filter: drop-shadow(0px 1px 2px rgba(0, 0, 0, 0.3));\n",
              "      fill: #FFFFFF;\n",
              "    }\n",
              "  </style>\n",
              "\n",
              "      <script>\n",
              "        const buttonEl =\n",
              "          document.querySelector('#df-06e0ee55-4393-424a-9c20-094a18e6249a button.colab-df-convert');\n",
              "        buttonEl.style.display =\n",
              "          google.colab.kernel.accessAllowed ? 'block' : 'none';\n",
              "\n",
              "        async function convertToInteractive(key) {\n",
              "          const element = document.querySelector('#df-06e0ee55-4393-424a-9c20-094a18e6249a');\n",
              "          const dataTable =\n",
              "            await google.colab.kernel.invokeFunction('convertToInteractive',\n",
              "                                                     [key], {});\n",
              "          if (!dataTable) return;\n",
              "\n",
              "          const docLinkHtml = 'Like what you see? Visit the ' +\n",
              "            '<a target=\"_blank\" href=https://colab.research.google.com/notebooks/data_table.ipynb>data table notebook</a>'\n",
              "            + ' to learn more about interactive tables.';\n",
              "          element.innerHTML = '';\n",
              "          dataTable['output_type'] = 'display_data';\n",
              "          await google.colab.output.renderOutput(dataTable, element);\n",
              "          const docLink = document.createElement('div');\n",
              "          docLink.innerHTML = docLinkHtml;\n",
              "          element.appendChild(docLink);\n",
              "        }\n",
              "      </script>\n",
              "    </div>\n",
              "  </div>\n",
              "  "
            ]
          },
          "metadata": {},
          "execution_count": 42
        }
      ]
    },
    {
      "cell_type": "code",
      "source": [
        "# ordenação com mais de uma coluna - passa uma lista de colunas\n",
        "df.sort_values(by=['temperatura', 'classification'])"
      ],
      "metadata": {
        "colab": {
          "base_uri": "https://localhost:8080/",
          "height": 269
        },
        "id": "JKj_b_HQlOAr",
        "outputId": "4b6716b9-e093-49ff-a52c-07036ac66f78"
      },
      "execution_count": null,
      "outputs": [
        {
          "output_type": "execute_result",
          "data": {
            "text/plain": [
              "            temperatura classification\n",
              "date                                  \n",
              "2020-06-01         20.0           frio\n",
              "2020-05-01         24.0    confortavel\n",
              "2020-04-01         28.0         quente\n",
              "2020-03-01         28.5         quente\n",
              "2020-01-01         29.1         quente\n",
              "2020-02-01         31.2   muito quente"
            ],
            "text/html": [
              "\n",
              "  <div id=\"df-367cca14-e62f-4c86-ab4e-07fee274fec0\">\n",
              "    <div class=\"colab-df-container\">\n",
              "      <div>\n",
              "<style scoped>\n",
              "    .dataframe tbody tr th:only-of-type {\n",
              "        vertical-align: middle;\n",
              "    }\n",
              "\n",
              "    .dataframe tbody tr th {\n",
              "        vertical-align: top;\n",
              "    }\n",
              "\n",
              "    .dataframe thead th {\n",
              "        text-align: right;\n",
              "    }\n",
              "</style>\n",
              "<table border=\"1\" class=\"dataframe\">\n",
              "  <thead>\n",
              "    <tr style=\"text-align: right;\">\n",
              "      <th></th>\n",
              "      <th>temperatura</th>\n",
              "      <th>classification</th>\n",
              "    </tr>\n",
              "    <tr>\n",
              "      <th>date</th>\n",
              "      <th></th>\n",
              "      <th></th>\n",
              "    </tr>\n",
              "  </thead>\n",
              "  <tbody>\n",
              "    <tr>\n",
              "      <th>2020-06-01</th>\n",
              "      <td>20.0</td>\n",
              "      <td>frio</td>\n",
              "    </tr>\n",
              "    <tr>\n",
              "      <th>2020-05-01</th>\n",
              "      <td>24.0</td>\n",
              "      <td>confortavel</td>\n",
              "    </tr>\n",
              "    <tr>\n",
              "      <th>2020-04-01</th>\n",
              "      <td>28.0</td>\n",
              "      <td>quente</td>\n",
              "    </tr>\n",
              "    <tr>\n",
              "      <th>2020-03-01</th>\n",
              "      <td>28.5</td>\n",
              "      <td>quente</td>\n",
              "    </tr>\n",
              "    <tr>\n",
              "      <th>2020-01-01</th>\n",
              "      <td>29.1</td>\n",
              "      <td>quente</td>\n",
              "    </tr>\n",
              "    <tr>\n",
              "      <th>2020-02-01</th>\n",
              "      <td>31.2</td>\n",
              "      <td>muito quente</td>\n",
              "    </tr>\n",
              "  </tbody>\n",
              "</table>\n",
              "</div>\n",
              "      <button class=\"colab-df-convert\" onclick=\"convertToInteractive('df-367cca14-e62f-4c86-ab4e-07fee274fec0')\"\n",
              "              title=\"Convert this dataframe to an interactive table.\"\n",
              "              style=\"display:none;\">\n",
              "        \n",
              "  <svg xmlns=\"http://www.w3.org/2000/svg\" height=\"24px\"viewBox=\"0 0 24 24\"\n",
              "       width=\"24px\">\n",
              "    <path d=\"M0 0h24v24H0V0z\" fill=\"none\"/>\n",
              "    <path d=\"M18.56 5.44l.94 2.06.94-2.06 2.06-.94-2.06-.94-.94-2.06-.94 2.06-2.06.94zm-11 1L8.5 8.5l.94-2.06 2.06-.94-2.06-.94L8.5 2.5l-.94 2.06-2.06.94zm10 10l.94 2.06.94-2.06 2.06-.94-2.06-.94-.94-2.06-.94 2.06-2.06.94z\"/><path d=\"M17.41 7.96l-1.37-1.37c-.4-.4-.92-.59-1.43-.59-.52 0-1.04.2-1.43.59L10.3 9.45l-7.72 7.72c-.78.78-.78 2.05 0 2.83L4 21.41c.39.39.9.59 1.41.59.51 0 1.02-.2 1.41-.59l7.78-7.78 2.81-2.81c.8-.78.8-2.07 0-2.86zM5.41 20L4 18.59l7.72-7.72 1.47 1.35L5.41 20z\"/>\n",
              "  </svg>\n",
              "      </button>\n",
              "      \n",
              "  <style>\n",
              "    .colab-df-container {\n",
              "      display:flex;\n",
              "      flex-wrap:wrap;\n",
              "      gap: 12px;\n",
              "    }\n",
              "\n",
              "    .colab-df-convert {\n",
              "      background-color: #E8F0FE;\n",
              "      border: none;\n",
              "      border-radius: 50%;\n",
              "      cursor: pointer;\n",
              "      display: none;\n",
              "      fill: #1967D2;\n",
              "      height: 32px;\n",
              "      padding: 0 0 0 0;\n",
              "      width: 32px;\n",
              "    }\n",
              "\n",
              "    .colab-df-convert:hover {\n",
              "      background-color: #E2EBFA;\n",
              "      box-shadow: 0px 1px 2px rgba(60, 64, 67, 0.3), 0px 1px 3px 1px rgba(60, 64, 67, 0.15);\n",
              "      fill: #174EA6;\n",
              "    }\n",
              "\n",
              "    [theme=dark] .colab-df-convert {\n",
              "      background-color: #3B4455;\n",
              "      fill: #D2E3FC;\n",
              "    }\n",
              "\n",
              "    [theme=dark] .colab-df-convert:hover {\n",
              "      background-color: #434B5C;\n",
              "      box-shadow: 0px 1px 3px 1px rgba(0, 0, 0, 0.15);\n",
              "      filter: drop-shadow(0px 1px 2px rgba(0, 0, 0, 0.3));\n",
              "      fill: #FFFFFF;\n",
              "    }\n",
              "  </style>\n",
              "\n",
              "      <script>\n",
              "        const buttonEl =\n",
              "          document.querySelector('#df-367cca14-e62f-4c86-ab4e-07fee274fec0 button.colab-df-convert');\n",
              "        buttonEl.style.display =\n",
              "          google.colab.kernel.accessAllowed ? 'block' : 'none';\n",
              "\n",
              "        async function convertToInteractive(key) {\n",
              "          const element = document.querySelector('#df-367cca14-e62f-4c86-ab4e-07fee274fec0');\n",
              "          const dataTable =\n",
              "            await google.colab.kernel.invokeFunction('convertToInteractive',\n",
              "                                                     [key], {});\n",
              "          if (!dataTable) return;\n",
              "\n",
              "          const docLinkHtml = 'Like what you see? Visit the ' +\n",
              "            '<a target=\"_blank\" href=https://colab.research.google.com/notebooks/data_table.ipynb>data table notebook</a>'\n",
              "            + ' to learn more about interactive tables.';\n",
              "          element.innerHTML = '';\n",
              "          dataTable['output_type'] = 'display_data';\n",
              "          await google.colab.output.renderOutput(dataTable, element);\n",
              "          const docLink = document.createElement('div');\n",
              "          docLink.innerHTML = docLinkHtml;\n",
              "          element.appendChild(docLink);\n",
              "        }\n",
              "      </script>\n",
              "    </div>\n",
              "  </div>\n",
              "  "
            ]
          },
          "metadata": {},
          "execution_count": 47
        }
      ]
    },
    {
      "cell_type": "code",
      "source": [
        "# ordenação de forma descrescente\n",
        "df.sort_values(by='temperatura', ascending=False)"
      ],
      "metadata": {
        "colab": {
          "base_uri": "https://localhost:8080/",
          "height": 269
        },
        "id": "FZfLsc5pnEBt",
        "outputId": "eb7870b4-7a03-4253-ebec-baee20af708a"
      },
      "execution_count": null,
      "outputs": [
        {
          "output_type": "execute_result",
          "data": {
            "text/plain": [
              "            temperatura classification\n",
              "date                                  \n",
              "2020-02-01         31.2   muito quente\n",
              "2020-01-01         29.1         quente\n",
              "2020-03-01         28.5         quente\n",
              "2020-04-01         28.0         quente\n",
              "2020-05-01         24.0    confortavel\n",
              "2020-06-01         20.0           frio"
            ],
            "text/html": [
              "\n",
              "  <div id=\"df-d29117d6-c71b-4a48-942f-72bef088b025\">\n",
              "    <div class=\"colab-df-container\">\n",
              "      <div>\n",
              "<style scoped>\n",
              "    .dataframe tbody tr th:only-of-type {\n",
              "        vertical-align: middle;\n",
              "    }\n",
              "\n",
              "    .dataframe tbody tr th {\n",
              "        vertical-align: top;\n",
              "    }\n",
              "\n",
              "    .dataframe thead th {\n",
              "        text-align: right;\n",
              "    }\n",
              "</style>\n",
              "<table border=\"1\" class=\"dataframe\">\n",
              "  <thead>\n",
              "    <tr style=\"text-align: right;\">\n",
              "      <th></th>\n",
              "      <th>temperatura</th>\n",
              "      <th>classification</th>\n",
              "    </tr>\n",
              "    <tr>\n",
              "      <th>date</th>\n",
              "      <th></th>\n",
              "      <th></th>\n",
              "    </tr>\n",
              "  </thead>\n",
              "  <tbody>\n",
              "    <tr>\n",
              "      <th>2020-02-01</th>\n",
              "      <td>31.2</td>\n",
              "      <td>muito quente</td>\n",
              "    </tr>\n",
              "    <tr>\n",
              "      <th>2020-01-01</th>\n",
              "      <td>29.1</td>\n",
              "      <td>quente</td>\n",
              "    </tr>\n",
              "    <tr>\n",
              "      <th>2020-03-01</th>\n",
              "      <td>28.5</td>\n",
              "      <td>quente</td>\n",
              "    </tr>\n",
              "    <tr>\n",
              "      <th>2020-04-01</th>\n",
              "      <td>28.0</td>\n",
              "      <td>quente</td>\n",
              "    </tr>\n",
              "    <tr>\n",
              "      <th>2020-05-01</th>\n",
              "      <td>24.0</td>\n",
              "      <td>confortavel</td>\n",
              "    </tr>\n",
              "    <tr>\n",
              "      <th>2020-06-01</th>\n",
              "      <td>20.0</td>\n",
              "      <td>frio</td>\n",
              "    </tr>\n",
              "  </tbody>\n",
              "</table>\n",
              "</div>\n",
              "      <button class=\"colab-df-convert\" onclick=\"convertToInteractive('df-d29117d6-c71b-4a48-942f-72bef088b025')\"\n",
              "              title=\"Convert this dataframe to an interactive table.\"\n",
              "              style=\"display:none;\">\n",
              "        \n",
              "  <svg xmlns=\"http://www.w3.org/2000/svg\" height=\"24px\"viewBox=\"0 0 24 24\"\n",
              "       width=\"24px\">\n",
              "    <path d=\"M0 0h24v24H0V0z\" fill=\"none\"/>\n",
              "    <path d=\"M18.56 5.44l.94 2.06.94-2.06 2.06-.94-2.06-.94-.94-2.06-.94 2.06-2.06.94zm-11 1L8.5 8.5l.94-2.06 2.06-.94-2.06-.94L8.5 2.5l-.94 2.06-2.06.94zm10 10l.94 2.06.94-2.06 2.06-.94-2.06-.94-.94-2.06-.94 2.06-2.06.94z\"/><path d=\"M17.41 7.96l-1.37-1.37c-.4-.4-.92-.59-1.43-.59-.52 0-1.04.2-1.43.59L10.3 9.45l-7.72 7.72c-.78.78-.78 2.05 0 2.83L4 21.41c.39.39.9.59 1.41.59.51 0 1.02-.2 1.41-.59l7.78-7.78 2.81-2.81c.8-.78.8-2.07 0-2.86zM5.41 20L4 18.59l7.72-7.72 1.47 1.35L5.41 20z\"/>\n",
              "  </svg>\n",
              "      </button>\n",
              "      \n",
              "  <style>\n",
              "    .colab-df-container {\n",
              "      display:flex;\n",
              "      flex-wrap:wrap;\n",
              "      gap: 12px;\n",
              "    }\n",
              "\n",
              "    .colab-df-convert {\n",
              "      background-color: #E8F0FE;\n",
              "      border: none;\n",
              "      border-radius: 50%;\n",
              "      cursor: pointer;\n",
              "      display: none;\n",
              "      fill: #1967D2;\n",
              "      height: 32px;\n",
              "      padding: 0 0 0 0;\n",
              "      width: 32px;\n",
              "    }\n",
              "\n",
              "    .colab-df-convert:hover {\n",
              "      background-color: #E2EBFA;\n",
              "      box-shadow: 0px 1px 2px rgba(60, 64, 67, 0.3), 0px 1px 3px 1px rgba(60, 64, 67, 0.15);\n",
              "      fill: #174EA6;\n",
              "    }\n",
              "\n",
              "    [theme=dark] .colab-df-convert {\n",
              "      background-color: #3B4455;\n",
              "      fill: #D2E3FC;\n",
              "    }\n",
              "\n",
              "    [theme=dark] .colab-df-convert:hover {\n",
              "      background-color: #434B5C;\n",
              "      box-shadow: 0px 1px 3px 1px rgba(0, 0, 0, 0.15);\n",
              "      filter: drop-shadow(0px 1px 2px rgba(0, 0, 0, 0.3));\n",
              "      fill: #FFFFFF;\n",
              "    }\n",
              "  </style>\n",
              "\n",
              "      <script>\n",
              "        const buttonEl =\n",
              "          document.querySelector('#df-d29117d6-c71b-4a48-942f-72bef088b025 button.colab-df-convert');\n",
              "        buttonEl.style.display =\n",
              "          google.colab.kernel.accessAllowed ? 'block' : 'none';\n",
              "\n",
              "        async function convertToInteractive(key) {\n",
              "          const element = document.querySelector('#df-d29117d6-c71b-4a48-942f-72bef088b025');\n",
              "          const dataTable =\n",
              "            await google.colab.kernel.invokeFunction('convertToInteractive',\n",
              "                                                     [key], {});\n",
              "          if (!dataTable) return;\n",
              "\n",
              "          const docLinkHtml = 'Like what you see? Visit the ' +\n",
              "            '<a target=\"_blank\" href=https://colab.research.google.com/notebooks/data_table.ipynb>data table notebook</a>'\n",
              "            + ' to learn more about interactive tables.';\n",
              "          element.innerHTML = '';\n",
              "          dataTable['output_type'] = 'display_data';\n",
              "          await google.colab.output.renderOutput(dataTable, element);\n",
              "          const docLink = document.createElement('div');\n",
              "          docLink.innerHTML = docLinkHtml;\n",
              "          element.appendChild(docLink);\n",
              "        }\n",
              "      </script>\n",
              "    </div>\n",
              "  </div>\n",
              "  "
            ]
          },
          "metadata": {},
          "execution_count": 48
        }
      ]
    },
    {
      "cell_type": "markdown",
      "source": [
        "#### 2.9.2 Sort_index"
      ],
      "metadata": {
        "id": "fikIsOKZnLX4"
      }
    },
    {
      "cell_type": "code",
      "source": [
        "df.sort_index()"
      ],
      "metadata": {
        "colab": {
          "base_uri": "https://localhost:8080/",
          "height": 269
        },
        "id": "8lm1Jk8CnOh6",
        "outputId": "79e5b15d-fad9-4fb4-d04b-f712158c108f"
      },
      "execution_count": null,
      "outputs": [
        {
          "output_type": "execute_result",
          "data": {
            "text/plain": [
              "            temperatura classification\n",
              "date                                  \n",
              "2020-01-01         29.1         quente\n",
              "2020-02-01         31.2   muito quente\n",
              "2020-03-01         28.5         quente\n",
              "2020-04-01         28.0         quente\n",
              "2020-05-01         24.0    confortavel\n",
              "2020-06-01         20.0           frio"
            ],
            "text/html": [
              "\n",
              "  <div id=\"df-b1cd55cf-d2bf-4ef3-afcb-6a6ab4d88fe1\">\n",
              "    <div class=\"colab-df-container\">\n",
              "      <div>\n",
              "<style scoped>\n",
              "    .dataframe tbody tr th:only-of-type {\n",
              "        vertical-align: middle;\n",
              "    }\n",
              "\n",
              "    .dataframe tbody tr th {\n",
              "        vertical-align: top;\n",
              "    }\n",
              "\n",
              "    .dataframe thead th {\n",
              "        text-align: right;\n",
              "    }\n",
              "</style>\n",
              "<table border=\"1\" class=\"dataframe\">\n",
              "  <thead>\n",
              "    <tr style=\"text-align: right;\">\n",
              "      <th></th>\n",
              "      <th>temperatura</th>\n",
              "      <th>classification</th>\n",
              "    </tr>\n",
              "    <tr>\n",
              "      <th>date</th>\n",
              "      <th></th>\n",
              "      <th></th>\n",
              "    </tr>\n",
              "  </thead>\n",
              "  <tbody>\n",
              "    <tr>\n",
              "      <th>2020-01-01</th>\n",
              "      <td>29.1</td>\n",
              "      <td>quente</td>\n",
              "    </tr>\n",
              "    <tr>\n",
              "      <th>2020-02-01</th>\n",
              "      <td>31.2</td>\n",
              "      <td>muito quente</td>\n",
              "    </tr>\n",
              "    <tr>\n",
              "      <th>2020-03-01</th>\n",
              "      <td>28.5</td>\n",
              "      <td>quente</td>\n",
              "    </tr>\n",
              "    <tr>\n",
              "      <th>2020-04-01</th>\n",
              "      <td>28.0</td>\n",
              "      <td>quente</td>\n",
              "    </tr>\n",
              "    <tr>\n",
              "      <th>2020-05-01</th>\n",
              "      <td>24.0</td>\n",
              "      <td>confortavel</td>\n",
              "    </tr>\n",
              "    <tr>\n",
              "      <th>2020-06-01</th>\n",
              "      <td>20.0</td>\n",
              "      <td>frio</td>\n",
              "    </tr>\n",
              "  </tbody>\n",
              "</table>\n",
              "</div>\n",
              "      <button class=\"colab-df-convert\" onclick=\"convertToInteractive('df-b1cd55cf-d2bf-4ef3-afcb-6a6ab4d88fe1')\"\n",
              "              title=\"Convert this dataframe to an interactive table.\"\n",
              "              style=\"display:none;\">\n",
              "        \n",
              "  <svg xmlns=\"http://www.w3.org/2000/svg\" height=\"24px\"viewBox=\"0 0 24 24\"\n",
              "       width=\"24px\">\n",
              "    <path d=\"M0 0h24v24H0V0z\" fill=\"none\"/>\n",
              "    <path d=\"M18.56 5.44l.94 2.06.94-2.06 2.06-.94-2.06-.94-.94-2.06-.94 2.06-2.06.94zm-11 1L8.5 8.5l.94-2.06 2.06-.94-2.06-.94L8.5 2.5l-.94 2.06-2.06.94zm10 10l.94 2.06.94-2.06 2.06-.94-2.06-.94-.94-2.06-.94 2.06-2.06.94z\"/><path d=\"M17.41 7.96l-1.37-1.37c-.4-.4-.92-.59-1.43-.59-.52 0-1.04.2-1.43.59L10.3 9.45l-7.72 7.72c-.78.78-.78 2.05 0 2.83L4 21.41c.39.39.9.59 1.41.59.51 0 1.02-.2 1.41-.59l7.78-7.78 2.81-2.81c.8-.78.8-2.07 0-2.86zM5.41 20L4 18.59l7.72-7.72 1.47 1.35L5.41 20z\"/>\n",
              "  </svg>\n",
              "      </button>\n",
              "      \n",
              "  <style>\n",
              "    .colab-df-container {\n",
              "      display:flex;\n",
              "      flex-wrap:wrap;\n",
              "      gap: 12px;\n",
              "    }\n",
              "\n",
              "    .colab-df-convert {\n",
              "      background-color: #E8F0FE;\n",
              "      border: none;\n",
              "      border-radius: 50%;\n",
              "      cursor: pointer;\n",
              "      display: none;\n",
              "      fill: #1967D2;\n",
              "      height: 32px;\n",
              "      padding: 0 0 0 0;\n",
              "      width: 32px;\n",
              "    }\n",
              "\n",
              "    .colab-df-convert:hover {\n",
              "      background-color: #E2EBFA;\n",
              "      box-shadow: 0px 1px 2px rgba(60, 64, 67, 0.3), 0px 1px 3px 1px rgba(60, 64, 67, 0.15);\n",
              "      fill: #174EA6;\n",
              "    }\n",
              "\n",
              "    [theme=dark] .colab-df-convert {\n",
              "      background-color: #3B4455;\n",
              "      fill: #D2E3FC;\n",
              "    }\n",
              "\n",
              "    [theme=dark] .colab-df-convert:hover {\n",
              "      background-color: #434B5C;\n",
              "      box-shadow: 0px 1px 3px 1px rgba(0, 0, 0, 0.15);\n",
              "      filter: drop-shadow(0px 1px 2px rgba(0, 0, 0, 0.3));\n",
              "      fill: #FFFFFF;\n",
              "    }\n",
              "  </style>\n",
              "\n",
              "      <script>\n",
              "        const buttonEl =\n",
              "          document.querySelector('#df-b1cd55cf-d2bf-4ef3-afcb-6a6ab4d88fe1 button.colab-df-convert');\n",
              "        buttonEl.style.display =\n",
              "          google.colab.kernel.accessAllowed ? 'block' : 'none';\n",
              "\n",
              "        async function convertToInteractive(key) {\n",
              "          const element = document.querySelector('#df-b1cd55cf-d2bf-4ef3-afcb-6a6ab4d88fe1');\n",
              "          const dataTable =\n",
              "            await google.colab.kernel.invokeFunction('convertToInteractive',\n",
              "                                                     [key], {});\n",
              "          if (!dataTable) return;\n",
              "\n",
              "          const docLinkHtml = 'Like what you see? Visit the ' +\n",
              "            '<a target=\"_blank\" href=https://colab.research.google.com/notebooks/data_table.ipynb>data table notebook</a>'\n",
              "            + ' to learn more about interactive tables.';\n",
              "          element.innerHTML = '';\n",
              "          dataTable['output_type'] = 'display_data';\n",
              "          await google.colab.output.renderOutput(dataTable, element);\n",
              "          const docLink = document.createElement('div');\n",
              "          docLink.innerHTML = docLinkHtml;\n",
              "          element.appendChild(docLink);\n",
              "        }\n",
              "      </script>\n",
              "    </div>\n",
              "  </div>\n",
              "  "
            ]
          },
          "metadata": {},
          "execution_count": 49
        }
      ]
    },
    {
      "cell_type": "code",
      "source": [
        "df.sort_index(ascending=False)"
      ],
      "metadata": {
        "colab": {
          "base_uri": "https://localhost:8080/",
          "height": 269
        },
        "id": "S9g91WxgnTss",
        "outputId": "c4f73eb8-7a43-453c-de84-89d7cc13bd96"
      },
      "execution_count": null,
      "outputs": [
        {
          "output_type": "execute_result",
          "data": {
            "text/plain": [
              "            temperatura classification\n",
              "date                                  \n",
              "2020-06-01         20.0           frio\n",
              "2020-05-01         24.0    confortavel\n",
              "2020-04-01         28.0         quente\n",
              "2020-03-01         28.5         quente\n",
              "2020-02-01         31.2   muito quente\n",
              "2020-01-01         29.1         quente"
            ],
            "text/html": [
              "\n",
              "  <div id=\"df-3ad4f04b-3cb0-429d-b215-c5c897e03980\">\n",
              "    <div class=\"colab-df-container\">\n",
              "      <div>\n",
              "<style scoped>\n",
              "    .dataframe tbody tr th:only-of-type {\n",
              "        vertical-align: middle;\n",
              "    }\n",
              "\n",
              "    .dataframe tbody tr th {\n",
              "        vertical-align: top;\n",
              "    }\n",
              "\n",
              "    .dataframe thead th {\n",
              "        text-align: right;\n",
              "    }\n",
              "</style>\n",
              "<table border=\"1\" class=\"dataframe\">\n",
              "  <thead>\n",
              "    <tr style=\"text-align: right;\">\n",
              "      <th></th>\n",
              "      <th>temperatura</th>\n",
              "      <th>classification</th>\n",
              "    </tr>\n",
              "    <tr>\n",
              "      <th>date</th>\n",
              "      <th></th>\n",
              "      <th></th>\n",
              "    </tr>\n",
              "  </thead>\n",
              "  <tbody>\n",
              "    <tr>\n",
              "      <th>2020-06-01</th>\n",
              "      <td>20.0</td>\n",
              "      <td>frio</td>\n",
              "    </tr>\n",
              "    <tr>\n",
              "      <th>2020-05-01</th>\n",
              "      <td>24.0</td>\n",
              "      <td>confortavel</td>\n",
              "    </tr>\n",
              "    <tr>\n",
              "      <th>2020-04-01</th>\n",
              "      <td>28.0</td>\n",
              "      <td>quente</td>\n",
              "    </tr>\n",
              "    <tr>\n",
              "      <th>2020-03-01</th>\n",
              "      <td>28.5</td>\n",
              "      <td>quente</td>\n",
              "    </tr>\n",
              "    <tr>\n",
              "      <th>2020-02-01</th>\n",
              "      <td>31.2</td>\n",
              "      <td>muito quente</td>\n",
              "    </tr>\n",
              "    <tr>\n",
              "      <th>2020-01-01</th>\n",
              "      <td>29.1</td>\n",
              "      <td>quente</td>\n",
              "    </tr>\n",
              "  </tbody>\n",
              "</table>\n",
              "</div>\n",
              "      <button class=\"colab-df-convert\" onclick=\"convertToInteractive('df-3ad4f04b-3cb0-429d-b215-c5c897e03980')\"\n",
              "              title=\"Convert this dataframe to an interactive table.\"\n",
              "              style=\"display:none;\">\n",
              "        \n",
              "  <svg xmlns=\"http://www.w3.org/2000/svg\" height=\"24px\"viewBox=\"0 0 24 24\"\n",
              "       width=\"24px\">\n",
              "    <path d=\"M0 0h24v24H0V0z\" fill=\"none\"/>\n",
              "    <path d=\"M18.56 5.44l.94 2.06.94-2.06 2.06-.94-2.06-.94-.94-2.06-.94 2.06-2.06.94zm-11 1L8.5 8.5l.94-2.06 2.06-.94-2.06-.94L8.5 2.5l-.94 2.06-2.06.94zm10 10l.94 2.06.94-2.06 2.06-.94-2.06-.94-.94-2.06-.94 2.06-2.06.94z\"/><path d=\"M17.41 7.96l-1.37-1.37c-.4-.4-.92-.59-1.43-.59-.52 0-1.04.2-1.43.59L10.3 9.45l-7.72 7.72c-.78.78-.78 2.05 0 2.83L4 21.41c.39.39.9.59 1.41.59.51 0 1.02-.2 1.41-.59l7.78-7.78 2.81-2.81c.8-.78.8-2.07 0-2.86zM5.41 20L4 18.59l7.72-7.72 1.47 1.35L5.41 20z\"/>\n",
              "  </svg>\n",
              "      </button>\n",
              "      \n",
              "  <style>\n",
              "    .colab-df-container {\n",
              "      display:flex;\n",
              "      flex-wrap:wrap;\n",
              "      gap: 12px;\n",
              "    }\n",
              "\n",
              "    .colab-df-convert {\n",
              "      background-color: #E8F0FE;\n",
              "      border: none;\n",
              "      border-radius: 50%;\n",
              "      cursor: pointer;\n",
              "      display: none;\n",
              "      fill: #1967D2;\n",
              "      height: 32px;\n",
              "      padding: 0 0 0 0;\n",
              "      width: 32px;\n",
              "    }\n",
              "\n",
              "    .colab-df-convert:hover {\n",
              "      background-color: #E2EBFA;\n",
              "      box-shadow: 0px 1px 2px rgba(60, 64, 67, 0.3), 0px 1px 3px 1px rgba(60, 64, 67, 0.15);\n",
              "      fill: #174EA6;\n",
              "    }\n",
              "\n",
              "    [theme=dark] .colab-df-convert {\n",
              "      background-color: #3B4455;\n",
              "      fill: #D2E3FC;\n",
              "    }\n",
              "\n",
              "    [theme=dark] .colab-df-convert:hover {\n",
              "      background-color: #434B5C;\n",
              "      box-shadow: 0px 1px 3px 1px rgba(0, 0, 0, 0.15);\n",
              "      filter: drop-shadow(0px 1px 2px rgba(0, 0, 0, 0.3));\n",
              "      fill: #FFFFFF;\n",
              "    }\n",
              "  </style>\n",
              "\n",
              "      <script>\n",
              "        const buttonEl =\n",
              "          document.querySelector('#df-3ad4f04b-3cb0-429d-b215-c5c897e03980 button.colab-df-convert');\n",
              "        buttonEl.style.display =\n",
              "          google.colab.kernel.accessAllowed ? 'block' : 'none';\n",
              "\n",
              "        async function convertToInteractive(key) {\n",
              "          const element = document.querySelector('#df-3ad4f04b-3cb0-429d-b215-c5c897e03980');\n",
              "          const dataTable =\n",
              "            await google.colab.kernel.invokeFunction('convertToInteractive',\n",
              "                                                     [key], {});\n",
              "          if (!dataTable) return;\n",
              "\n",
              "          const docLinkHtml = 'Like what you see? Visit the ' +\n",
              "            '<a target=\"_blank\" href=https://colab.research.google.com/notebooks/data_table.ipynb>data table notebook</a>'\n",
              "            + ' to learn more about interactive tables.';\n",
              "          element.innerHTML = '';\n",
              "          dataTable['output_type'] = 'display_data';\n",
              "          await google.colab.output.renderOutput(dataTable, element);\n",
              "          const docLink = document.createElement('div');\n",
              "          docLink.innerHTML = docLinkHtml;\n",
              "          element.appendChild(docLink);\n",
              "        }\n",
              "      </script>\n",
              "    </div>\n",
              "  </div>\n",
              "  "
            ]
          },
          "metadata": {},
          "execution_count": 51
        }
      ]
    },
    {
      "cell_type": "markdown",
      "source": [
        "### 2.10 Plot"
      ],
      "metadata": {
        "id": "CeSjQLWhnj4W"
      }
    },
    {
      "cell_type": "code",
      "source": [
        "# plot de linhas\n",
        "df.plot(); # o ponto e virgula esconde as informaçoes que costumam aparecer junto com o grafico"
      ],
      "metadata": {
        "colab": {
          "base_uri": "https://localhost:8080/",
          "height": 291
        },
        "id": "bq7I53A7nmw_",
        "outputId": "a55e719d-3ef3-4f45-ed2e-58959bcba94f"
      },
      "execution_count": null,
      "outputs": [
        {
          "output_type": "display_data",
          "data": {
            "text/plain": [
              "<Figure size 432x288 with 1 Axes>"
            ],
            "image/png": "[encoded data removed]"
          },
          "metadata": {
            "needs_background": "light"
          }
        }
      ]
    },
    {
      "cell_type": "code",
      "source": [
        "# plot de linhas: tamanho\n",
        "df.plot(figsize=(10, 5)); # largura x altura"
      ],
      "metadata": {
        "colab": {
          "base_uri": "https://localhost:8080/",
          "height": 345
        },
        "id": "98L2pWCFn3C4",
        "outputId": "ac329fc7-febb-492e-f0a6-71e6bf26512b"
      },
      "execution_count": null,
      "outputs": [
        {
          "output_type": "display_data",
          "data": {
            "text/plain": [
              "<Figure size 720x360 with 1 Axes>"
            ],
            "image/png": "[encoded data removed]"
          },
          "metadata": {
            "needs_background": "light"
          }
        }
      ]
    },
    {
      "cell_type": "code",
      "source": [
        "# mostra as linhas para melhor visualização\n",
        "df.plot(figsize=(10, 5), grid=True);"
      ],
      "metadata": {
        "colab": {
          "base_uri": "https://localhost:8080/",
          "height": 345
        },
        "id": "Gz_7yodEn2_f",
        "outputId": "3b64990e-46e4-405f-c4dd-d1b44c6d5b8d"
      },
      "execution_count": null,
      "outputs": [
        {
          "output_type": "display_data",
          "data": {
            "text/plain": [
              "<Figure size 720x360 with 1 Axes>"
            ],
            "image/png": "[encoded data removed]"
          },
          "metadata": {
            "needs_background": "light"
          }
        }
      ]
    },
    {
      "cell_type": "code",
      "source": [
        "# plot de linhas: style\n",
        "df.plot(style='-o', figsize=(10, 5), grid=True); # pontos nos valores\n",
        "#df.plot(style='--', figsize=(10, 5), grid=True); # linha tracejada"
      ],
      "metadata": {
        "colab": {
          "base_uri": "https://localhost:8080/",
          "height": 345
        },
        "id": "5VES8YCKn283",
        "outputId": "5923039f-d46e-4398-9880-97ca679802aa"
      },
      "execution_count": null,
      "outputs": [
        {
          "output_type": "display_data",
          "data": {
            "text/plain": [
              "<Figure size 720x360 with 1 Axes>"
            ],
            "image/png": "[encoded data removed]"
          },
          "metadata": {
            "needs_background": "light"
          }
        }
      ]
    },
    {
      "cell_type": "code",
      "source": [
        "# plot de linhas: color\n",
        "#df.plot(style='-o', color='red', figsize=(10, 5), grid=True);\n",
        "df.plot(style='-o', color='#b05dcf', figsize=(10, 5), grid=True);"
      ],
      "metadata": {
        "colab": {
          "base_uri": "https://localhost:8080/",
          "height": 345
        },
        "id": "2VcCrHYco4tX",
        "outputId": "563f444a-3f77-49d6-efe1-4dc9e2c12fda"
      },
      "execution_count": null,
      "outputs": [
        {
          "output_type": "display_data",
          "data": {
            "text/plain": [
              "<Figure size 720x360 with 1 Axes>"
            ],
            "image/png": "[encoded data removed]"
          },
          "metadata": {
            "needs_background": "light"
          }
        }
      ]
    },
    {
      "cell_type": "code",
      "source": [
        "# plot de barras\n",
        "df['classification'].value_counts().plot.bar(figsize=(10, 5), rot=0); # rot é a rotação do label x"
      ],
      "metadata": {
        "colab": {
          "base_uri": "https://localhost:8080/",
          "height": 320
        },
        "id": "MOLF6t5fpnDR",
        "outputId": "346db162-55cf-47dd-d4f4-d3233f9cec7a"
      },
      "execution_count": null,
      "outputs": [
        {
          "output_type": "display_data",
          "data": {
            "text/plain": [
              "<Figure size 720x360 with 1 Axes>"
            ],
            "image/png": "[encoded data removed]"
          },
          "metadata": {
            "needs_background": "light"
          }
        }
      ]
    },
    {
      "cell_type": "code",
      "source": [
        "# plot de barras\n",
        "df.plot(kind='bar', figsize=(10, 5), rot=30);"
      ],
      "metadata": {
        "colab": {
          "base_uri": "https://localhost:8080/",
          "height": 385
        },
        "id": "kL1ui_5cpYAd",
        "outputId": "9fbe9743-77b8-400b-b766-390188832b86"
      },
      "execution_count": null,
      "outputs": [
        {
          "output_type": "display_data",
          "data": {
            "text/plain": [
              "<Figure size 720x360 with 1 Axes>"
            ],
            "image/png": "[encoded data removed]"
          },
          "metadata": {
            "needs_background": "light"
          }
        }
      ]
    },
    {
      "cell_type": "code",
      "source": [
        "# pie plot\n",
        "df['classification'].value_counts().plot.pie(autopct='%1.1f%%', shadow=True, figsize=(10, 7))"
      ],
      "metadata": {
        "colab": {
          "base_uri": "https://localhost:8080/",
          "height": 428
        },
        "id": "_mZgDv_XqK5M",
        "outputId": "a83704be-cb00-4ea5-fcbb-087b0f7900cc"
      },
      "execution_count": null,
      "outputs": [
        {
          "output_type": "execute_result",
          "data": {
            "text/plain": [
              "<matplotlib.axes._subplots.AxesSubplot at 0x7f0e14715e10>"
            ]
          },
          "metadata": {},
          "execution_count": 75
        },
        {
          "output_type": "display_data",
          "data": {
            "text/plain": [
              "<Figure size 720x504 with 1 Axes>"
            ],
            "image/png": "[encoded data removed]"
          },
          "metadata": {}
        }
      ]
    },
    {
      "cell_type": "markdown",
      "source": [
        "### 2.11 Outras operaçoes úteis"
      ],
      "metadata": {
        "id": "qKxa_5DBq8C-"
      }
    },
    {
      "cell_type": "markdown",
      "source": [
        "#### 2.11.1 groupby"
      ],
      "metadata": {
        "id": "gKS2GAoNrJ8p"
      }
    },
    {
      "cell_type": "code",
      "source": [
        "# agrupamento de valores unicos de uma ou mais colunas\n",
        "df.groupby(by='classification').mean()\n",
        "#df.groupby(by='classification').sum()"
      ],
      "metadata": {
        "colab": {
          "base_uri": "https://localhost:8080/",
          "height": 206
        },
        "id": "OmgybCe3rB-G",
        "outputId": "c44e1685-cdec-4d70-92b4-2efa66abae69"
      },
      "execution_count": null,
      "outputs": [
        {
          "output_type": "execute_result",
          "data": {
            "text/plain": [
              "                temperatura\n",
              "classification             \n",
              "confortavel       24.000000\n",
              "frio              20.000000\n",
              "muito quente      31.200000\n",
              "quente            28.533333"
            ],
            "text/html": [
              "\n",
              "  <div id=\"df-01374007-7caf-424c-b563-6a184582d83f\">\n",
              "    <div class=\"colab-df-container\">\n",
              "      <div>\n",
              "<style scoped>\n",
              "    .dataframe tbody tr th:only-of-type {\n",
              "        vertical-align: middle;\n",
              "    }\n",
              "\n",
              "    .dataframe tbody tr th {\n",
              "        vertical-align: top;\n",
              "    }\n",
              "\n",
              "    .dataframe thead th {\n",
              "        text-align: right;\n",
              "    }\n",
              "</style>\n",
              "<table border=\"1\" class=\"dataframe\">\n",
              "  <thead>\n",
              "    <tr style=\"text-align: right;\">\n",
              "      <th></th>\n",
              "      <th>temperatura</th>\n",
              "    </tr>\n",
              "    <tr>\n",
              "      <th>classification</th>\n",
              "      <th></th>\n",
              "    </tr>\n",
              "  </thead>\n",
              "  <tbody>\n",
              "    <tr>\n",
              "      <th>confortavel</th>\n",
              "      <td>24.000000</td>\n",
              "    </tr>\n",
              "    <tr>\n",
              "      <th>frio</th>\n",
              "      <td>20.000000</td>\n",
              "    </tr>\n",
              "    <tr>\n",
              "      <th>muito quente</th>\n",
              "      <td>31.200000</td>\n",
              "    </tr>\n",
              "    <tr>\n",
              "      <th>quente</th>\n",
              "      <td>28.533333</td>\n",
              "    </tr>\n",
              "  </tbody>\n",
              "</table>\n",
              "</div>\n",
              "      <button class=\"colab-df-convert\" onclick=\"convertToInteractive('df-01374007-7caf-424c-b563-6a184582d83f')\"\n",
              "              title=\"Convert this dataframe to an interactive table.\"\n",
              "              style=\"display:none;\">\n",
              "        \n",
              "  <svg xmlns=\"http://www.w3.org/2000/svg\" height=\"24px\"viewBox=\"0 0 24 24\"\n",
              "       width=\"24px\">\n",
              "    <path d=\"M0 0h24v24H0V0z\" fill=\"none\"/>\n",
              "    <path d=\"M18.56 5.44l.94 2.06.94-2.06 2.06-.94-2.06-.94-.94-2.06-.94 2.06-2.06.94zm-11 1L8.5 8.5l.94-2.06 2.06-.94-2.06-.94L8.5 2.5l-.94 2.06-2.06.94zm10 10l.94 2.06.94-2.06 2.06-.94-2.06-.94-.94-2.06-.94 2.06-2.06.94z\"/><path d=\"M17.41 7.96l-1.37-1.37c-.4-.4-.92-.59-1.43-.59-.52 0-1.04.2-1.43.59L10.3 9.45l-7.72 7.72c-.78.78-.78 2.05 0 2.83L4 21.41c.39.39.9.59 1.41.59.51 0 1.02-.2 1.41-.59l7.78-7.78 2.81-2.81c.8-.78.8-2.07 0-2.86zM5.41 20L4 18.59l7.72-7.72 1.47 1.35L5.41 20z\"/>\n",
              "  </svg>\n",
              "      </button>\n",
              "      \n",
              "  <style>\n",
              "    .colab-df-container {\n",
              "      display:flex;\n",
              "      flex-wrap:wrap;\n",
              "      gap: 12px;\n",
              "    }\n",
              "\n",
              "    .colab-df-convert {\n",
              "      background-color: #E8F0FE;\n",
              "      border: none;\n",
              "      border-radius: 50%;\n",
              "      cursor: pointer;\n",
              "      display: none;\n",
              "      fill: #1967D2;\n",
              "      height: 32px;\n",
              "      padding: 0 0 0 0;\n",
              "      width: 32px;\n",
              "    }\n",
              "\n",
              "    .colab-df-convert:hover {\n",
              "      background-color: #E2EBFA;\n",
              "      box-shadow: 0px 1px 2px rgba(60, 64, 67, 0.3), 0px 1px 3px 1px rgba(60, 64, 67, 0.15);\n",
              "      fill: #174EA6;\n",
              "    }\n",
              "\n",
              "    [theme=dark] .colab-df-convert {\n",
              "      background-color: #3B4455;\n",
              "      fill: #D2E3FC;\n",
              "    }\n",
              "\n",
              "    [theme=dark] .colab-df-convert:hover {\n",
              "      background-color: #434B5C;\n",
              "      box-shadow: 0px 1px 3px 1px rgba(0, 0, 0, 0.15);\n",
              "      filter: drop-shadow(0px 1px 2px rgba(0, 0, 0, 0.3));\n",
              "      fill: #FFFFFF;\n",
              "    }\n",
              "  </style>\n",
              "\n",
              "      <script>\n",
              "        const buttonEl =\n",
              "          document.querySelector('#df-01374007-7caf-424c-b563-6a184582d83f button.colab-df-convert');\n",
              "        buttonEl.style.display =\n",
              "          google.colab.kernel.accessAllowed ? 'block' : 'none';\n",
              "\n",
              "        async function convertToInteractive(key) {\n",
              "          const element = document.querySelector('#df-01374007-7caf-424c-b563-6a184582d83f');\n",
              "          const dataTable =\n",
              "            await google.colab.kernel.invokeFunction('convertToInteractive',\n",
              "                                                     [key], {});\n",
              "          if (!dataTable) return;\n",
              "\n",
              "          const docLinkHtml = 'Like what you see? Visit the ' +\n",
              "            '<a target=\"_blank\" href=https://colab.research.google.com/notebooks/data_table.ipynb>data table notebook</a>'\n",
              "            + ' to learn more about interactive tables.';\n",
              "          element.innerHTML = '';\n",
              "          dataTable['output_type'] = 'display_data';\n",
              "          await google.colab.output.renderOutput(dataTable, element);\n",
              "          const docLink = document.createElement('div');\n",
              "          docLink.innerHTML = docLinkHtml;\n",
              "          element.appendChild(docLink);\n",
              "        }\n",
              "      </script>\n",
              "    </div>\n",
              "  </div>\n",
              "  "
            ]
          },
          "metadata": {},
          "execution_count": 83
        }
      ]
    },
    {
      "cell_type": "markdown",
      "source": [
        "#### 2.11.2 drop"
      ],
      "metadata": {
        "id": "l21jRym1rvmt"
      }
    },
    {
      "cell_type": "code",
      "source": [
        "# remoção de uma coluna\n",
        "df.drop('temperatura', axis=1)"
      ],
      "metadata": {
        "colab": {
          "base_uri": "https://localhost:8080/",
          "height": 269
        },
        "id": "rTMhcVNorfWZ",
        "outputId": "eafa8d14-a85f-47d5-b214-a89e3fd69313"
      },
      "execution_count": null,
      "outputs": [
        {
          "output_type": "execute_result",
          "data": {
            "text/plain": [
              "           classification\n",
              "date                     \n",
              "2020-01-01         quente\n",
              "2020-02-01   muito quente\n",
              "2020-03-01         quente\n",
              "2020-04-01         quente\n",
              "2020-05-01    confortavel\n",
              "2020-06-01           frio"
            ],
            "text/html": [
              "\n",
              "  <div id=\"df-d2d3cfa4-cc82-4264-91f9-2ad29d6abcd6\">\n",
              "    <div class=\"colab-df-container\">\n",
              "      <div>\n",
              "<style scoped>\n",
              "    .dataframe tbody tr th:only-of-type {\n",
              "        vertical-align: middle;\n",
              "    }\n",
              "\n",
              "    .dataframe tbody tr th {\n",
              "        vertical-align: top;\n",
              "    }\n",
              "\n",
              "    .dataframe thead th {\n",
              "        text-align: right;\n",
              "    }\n",
              "</style>\n",
              "<table border=\"1\" class=\"dataframe\">\n",
              "  <thead>\n",
              "    <tr style=\"text-align: right;\">\n",
              "      <th></th>\n",
              "      <th>classification</th>\n",
              "    </tr>\n",
              "    <tr>\n",
              "      <th>date</th>\n",
              "      <th></th>\n",
              "    </tr>\n",
              "  </thead>\n",
              "  <tbody>\n",
              "    <tr>\n",
              "      <th>2020-01-01</th>\n",
              "      <td>quente</td>\n",
              "    </tr>\n",
              "    <tr>\n",
              "      <th>2020-02-01</th>\n",
              "      <td>muito quente</td>\n",
              "    </tr>\n",
              "    <tr>\n",
              "      <th>2020-03-01</th>\n",
              "      <td>quente</td>\n",
              "    </tr>\n",
              "    <tr>\n",
              "      <th>2020-04-01</th>\n",
              "      <td>quente</td>\n",
              "    </tr>\n",
              "    <tr>\n",
              "      <th>2020-05-01</th>\n",
              "      <td>confortavel</td>\n",
              "    </tr>\n",
              "    <tr>\n",
              "      <th>2020-06-01</th>\n",
              "      <td>frio</td>\n",
              "    </tr>\n",
              "  </tbody>\n",
              "</table>\n",
              "</div>\n",
              "      <button class=\"colab-df-convert\" onclick=\"convertToInteractive('df-d2d3cfa4-cc82-4264-91f9-2ad29d6abcd6')\"\n",
              "              title=\"Convert this dataframe to an interactive table.\"\n",
              "              style=\"display:none;\">\n",
              "        \n",
              "  <svg xmlns=\"http://www.w3.org/2000/svg\" height=\"24px\"viewBox=\"0 0 24 24\"\n",
              "       width=\"24px\">\n",
              "    <path d=\"M0 0h24v24H0V0z\" fill=\"none\"/>\n",
              "    <path d=\"M18.56 5.44l.94 2.06.94-2.06 2.06-.94-2.06-.94-.94-2.06-.94 2.06-2.06.94zm-11 1L8.5 8.5l.94-2.06 2.06-.94-2.06-.94L8.5 2.5l-.94 2.06-2.06.94zm10 10l.94 2.06.94-2.06 2.06-.94-2.06-.94-.94-2.06-.94 2.06-2.06.94z\"/><path d=\"M17.41 7.96l-1.37-1.37c-.4-.4-.92-.59-1.43-.59-.52 0-1.04.2-1.43.59L10.3 9.45l-7.72 7.72c-.78.78-.78 2.05 0 2.83L4 21.41c.39.39.9.59 1.41.59.51 0 1.02-.2 1.41-.59l7.78-7.78 2.81-2.81c.8-.78.8-2.07 0-2.86zM5.41 20L4 18.59l7.72-7.72 1.47 1.35L5.41 20z\"/>\n",
              "  </svg>\n",
              "      </button>\n",
              "      \n",
              "  <style>\n",
              "    .colab-df-container {\n",
              "      display:flex;\n",
              "      flex-wrap:wrap;\n",
              "      gap: 12px;\n",
              "    }\n",
              "\n",
              "    .colab-df-convert {\n",
              "      background-color: #E8F0FE;\n",
              "      border: none;\n",
              "      border-radius: 50%;\n",
              "      cursor: pointer;\n",
              "      display: none;\n",
              "      fill: #1967D2;\n",
              "      height: 32px;\n",
              "      padding: 0 0 0 0;\n",
              "      width: 32px;\n",
              "    }\n",
              "\n",
              "    .colab-df-convert:hover {\n",
              "      background-color: #E2EBFA;\n",
              "      box-shadow: 0px 1px 2px rgba(60, 64, 67, 0.3), 0px 1px 3px 1px rgba(60, 64, 67, 0.15);\n",
              "      fill: #174EA6;\n",
              "    }\n",
              "\n",
              "    [theme=dark] .colab-df-convert {\n",
              "      background-color: #3B4455;\n",
              "      fill: #D2E3FC;\n",
              "    }\n",
              "\n",
              "    [theme=dark] .colab-df-convert:hover {\n",
              "      background-color: #434B5C;\n",
              "      box-shadow: 0px 1px 3px 1px rgba(0, 0, 0, 0.15);\n",
              "      filter: drop-shadow(0px 1px 2px rgba(0, 0, 0, 0.3));\n",
              "      fill: #FFFFFF;\n",
              "    }\n",
              "  </style>\n",
              "\n",
              "      <script>\n",
              "        const buttonEl =\n",
              "          document.querySelector('#df-d2d3cfa4-cc82-4264-91f9-2ad29d6abcd6 button.colab-df-convert');\n",
              "        buttonEl.style.display =\n",
              "          google.colab.kernel.accessAllowed ? 'block' : 'none';\n",
              "\n",
              "        async function convertToInteractive(key) {\n",
              "          const element = document.querySelector('#df-d2d3cfa4-cc82-4264-91f9-2ad29d6abcd6');\n",
              "          const dataTable =\n",
              "            await google.colab.kernel.invokeFunction('convertToInteractive',\n",
              "                                                     [key], {});\n",
              "          if (!dataTable) return;\n",
              "\n",
              "          const docLinkHtml = 'Like what you see? Visit the ' +\n",
              "            '<a target=\"_blank\" href=https://colab.research.google.com/notebooks/data_table.ipynb>data table notebook</a>'\n",
              "            + ' to learn more about interactive tables.';\n",
              "          element.innerHTML = '';\n",
              "          dataTable['output_type'] = 'display_data';\n",
              "          await google.colab.output.renderOutput(dataTable, element);\n",
              "          const docLink = document.createElement('div');\n",
              "          docLink.innerHTML = docLinkHtml;\n",
              "          element.appendChild(docLink);\n",
              "        }\n",
              "      </script>\n",
              "    </div>\n",
              "  </div>\n",
              "  "
            ]
          },
          "metadata": {},
          "execution_count": 84
        }
      ]
    },
    {
      "cell_type": "markdown",
      "source": [
        "#### 2.11.3 inplace"
      ],
      "metadata": {
        "id": "kDSahaC7sk20"
      }
    },
    {
      "cell_type": "code",
      "source": [
        "df2 = df.copy()\n"
      ],
      "metadata": {
        "id": "Fs9DZVsesm08"
      },
      "execution_count": null,
      "outputs": []
    },
    {
      "cell_type": "code",
      "source": [
        "df2.drop('temperatura', axis=1, inplace=True)"
      ],
      "metadata": {
        "id": "SuhOx4Dzsqj9"
      },
      "execution_count": null,
      "outputs": []
    },
    {
      "cell_type": "code",
      "source": [
        "df2"
      ],
      "metadata": {
        "colab": {
          "base_uri": "https://localhost:8080/",
          "height": 269
        },
        "id": "m1Wz1iAPs027",
        "outputId": "dee38b65-b543-49ff-b2bf-598ec62c13e3"
      },
      "execution_count": null,
      "outputs": [
        {
          "output_type": "execute_result",
          "data": {
            "text/plain": [
              "           classification\n",
              "date                     \n",
              "2020-01-01         quente\n",
              "2020-02-01   muito quente\n",
              "2020-03-01         quente\n",
              "2020-04-01         quente\n",
              "2020-05-01    confortavel\n",
              "2020-06-01           frio"
            ],
            "text/html": [
              "\n",
              "  <div id=\"df-9adbdbde-9087-4e93-84d2-386f88f0a926\">\n",
              "    <div class=\"colab-df-container\">\n",
              "      <div>\n",
              "<style scoped>\n",
              "    .dataframe tbody tr th:only-of-type {\n",
              "        vertical-align: middle;\n",
              "    }\n",
              "\n",
              "    .dataframe tbody tr th {\n",
              "        vertical-align: top;\n",
              "    }\n",
              "\n",
              "    .dataframe thead th {\n",
              "        text-align: right;\n",
              "    }\n",
              "</style>\n",
              "<table border=\"1\" class=\"dataframe\">\n",
              "  <thead>\n",
              "    <tr style=\"text-align: right;\">\n",
              "      <th></th>\n",
              "      <th>classification</th>\n",
              "    </tr>\n",
              "    <tr>\n",
              "      <th>date</th>\n",
              "      <th></th>\n",
              "    </tr>\n",
              "  </thead>\n",
              "  <tbody>\n",
              "    <tr>\n",
              "      <th>2020-01-01</th>\n",
              "      <td>quente</td>\n",
              "    </tr>\n",
              "    <tr>\n",
              "      <th>2020-02-01</th>\n",
              "      <td>muito quente</td>\n",
              "    </tr>\n",
              "    <tr>\n",
              "      <th>2020-03-01</th>\n",
              "      <td>quente</td>\n",
              "    </tr>\n",
              "    <tr>\n",
              "      <th>2020-04-01</th>\n",
              "      <td>quente</td>\n",
              "    </tr>\n",
              "    <tr>\n",
              "      <th>2020-05-01</th>\n",
              "      <td>confortavel</td>\n",
              "    </tr>\n",
              "    <tr>\n",
              "      <th>2020-06-01</th>\n",
              "      <td>frio</td>\n",
              "    </tr>\n",
              "  </tbody>\n",
              "</table>\n",
              "</div>\n",
              "      <button class=\"colab-df-convert\" onclick=\"convertToInteractive('df-9adbdbde-9087-4e93-84d2-386f88f0a926')\"\n",
              "              title=\"Convert this dataframe to an interactive table.\"\n",
              "              style=\"display:none;\">\n",
              "        \n",
              "  <svg xmlns=\"http://www.w3.org/2000/svg\" height=\"24px\"viewBox=\"0 0 24 24\"\n",
              "       width=\"24px\">\n",
              "    <path d=\"M0 0h24v24H0V0z\" fill=\"none\"/>\n",
              "    <path d=\"M18.56 5.44l.94 2.06.94-2.06 2.06-.94-2.06-.94-.94-2.06-.94 2.06-2.06.94zm-11 1L8.5 8.5l.94-2.06 2.06-.94-2.06-.94L8.5 2.5l-.94 2.06-2.06.94zm10 10l.94 2.06.94-2.06 2.06-.94-2.06-.94-.94-2.06-.94 2.06-2.06.94z\"/><path d=\"M17.41 7.96l-1.37-1.37c-.4-.4-.92-.59-1.43-.59-.52 0-1.04.2-1.43.59L10.3 9.45l-7.72 7.72c-.78.78-.78 2.05 0 2.83L4 21.41c.39.39.9.59 1.41.59.51 0 1.02-.2 1.41-.59l7.78-7.78 2.81-2.81c.8-.78.8-2.07 0-2.86zM5.41 20L4 18.59l7.72-7.72 1.47 1.35L5.41 20z\"/>\n",
              "  </svg>\n",
              "      </button>\n",
              "      \n",
              "  <style>\n",
              "    .colab-df-container {\n",
              "      display:flex;\n",
              "      flex-wrap:wrap;\n",
              "      gap: 12px;\n",
              "    }\n",
              "\n",
              "    .colab-df-convert {\n",
              "      background-color: #E8F0FE;\n",
              "      border: none;\n",
              "      border-radius: 50%;\n",
              "      cursor: pointer;\n",
              "      display: none;\n",
              "      fill: #1967D2;\n",
              "      height: 32px;\n",
              "      padding: 0 0 0 0;\n",
              "      width: 32px;\n",
              "    }\n",
              "\n",
              "    .colab-df-convert:hover {\n",
              "      background-color: #E2EBFA;\n",
              "      box-shadow: 0px 1px 2px rgba(60, 64, 67, 0.3), 0px 1px 3px 1px rgba(60, 64, 67, 0.15);\n",
              "      fill: #174EA6;\n",
              "    }\n",
              "\n",
              "    [theme=dark] .colab-df-convert {\n",
              "      background-color: #3B4455;\n",
              "      fill: #D2E3FC;\n",
              "    }\n",
              "\n",
              "    [theme=dark] .colab-df-convert:hover {\n",
              "      background-color: #434B5C;\n",
              "      box-shadow: 0px 1px 3px 1px rgba(0, 0, 0, 0.15);\n",
              "      filter: drop-shadow(0px 1px 2px rgba(0, 0, 0, 0.3));\n",
              "      fill: #FFFFFF;\n",
              "    }\n",
              "  </style>\n",
              "\n",
              "      <script>\n",
              "        const buttonEl =\n",
              "          document.querySelector('#df-9adbdbde-9087-4e93-84d2-386f88f0a926 button.colab-df-convert');\n",
              "        buttonEl.style.display =\n",
              "          google.colab.kernel.accessAllowed ? 'block' : 'none';\n",
              "\n",
              "        async function convertToInteractive(key) {\n",
              "          const element = document.querySelector('#df-9adbdbde-9087-4e93-84d2-386f88f0a926');\n",
              "          const dataTable =\n",
              "            await google.colab.kernel.invokeFunction('convertToInteractive',\n",
              "                                                     [key], {});\n",
              "          if (!dataTable) return;\n",
              "\n",
              "          const docLinkHtml = 'Like what you see? Visit the ' +\n",
              "            '<a target=\"_blank\" href=https://colab.research.google.com/notebooks/data_table.ipynb>data table notebook</a>'\n",
              "            + ' to learn more about interactive tables.';\n",
              "          element.innerHTML = '';\n",
              "          dataTable['output_type'] = 'display_data';\n",
              "          await google.colab.output.renderOutput(dataTable, element);\n",
              "          const docLink = document.createElement('div');\n",
              "          docLink.innerHTML = docLinkHtml;\n",
              "          element.appendChild(docLink);\n",
              "        }\n",
              "      </script>\n",
              "    </div>\n",
              "  </div>\n",
              "  "
            ]
          },
          "metadata": {},
          "execution_count": 91
        }
      ]
    },
    {
      "cell_type": "markdown",
      "source": [
        "# Scikit-learn"
      ],
      "metadata": {
        "id": "2nMpycM1TF8c"
      }
    },
    {
      "cell_type": "markdown",
      "source": [
        "## 1. Leitura de dados"
      ],
      "metadata": {
        "id": "2KXaDY42T0Th"
      }
    },
    {
      "cell_type": "code",
      "source": [
        "df = pd.read_csv('https://pycourse.s3.amazonaws.com/temperature.csv')\n",
        "df"
      ],
      "metadata": {
        "colab": {
          "base_uri": "https://localhost:8080/",
          "height": 0
        },
        "id": "-crtlI10TFcn",
        "outputId": "74a13ca6-2e60-42cd-c0c9-4c34bc2d8a81"
      },
      "execution_count": 7,
      "outputs": [
        {
          "output_type": "execute_result",
          "data": {
            "text/plain": [
              "         date  temperatura classification\n",
              "0  2020-01-01         29.1         quente\n",
              "1  2020-02-01         31.2   muito quente\n",
              "2  2020-03-01         28.5         quente\n",
              "3  2020-04-01         28.0         quente\n",
              "4  2020-05-01         24.0    confortavel\n",
              "5  2020-06-01         20.0           frio"
            ],
            "text/html": [
              "\n",
              "  <div id=\"df-4af5c6db-9859-4c0e-ae67-a6e5062fd5ed\">\n",
              "    <div class=\"colab-df-container\">\n",
              "      <div>\n",
              "<style scoped>\n",
              "    .dataframe tbody tr th:only-of-type {\n",
              "        vertical-align: middle;\n",
              "    }\n",
              "\n",
              "    .dataframe tbody tr th {\n",
              "        vertical-align: top;\n",
              "    }\n",
              "\n",
              "    .dataframe thead th {\n",
              "        text-align: right;\n",
              "    }\n",
              "</style>\n",
              "<table border=\"1\" class=\"dataframe\">\n",
              "  <thead>\n",
              "    <tr style=\"text-align: right;\">\n",
              "      <th></th>\n",
              "      <th>date</th>\n",
              "      <th>temperatura</th>\n",
              "      <th>classification</th>\n",
              "    </tr>\n",
              "  </thead>\n",
              "  <tbody>\n",
              "    <tr>\n",
              "      <th>0</th>\n",
              "      <td>2020-01-01</td>\n",
              "      <td>29.1</td>\n",
              "      <td>quente</td>\n",
              "    </tr>\n",
              "    <tr>\n",
              "      <th>1</th>\n",
              "      <td>2020-02-01</td>\n",
              "      <td>31.2</td>\n",
              "      <td>muito quente</td>\n",
              "    </tr>\n",
              "    <tr>\n",
              "      <th>2</th>\n",
              "      <td>2020-03-01</td>\n",
              "      <td>28.5</td>\n",
              "      <td>quente</td>\n",
              "    </tr>\n",
              "    <tr>\n",
              "      <th>3</th>\n",
              "      <td>2020-04-01</td>\n",
              "      <td>28.0</td>\n",
              "      <td>quente</td>\n",
              "    </tr>\n",
              "    <tr>\n",
              "      <th>4</th>\n",
              "      <td>2020-05-01</td>\n",
              "      <td>24.0</td>\n",
              "      <td>confortavel</td>\n",
              "    </tr>\n",
              "    <tr>\n",
              "      <th>5</th>\n",
              "      <td>2020-06-01</td>\n",
              "      <td>20.0</td>\n",
              "      <td>frio</td>\n",
              "    </tr>\n",
              "  </tbody>\n",
              "</table>\n",
              "</div>\n",
              "      <button class=\"colab-df-convert\" onclick=\"convertToInteractive('df-4af5c6db-9859-4c0e-ae67-a6e5062fd5ed')\"\n",
              "              title=\"Convert this dataframe to an interactive table.\"\n",
              "              style=\"display:none;\">\n",
              "        \n",
              "  <svg xmlns=\"http://www.w3.org/2000/svg\" height=\"24px\"viewBox=\"0 0 24 24\"\n",
              "       width=\"24px\">\n",
              "    <path d=\"M0 0h24v24H0V0z\" fill=\"none\"/>\n",
              "    <path d=\"M18.56 5.44l.94 2.06.94-2.06 2.06-.94-2.06-.94-.94-2.06-.94 2.06-2.06.94zm-11 1L8.5 8.5l.94-2.06 2.06-.94-2.06-.94L8.5 2.5l-.94 2.06-2.06.94zm10 10l.94 2.06.94-2.06 2.06-.94-2.06-.94-.94-2.06-.94 2.06-2.06.94z\"/><path d=\"M17.41 7.96l-1.37-1.37c-.4-.4-.92-.59-1.43-.59-.52 0-1.04.2-1.43.59L10.3 9.45l-7.72 7.72c-.78.78-.78 2.05 0 2.83L4 21.41c.39.39.9.59 1.41.59.51 0 1.02-.2 1.41-.59l7.78-7.78 2.81-2.81c.8-.78.8-2.07 0-2.86zM5.41 20L4 18.59l7.72-7.72 1.47 1.35L5.41 20z\"/>\n",
              "  </svg>\n",
              "      </button>\n",
              "      \n",
              "  <style>\n",
              "    .colab-df-container {\n",
              "      display:flex;\n",
              "      flex-wrap:wrap;\n",
              "      gap: 12px;\n",
              "    }\n",
              "\n",
              "    .colab-df-convert {\n",
              "      background-color: #E8F0FE;\n",
              "      border: none;\n",
              "      border-radius: 50%;\n",
              "      cursor: pointer;\n",
              "      display: none;\n",
              "      fill: #1967D2;\n",
              "      height: 32px;\n",
              "      padding: 0 0 0 0;\n",
              "      width: 32px;\n",
              "    }\n",
              "\n",
              "    .colab-df-convert:hover {\n",
              "      background-color: #E2EBFA;\n",
              "      box-shadow: 0px 1px 2px rgba(60, 64, 67, 0.3), 0px 1px 3px 1px rgba(60, 64, 67, 0.15);\n",
              "      fill: #174EA6;\n",
              "    }\n",
              "\n",
              "    [theme=dark] .colab-df-convert {\n",
              "      background-color: #3B4455;\n",
              "      fill: #D2E3FC;\n",
              "    }\n",
              "\n",
              "    [theme=dark] .colab-df-convert:hover {\n",
              "      background-color: #434B5C;\n",
              "      box-shadow: 0px 1px 3px 1px rgba(0, 0, 0, 0.15);\n",
              "      filter: drop-shadow(0px 1px 2px rgba(0, 0, 0, 0.3));\n",
              "      fill: #FFFFFF;\n",
              "    }\n",
              "  </style>\n",
              "\n",
              "      <script>\n",
              "        const buttonEl =\n",
              "          document.querySelector('#df-4af5c6db-9859-4c0e-ae67-a6e5062fd5ed button.colab-df-convert');\n",
              "        buttonEl.style.display =\n",
              "          google.colab.kernel.accessAllowed ? 'block' : 'none';\n",
              "\n",
              "        async function convertToInteractive(key) {\n",
              "          const element = document.querySelector('#df-4af5c6db-9859-4c0e-ae67-a6e5062fd5ed');\n",
              "          const dataTable =\n",
              "            await google.colab.kernel.invokeFunction('convertToInteractive',\n",
              "                                                     [key], {});\n",
              "          if (!dataTable) return;\n",
              "\n",
              "          const docLinkHtml = 'Like what you see? Visit the ' +\n",
              "            '<a target=\"_blank\" href=https://colab.research.google.com/notebooks/data_table.ipynb>data table notebook</a>'\n",
              "            + ' to learn more about interactive tables.';\n",
              "          element.innerHTML = '';\n",
              "          dataTable['output_type'] = 'display_data';\n",
              "          await google.colab.output.renderOutput(dataTable, element);\n",
              "          const docLink = document.createElement('div');\n",
              "          docLink.innerHTML = docLinkHtml;\n",
              "          element.appendChild(docLink);\n",
              "        }\n",
              "      </script>\n",
              "    </div>\n",
              "  </div>\n",
              "  "
            ]
          },
          "metadata": {},
          "execution_count": 7
        }
      ]
    },
    {
      "cell_type": "markdown",
      "source": [
        "## 2. Extração de X e Y"
      ],
      "metadata": {
        "id": "XgV3PMLgUALD"
      }
    },
    {
      "cell_type": "code",
      "source": [
        "x, y = df[['temperatura']].values, df[['classification']].values\n",
        "print('x:\\n', x)\n",
        "print('y:\\n', y)"
      ],
      "metadata": {
        "colab": {
          "base_uri": "https://localhost:8080/"
        },
        "id": "zDGOwsOWTywb",
        "outputId": "4cc3da3f-aff3-4585-af03-405f234e06ea"
      },
      "execution_count": 8,
      "outputs": [
        {
          "output_type": "stream",
          "name": "stdout",
          "text": [
            "x:\n",
            " [[29.1]\n",
            " [31.2]\n",
            " [28.5]\n",
            " [28. ]\n",
            " [24. ]\n",
            " [20. ]]\n",
            "y:\n",
            " [['quente']\n",
            " ['muito quente']\n",
            " ['quente']\n",
            " ['quente']\n",
            " ['confortavel']\n",
            " ['frio']]\n"
          ]
        }
      ]
    },
    {
      "cell_type": "markdown",
      "source": [
        "## 3. Pré-processamento"
      ],
      "metadata": {
        "id": "6gvRMNKaUa41"
      }
    },
    {
      "cell_type": "markdown",
      "source": [
        "### 3.1 Conversao de Y para valores numéricos"
      ],
      "metadata": {
        "id": "bMJ-xX7uUlRb"
      }
    },
    {
      "cell_type": "code",
      "source": [
        "le = LabelEncoder()\n",
        "y = le.fit_transform(y.ravel())\n",
        "print('y:\\n', y)"
      ],
      "metadata": {
        "colab": {
          "base_uri": "https://localhost:8080/"
        },
        "id": "URjpadyWUk0q",
        "outputId": "2e9e34d4-b96f-479e-f27a-92b04a76ec00"
      },
      "execution_count": 9,
      "outputs": [
        {
          "output_type": "stream",
          "name": "stdout",
          "text": [
            "y:\n",
            " [3 2 3 3 0 1]\n"
          ]
        }
      ]
    },
    {
      "cell_type": "markdown",
      "source": [
        "## 4. Modelo"
      ],
      "metadata": {
        "id": "y_WVX37lVOjD"
      }
    },
    {
      "cell_type": "code",
      "source": [
        "# classificador\n",
        "clf = LogisticRegression()\n",
        "clf.fit(x, y)"
      ],
      "metadata": {
        "colab": {
          "base_uri": "https://localhost:8080/"
        },
        "id": "8is3ACn2UeBb",
        "outputId": "e0dab311-3fa6-4b0d-a46b-fdbe05778554"
      },
      "execution_count": 12,
      "outputs": [
        {
          "output_type": "execute_result",
          "data": {
            "text/plain": [
              "LogisticRegression()"
            ]
          },
          "metadata": {},
          "execution_count": 12
        }
      ]
    },
    {
      "cell_type": "markdown",
      "source": [
        "## 5. Extrapolação"
      ],
      "metadata": {
        "id": "cL0qjH9oV7t5"
      }
    },
    {
      "cell_type": "code",
      "source": [
        "# gerar 100 valores de temperatura linearmente espaçados entre 0 e 45\n",
        "x_test = np.linspace(start=0., stop=45., num=100).reshape(-1, 1)\n",
        "\n",
        "# predição desses valores\n",
        "y_pred = clf.predict(x_test)"
      ],
      "metadata": {
        "id": "huLam1anVn6z"
      },
      "execution_count": 13,
      "outputs": []
    },
    {
      "cell_type": "code",
      "source": [
        "print(y_pred)"
      ],
      "metadata": {
        "colab": {
          "base_uri": "https://localhost:8080/"
        },
        "id": "i8samVC9WaXL",
        "outputId": "eb3bb53a-2c6f-4917-e968-0a004a7c9075"
      },
      "execution_count": 14,
      "outputs": [
        {
          "output_type": "stream",
          "name": "stdout",
          "text": [
            "[1 1 1 1 1 1 1 1 1 1 1 1 1 1 1 1 1 1 1 1 1 1 1 1 1 1 1 1 1 1 1 1 1 1 1 1 1\n",
            " 1 1 1 1 1 1 1 1 1 1 1 1 1 0 0 0 0 0 0 3 3 3 3 3 3 3 3 3 3 3 3 2 2 2 2 2 2\n",
            " 2 2 2 2 2 2 2 2 2 2 2 2 2 2 2 2 2 2 2 2 2 2 2 2 2 2]\n"
          ]
        }
      ]
    },
    {
      "cell_type": "code",
      "source": [
        "# conversao de y_pred para os valores originais\n",
        "y_pred = le.inverse_transform(y_pred)\n",
        "print(y_pred)"
      ],
      "metadata": {
        "colab": {
          "base_uri": "https://localhost:8080/"
        },
        "id": "o5tbbyBhWii6",
        "outputId": "2d6e3d97-9752-439e-ec97-481debc722b4"
      },
      "execution_count": 15,
      "outputs": [
        {
          "output_type": "stream",
          "name": "stdout",
          "text": [
            "['frio' 'frio' 'frio' 'frio' 'frio' 'frio' 'frio' 'frio' 'frio' 'frio'\n",
            " 'frio' 'frio' 'frio' 'frio' 'frio' 'frio' 'frio' 'frio' 'frio' 'frio'\n",
            " 'frio' 'frio' 'frio' 'frio' 'frio' 'frio' 'frio' 'frio' 'frio' 'frio'\n",
            " 'frio' 'frio' 'frio' 'frio' 'frio' 'frio' 'frio' 'frio' 'frio' 'frio'\n",
            " 'frio' 'frio' 'frio' 'frio' 'frio' 'frio' 'frio' 'frio' 'frio' 'frio'\n",
            " 'confortavel' 'confortavel' 'confortavel' 'confortavel' 'confortavel'\n",
            " 'confortavel' 'quente' 'quente' 'quente' 'quente' 'quente' 'quente'\n",
            " 'quente' 'quente' 'quente' 'quente' 'quente' 'quente' 'muito quente'\n",
            " 'muito quente' 'muito quente' 'muito quente' 'muito quente'\n",
            " 'muito quente' 'muito quente' 'muito quente' 'muito quente'\n",
            " 'muito quente' 'muito quente' 'muito quente' 'muito quente'\n",
            " 'muito quente' 'muito quente' 'muito quente' 'muito quente'\n",
            " 'muito quente' 'muito quente' 'muito quente' 'muito quente'\n",
            " 'muito quente' 'muito quente' 'muito quente' 'muito quente'\n",
            " 'muito quente' 'muito quente' 'muito quente' 'muito quente'\n",
            " 'muito quente' 'muito quente' 'muito quente']\n"
          ]
        }
      ]
    },
    {
      "cell_type": "markdown",
      "source": [
        "## 6. Visualização"
      ],
      "metadata": {
        "id": "gmGjyH-TW9yZ"
      }
    },
    {
      "cell_type": "code",
      "source": [
        "output = {'nem_temp': x_test.ravel(),\n",
        "          'new_class': y_pred.ravel()}\n",
        "output = pd.DataFrame(output)"
      ],
      "metadata": {
        "id": "hDAjke3-XCi5"
      },
      "execution_count": 16,
      "outputs": []
    },
    {
      "cell_type": "code",
      "source": [
        "output.head()"
      ],
      "metadata": {
        "colab": {
          "base_uri": "https://localhost:8080/",
          "height": 0
        },
        "id": "BZLy12jcXNtQ",
        "outputId": "9ff9fc86-8369-484e-bcf0-545fb2405d63"
      },
      "execution_count": 17,
      "outputs": [
        {
          "output_type": "execute_result",
          "data": {
            "text/plain": [
              "   nem_temp new_class\n",
              "0  0.000000      frio\n",
              "1  0.454545      frio\n",
              "2  0.909091      frio\n",
              "3  1.363636      frio\n",
              "4  1.818182      frio"
            ],
            "text/html": [
              "\n",
              "  <div id=\"df-faaf576b-5547-4a30-a56b-552cc507ad85\">\n",
              "    <div class=\"colab-df-container\">\n",
              "      <div>\n",
              "<style scoped>\n",
              "    .dataframe tbody tr th:only-of-type {\n",
              "        vertical-align: middle;\n",
              "    }\n",
              "\n",
              "    .dataframe tbody tr th {\n",
              "        vertical-align: top;\n",
              "    }\n",
              "\n",
              "    .dataframe thead th {\n",
              "        text-align: right;\n",
              "    }\n",
              "</style>\n",
              "<table border=\"1\" class=\"dataframe\">\n",
              "  <thead>\n",
              "    <tr style=\"text-align: right;\">\n",
              "      <th></th>\n",
              "      <th>nem_temp</th>\n",
              "      <th>new_class</th>\n",
              "    </tr>\n",
              "  </thead>\n",
              "  <tbody>\n",
              "    <tr>\n",
              "      <th>0</th>\n",
              "      <td>0.000000</td>\n",
              "      <td>frio</td>\n",
              "    </tr>\n",
              "    <tr>\n",
              "      <th>1</th>\n",
              "      <td>0.454545</td>\n",
              "      <td>frio</td>\n",
              "    </tr>\n",
              "    <tr>\n",
              "      <th>2</th>\n",
              "      <td>0.909091</td>\n",
              "      <td>frio</td>\n",
              "    </tr>\n",
              "    <tr>\n",
              "      <th>3</th>\n",
              "      <td>1.363636</td>\n",
              "      <td>frio</td>\n",
              "    </tr>\n",
              "    <tr>\n",
              "      <th>4</th>\n",
              "      <td>1.818182</td>\n",
              "      <td>frio</td>\n",
              "    </tr>\n",
              "  </tbody>\n",
              "</table>\n",
              "</div>\n",
              "      <button class=\"colab-df-convert\" onclick=\"convertToInteractive('df-faaf576b-5547-4a30-a56b-552cc507ad85')\"\n",
              "              title=\"Convert this dataframe to an interactive table.\"\n",
              "              style=\"display:none;\">\n",
              "        \n",
              "  <svg xmlns=\"http://www.w3.org/2000/svg\" height=\"24px\"viewBox=\"0 0 24 24\"\n",
              "       width=\"24px\">\n",
              "    <path d=\"M0 0h24v24H0V0z\" fill=\"none\"/>\n",
              "    <path d=\"M18.56 5.44l.94 2.06.94-2.06 2.06-.94-2.06-.94-.94-2.06-.94 2.06-2.06.94zm-11 1L8.5 8.5l.94-2.06 2.06-.94-2.06-.94L8.5 2.5l-.94 2.06-2.06.94zm10 10l.94 2.06.94-2.06 2.06-.94-2.06-.94-.94-2.06-.94 2.06-2.06.94z\"/><path d=\"M17.41 7.96l-1.37-1.37c-.4-.4-.92-.59-1.43-.59-.52 0-1.04.2-1.43.59L10.3 9.45l-7.72 7.72c-.78.78-.78 2.05 0 2.83L4 21.41c.39.39.9.59 1.41.59.51 0 1.02-.2 1.41-.59l7.78-7.78 2.81-2.81c.8-.78.8-2.07 0-2.86zM5.41 20L4 18.59l7.72-7.72 1.47 1.35L5.41 20z\"/>\n",
              "  </svg>\n",
              "      </button>\n",
              "      \n",
              "  <style>\n",
              "    .colab-df-container {\n",
              "      display:flex;\n",
              "      flex-wrap:wrap;\n",
              "      gap: 12px;\n",
              "    }\n",
              "\n",
              "    .colab-df-convert {\n",
              "      background-color: #E8F0FE;\n",
              "      border: none;\n",
              "      border-radius: 50%;\n",
              "      cursor: pointer;\n",
              "      display: none;\n",
              "      fill: #1967D2;\n",
              "      height: 32px;\n",
              "      padding: 0 0 0 0;\n",
              "      width: 32px;\n",
              "    }\n",
              "\n",
              "    .colab-df-convert:hover {\n",
              "      background-color: #E2EBFA;\n",
              "      box-shadow: 0px 1px 2px rgba(60, 64, 67, 0.3), 0px 1px 3px 1px rgba(60, 64, 67, 0.15);\n",
              "      fill: #174EA6;\n",
              "    }\n",
              "\n",
              "    [theme=dark] .colab-df-convert {\n",
              "      background-color: #3B4455;\n",
              "      fill: #D2E3FC;\n",
              "    }\n",
              "\n",
              "    [theme=dark] .colab-df-convert:hover {\n",
              "      background-color: #434B5C;\n",
              "      box-shadow: 0px 1px 3px 1px rgba(0, 0, 0, 0.15);\n",
              "      filter: drop-shadow(0px 1px 2px rgba(0, 0, 0, 0.3));\n",
              "      fill: #FFFFFF;\n",
              "    }\n",
              "  </style>\n",
              "\n",
              "      <script>\n",
              "        const buttonEl =\n",
              "          document.querySelector('#df-faaf576b-5547-4a30-a56b-552cc507ad85 button.colab-df-convert');\n",
              "        buttonEl.style.display =\n",
              "          google.colab.kernel.accessAllowed ? 'block' : 'none';\n",
              "\n",
              "        async function convertToInteractive(key) {\n",
              "          const element = document.querySelector('#df-faaf576b-5547-4a30-a56b-552cc507ad85');\n",
              "          const dataTable =\n",
              "            await google.colab.kernel.invokeFunction('convertToInteractive',\n",
              "                                                     [key], {});\n",
              "          if (!dataTable) return;\n",
              "\n",
              "          const docLinkHtml = 'Like what you see? Visit the ' +\n",
              "            '<a target=\"_blank\" href=https://colab.research.google.com/notebooks/data_table.ipynb>data table notebook</a>'\n",
              "            + ' to learn more about interactive tables.';\n",
              "          element.innerHTML = '';\n",
              "          dataTable['output_type'] = 'display_data';\n",
              "          await google.colab.output.renderOutput(dataTable, element);\n",
              "          const docLink = document.createElement('div');\n",
              "          docLink.innerHTML = docLinkHtml;\n",
              "          element.appendChild(docLink);\n",
              "        }\n",
              "      </script>\n",
              "    </div>\n",
              "  </div>\n",
              "  "
            ]
          },
          "metadata": {},
          "execution_count": 17
        }
      ]
    },
    {
      "cell_type": "code",
      "source": [
        "output.info()"
      ],
      "metadata": {
        "colab": {
          "base_uri": "https://localhost:8080/"
        },
        "id": "la_BhNEJXQh_",
        "outputId": "ba481587-ba49-471c-bb51-8a86247c8dcc"
      },
      "execution_count": 18,
      "outputs": [
        {
          "output_type": "stream",
          "name": "stdout",
          "text": [
            "<class 'pandas.core.frame.DataFrame'>\n",
            "RangeIndex: 100 entries, 0 to 99\n",
            "Data columns (total 2 columns):\n",
            " #   Column     Non-Null Count  Dtype  \n",
            "---  ------     --------------  -----  \n",
            " 0   nem_temp   100 non-null    float64\n",
            " 1   new_class  100 non-null    object \n",
            "dtypes: float64(1), object(1)\n",
            "memory usage: 1.7+ KB\n"
          ]
        }
      ]
    },
    {
      "cell_type": "code",
      "source": [
        "output.describe()"
      ],
      "metadata": {
        "colab": {
          "base_uri": "https://localhost:8080/",
          "height": 0
        },
        "id": "F9VNJWcPXVGf",
        "outputId": "4f3e55a9-3e43-471d-a91c-b3fd11bc6b31"
      },
      "execution_count": 19,
      "outputs": [
        {
          "output_type": "execute_result",
          "data": {
            "text/plain": [
              "         nem_temp\n",
              "count  100.000000\n",
              "mean    22.500000\n",
              "std     13.187042\n",
              "min      0.000000\n",
              "25%     11.250000\n",
              "50%     22.500000\n",
              "75%     33.750000\n",
              "max     45.000000"
            ],
            "text/html": [
              "\n",
              "  <div id=\"df-e0384c48-14d1-47d0-9baf-75881f963c8a\">\n",
              "    <div class=\"colab-df-container\">\n",
              "      <div>\n",
              "<style scoped>\n",
              "    .dataframe tbody tr th:only-of-type {\n",
              "        vertical-align: middle;\n",
              "    }\n",
              "\n",
              "    .dataframe tbody tr th {\n",
              "        vertical-align: top;\n",
              "    }\n",
              "\n",
              "    .dataframe thead th {\n",
              "        text-align: right;\n",
              "    }\n",
              "</style>\n",
              "<table border=\"1\" class=\"dataframe\">\n",
              "  <thead>\n",
              "    <tr style=\"text-align: right;\">\n",
              "      <th></th>\n",
              "      <th>nem_temp</th>\n",
              "    </tr>\n",
              "  </thead>\n",
              "  <tbody>\n",
              "    <tr>\n",
              "      <th>count</th>\n",
              "      <td>100.000000</td>\n",
              "    </tr>\n",
              "    <tr>\n",
              "      <th>mean</th>\n",
              "      <td>22.500000</td>\n",
              "    </tr>\n",
              "    <tr>\n",
              "      <th>std</th>\n",
              "      <td>13.187042</td>\n",
              "    </tr>\n",
              "    <tr>\n",
              "      <th>min</th>\n",
              "      <td>0.000000</td>\n",
              "    </tr>\n",
              "    <tr>\n",
              "      <th>25%</th>\n",
              "      <td>11.250000</td>\n",
              "    </tr>\n",
              "    <tr>\n",
              "      <th>50%</th>\n",
              "      <td>22.500000</td>\n",
              "    </tr>\n",
              "    <tr>\n",
              "      <th>75%</th>\n",
              "      <td>33.750000</td>\n",
              "    </tr>\n",
              "    <tr>\n",
              "      <th>max</th>\n",
              "      <td>45.000000</td>\n",
              "    </tr>\n",
              "  </tbody>\n",
              "</table>\n",
              "</div>\n",
              "      <button class=\"colab-df-convert\" onclick=\"convertToInteractive('df-e0384c48-14d1-47d0-9baf-75881f963c8a')\"\n",
              "              title=\"Convert this dataframe to an interactive table.\"\n",
              "              style=\"display:none;\">\n",
              "        \n",
              "  <svg xmlns=\"http://www.w3.org/2000/svg\" height=\"24px\"viewBox=\"0 0 24 24\"\n",
              "       width=\"24px\">\n",
              "    <path d=\"M0 0h24v24H0V0z\" fill=\"none\"/>\n",
              "    <path d=\"M18.56 5.44l.94 2.06.94-2.06 2.06-.94-2.06-.94-.94-2.06-.94 2.06-2.06.94zm-11 1L8.5 8.5l.94-2.06 2.06-.94-2.06-.94L8.5 2.5l-.94 2.06-2.06.94zm10 10l.94 2.06.94-2.06 2.06-.94-2.06-.94-.94-2.06-.94 2.06-2.06.94z\"/><path d=\"M17.41 7.96l-1.37-1.37c-.4-.4-.92-.59-1.43-.59-.52 0-1.04.2-1.43.59L10.3 9.45l-7.72 7.72c-.78.78-.78 2.05 0 2.83L4 21.41c.39.39.9.59 1.41.59.51 0 1.02-.2 1.41-.59l7.78-7.78 2.81-2.81c.8-.78.8-2.07 0-2.86zM5.41 20L4 18.59l7.72-7.72 1.47 1.35L5.41 20z\"/>\n",
              "  </svg>\n",
              "      </button>\n",
              "      \n",
              "  <style>\n",
              "    .colab-df-container {\n",
              "      display:flex;\n",
              "      flex-wrap:wrap;\n",
              "      gap: 12px;\n",
              "    }\n",
              "\n",
              "    .colab-df-convert {\n",
              "      background-color: #E8F0FE;\n",
              "      border: none;\n",
              "      border-radius: 50%;\n",
              "      cursor: pointer;\n",
              "      display: none;\n",
              "      fill: #1967D2;\n",
              "      height: 32px;\n",
              "      padding: 0 0 0 0;\n",
              "      width: 32px;\n",
              "    }\n",
              "\n",
              "    .colab-df-convert:hover {\n",
              "      background-color: #E2EBFA;\n",
              "      box-shadow: 0px 1px 2px rgba(60, 64, 67, 0.3), 0px 1px 3px 1px rgba(60, 64, 67, 0.15);\n",
              "      fill: #174EA6;\n",
              "    }\n",
              "\n",
              "    [theme=dark] .colab-df-convert {\n",
              "      background-color: #3B4455;\n",
              "      fill: #D2E3FC;\n",
              "    }\n",
              "\n",
              "    [theme=dark] .colab-df-convert:hover {\n",
              "      background-color: #434B5C;\n",
              "      box-shadow: 0px 1px 3px 1px rgba(0, 0, 0, 0.15);\n",
              "      filter: drop-shadow(0px 1px 2px rgba(0, 0, 0, 0.3));\n",
              "      fill: #FFFFFF;\n",
              "    }\n",
              "  </style>\n",
              "\n",
              "      <script>\n",
              "        const buttonEl =\n",
              "          document.querySelector('#df-e0384c48-14d1-47d0-9baf-75881f963c8a button.colab-df-convert');\n",
              "        buttonEl.style.display =\n",
              "          google.colab.kernel.accessAllowed ? 'block' : 'none';\n",
              "\n",
              "        async function convertToInteractive(key) {\n",
              "          const element = document.querySelector('#df-e0384c48-14d1-47d0-9baf-75881f963c8a');\n",
              "          const dataTable =\n",
              "            await google.colab.kernel.invokeFunction('convertToInteractive',\n",
              "                                                     [key], {});\n",
              "          if (!dataTable) return;\n",
              "\n",
              "          const docLinkHtml = 'Like what you see? Visit the ' +\n",
              "            '<a target=\"_blank\" href=https://colab.research.google.com/notebooks/data_table.ipynb>data table notebook</a>'\n",
              "            + ' to learn more about interactive tables.';\n",
              "          element.innerHTML = '';\n",
              "          dataTable['output_type'] = 'display_data';\n",
              "          await google.colab.output.renderOutput(dataTable, element);\n",
              "          const docLink = document.createElement('div');\n",
              "          docLink.innerHTML = docLinkHtml;\n",
              "          element.appendChild(docLink);\n",
              "        }\n",
              "      </script>\n",
              "    </div>\n",
              "  </div>\n",
              "  "
            ]
          },
          "metadata": {},
          "execution_count": 19
        }
      ]
    },
    {
      "cell_type": "code",
      "source": [
        "output['new_class'].value_counts().plot.bar(figsize=(10, 5), rot=0, title='# de novos valores gerados');"
      ],
      "metadata": {
        "colab": {
          "base_uri": "https://localhost:8080/",
          "height": 0
        },
        "id": "nxPBSj6_Xbpw",
        "outputId": "2179711d-697c-476c-ce10-7481ebbdf822"
      },
      "execution_count": 22,
      "outputs": [
        {
          "output_type": "display_data",
          "data": {
            "text/plain": [
              "<Figure size 720x360 with 1 Axes>"
            ],
            "image/png": "[encoded data removed]"
          },
          "metadata": {
            "needs_background": "light"
          }
        }
      ]
    },
    {
      "cell_type": "markdown",
      "source": [
        "## 7. Regressão linear"
      ],
      "metadata": {
        "id": "_G72RzmSY2-O"
      }
    },
    {
      "cell_type": "code",
      "source": [
        "x = [-1., -0.77777778, -0.55555556, -0.33333333, -0.11111111,\n",
        "     0.11111111, 0.33333333, 0.55555556, 0.77777778, 1.]\n",
        "y = [-1.13956201, -0.57177999, -0.21697033, 0.5425699, 0.49406657,\n",
        "     1.14972239, 1.64228553, 2.1749824, 2.64773614, 2.95684202]"
      ],
      "metadata": {
        "id": "aF9wZ0I8Xw0n"
      },
      "execution_count": 23,
      "outputs": []
    },
    {
      "cell_type": "code",
      "source": [
        "x, y = np.array(x).reshape(-1, 1), np.array(y).reshape(-1, 1)"
      ],
      "metadata": {
        "id": "AdbU_c0OZ082"
      },
      "execution_count": 25,
      "outputs": []
    },
    {
      "cell_type": "code",
      "source": [
        "reg = LinearRegression()\n",
        "reg.fit(x, y)"
      ],
      "metadata": {
        "colab": {
          "base_uri": "https://localhost:8080/"
        },
        "id": "5fCoosn9aN7f",
        "outputId": "07cf68fc-fab2-473a-bfb4-54810f43cf85"
      },
      "execution_count": 28,
      "outputs": [
        {
          "output_type": "execute_result",
          "data": {
            "text/plain": [
              "LinearRegression()"
            ]
          },
          "metadata": {},
          "execution_count": 28
        }
      ]
    },
    {
      "cell_type": "code",
      "source": [
        "# coeficientes a, b estimados\n",
        "print('a estimado:', reg.coef_.ravel()[0])\n",
        "print('b estimado:', reg.intercept_[0])"
      ],
      "metadata": {
        "colab": {
          "base_uri": "https://localhost:8080/"
        },
        "id": "IHCgfqhVaX-p",
        "outputId": "0a87b30d-040c-4aee-94ee-a6b9bd1bf031"
      },
      "execution_count": 29,
      "outputs": [
        {
          "output_type": "stream",
          "name": "stdout",
          "text": [
            "a estimado: 2.0541495120384856\n",
            "b estimado: 0.967989262\n"
          ]
        }
      ]
    },
    {
      "cell_type": "code",
      "source": [
        "# predissão de modelo\n",
        "y_pred = reg.predict(x)"
      ],
      "metadata": {
        "id": "Fjo9TowLaN2t"
      },
      "execution_count": 31,
      "outputs": []
    },
    {
      "cell_type": "code",
      "source": [
        "score = reg.score(x, y)\n",
        "print('score:', score)"
      ],
      "metadata": {
        "colab": {
          "base_uri": "https://localhost:8080/"
        },
        "id": "pFk7S0qzbB4W",
        "outputId": "899909b5-3b95-4c67-9919-d273dfc0eba6"
      },
      "execution_count": 32,
      "outputs": [
        {
          "output_type": "stream",
          "name": "stdout",
          "text": [
            "score: 0.9911602676388085\n"
          ]
        }
      ]
    },
    {
      "cell_type": "markdown",
      "source": [
        "# Trabalho prático e Desafio final > módulo 2"
      ],
      "metadata": {
        "id": "c0GBs2j0muTu"
      }
    },
    {
      "cell_type": "code",
      "source": [
        "# CÓDIGO 1\n",
        "Z = np.zeros((4, ))\n",
        "print('Z:', Z)"
      ],
      "metadata": {
        "colab": {
          "base_uri": "https://localhost:8080/"
        },
        "id": "FTaj0fy6mxzj",
        "outputId": "e2feb131-479c-438d-8bc4-f80d39304bd0"
      },
      "execution_count": null,
      "outputs": [
        {
          "output_type": "stream",
          "name": "stdout",
          "text": [
            "Z: [0. 0. 0. 0.]\n"
          ]
        }
      ]
    },
    {
      "cell_type": "code",
      "source": [
        "# CÓDIGO 2\n",
        "Z = np.zeros((4,))\n",
        "Z[1] = 1.\n",
        "print('Z:', Z)"
      ],
      "metadata": {
        "colab": {
          "base_uri": "https://localhost:8080/"
        },
        "id": "09AgWYTJm95_",
        "outputId": "7cbd256a-fec5-4c28-d4c8-ba712a5c4d06"
      },
      "execution_count": null,
      "outputs": [
        {
          "output_type": "stream",
          "name": "stdout",
          "text": [
            "Z: [0. 1. 0. 0.]\n"
          ]
        }
      ]
    },
    {
      "cell_type": "code",
      "source": [
        "# CÓDIGO 3\n",
        "Z = np.zeros((4,))\n",
        "Z[1:] = 1.\n",
        "print('Z:', Z)"
      ],
      "metadata": {
        "colab": {
          "base_uri": "https://localhost:8080/"
        },
        "id": "iQpplhaPnKyr",
        "outputId": "371e6225-5799-4d58-c2ba-bd99bd8f622e"
      },
      "execution_count": null,
      "outputs": [
        {
          "output_type": "stream",
          "name": "stdout",
          "text": [
            "Z: [0. 1. 1. 1.]\n"
          ]
        }
      ]
    },
    {
      "cell_type": "code",
      "source": [
        "# CÓDIGO 4\n",
        "Z = np.ones((4,))\n",
        "Z[-1] = 0.\n",
        "print('Z:', Z)\n",
        "# saida: Z: [1. 1. 1. 0.]"
      ],
      "metadata": {
        "colab": {
          "base_uri": "https://localhost:8080/"
        },
        "id": "I9fx7ZDYnKt7",
        "outputId": "6ff9e8af-7fd9-42d3-8a09-1dca05e97114"
      },
      "execution_count": null,
      "outputs": [
        {
          "output_type": "stream",
          "name": "stdout",
          "text": [
            "Z: [1. 1. 1. 0.]\n"
          ]
        }
      ]
    },
    {
      "cell_type": "code",
      "source": [
        "# CÓDIGO 5 \n",
        "X = 2*np.ones((2, 2))\n",
        "print('X:\\n', X)\n",
        "# saida X: [[2. 2.]\n",
        "#           [2. 2.]]"
      ],
      "metadata": {
        "colab": {
          "base_uri": "https://localhost:8080/"
        },
        "id": "wpaK4ojcnKo_",
        "outputId": "9175282d-41ae-4930-a402-39cafa20a8bc"
      },
      "execution_count": null,
      "outputs": [
        {
          "output_type": "stream",
          "name": "stdout",
          "text": [
            "X:\n",
            " [[2. 2.]\n",
            " [2. 2.]]\n"
          ]
        }
      ]
    },
    {
      "cell_type": "code",
      "source": [
        "# CÓDIGO 6\n",
        "X = np.array([[1, 2], [3, 4]])\n",
        "Y = X[0, :]\n",
        "Y[1] = 10\n",
        "print('X:\\n', X)"
      ],
      "metadata": {
        "colab": {
          "base_uri": "https://localhost:8080/"
        },
        "id": "1_3Wwlr4nKin",
        "outputId": "d2770e21-dc87-4413-8676-d0623c5e32f2"
      },
      "execution_count": null,
      "outputs": [
        {
          "output_type": "stream",
          "name": "stdout",
          "text": [
            "X:\n",
            " [[ 1 10]\n",
            " [ 3  4]]\n"
          ]
        }
      ]
    },
    {
      "cell_type": "code",
      "source": [
        "# CÓDIGO 7\n",
        "X = np.array([[1, 3], [11, 10]])\n",
        "print(np.mean(X[X > np.pi]))"
      ],
      "metadata": {
        "colab": {
          "base_uri": "https://localhost:8080/"
        },
        "id": "2HpMR_l0n-WQ",
        "outputId": "f8cd8d1e-0782-4813-820e-de6ddcd55462"
      },
      "execution_count": null,
      "outputs": [
        {
          "output_type": "stream",
          "name": "stdout",
          "text": [
            "10.5\n"
          ]
        }
      ]
    },
    {
      "cell_type": "code",
      "source": [
        "# CÓDIGO 8\n",
        "data = {'animal': ['cat', 'cat', 'snake', 'dog', 'dog',\n",
        "                   'cat', 'snake', 'cat', 'dog', 'dog'],\n",
        "        'age': [2.5, 3, 0.5, np.nan, 5, 2, 4.5, np.nan, 7 ,3],\n",
        "        'visits': [1, 3, 2, 3, 2, 3, 1, 1, 2, 1],\n",
        "        'priority': ['yes', 'yes', 'no', 'yes', 'no',\n",
        "                     'no', 'no', 'yes', 'no', 'no']}\n",
        "labels = ['a', 'b', 'c', 'd', 'e', 'f', 'g', 'h', 'i', 'j']"
      ],
      "metadata": {
        "id": "2nhwgdGxn-Ts"
      },
      "execution_count": null,
      "outputs": []
    },
    {
      "cell_type": "code",
      "source": [
        "# CÓDIGO 9\n",
        "df = pd.DataFrame(data=data, index=labels)\n",
        "#df\n",
        "#df.shape\n",
        "#df['animal'].value_counts()\n",
        "#df.describe()\n",
        "#df['visits']"
      ],
      "metadata": {
        "id": "PIhJahOLn-Q-"
      },
      "execution_count": null,
      "outputs": []
    },
    {
      "cell_type": "code",
      "source": [
        "# CÓDIGO 10\n",
        "y_true = np.array([1., 2., 1.])\n",
        "y_pred = np.array([1.1, 1.98, 1.05])\n",
        "np.sqrt(((y_true-y_pred)**2).mean())"
      ],
      "metadata": {
        "colab": {
          "base_uri": "https://localhost:8080/"
        },
        "id": "zpXzQerCn-Og",
        "outputId": "b7655bc2-aed2-4059-a436-7d131d13f166"
      },
      "execution_count": null,
      "outputs": [
        {
          "output_type": "execute_result",
          "data": {
            "text/plain": [
              "0.06557438524302006"
            ]
          },
          "metadata": {},
          "execution_count": 79
        }
      ]
    },
    {
      "cell_type": "code",
      "source": [
        "#########"
      ],
      "metadata": {
        "id": "5AnWl-Nngsh4"
      },
      "execution_count": 33,
      "outputs": []
    },
    {
      "cell_type": "code",
      "source": [
        "df = pd.read_csv('https://pycourse.s3.amazonaws.com/bike-sharing.csv')\n",
        "df"
      ],
      "metadata": {
        "id": "5z36ifIMn-MG",
        "colab": {
          "base_uri": "https://localhost:8080/",
          "height": 661
        },
        "outputId": "0fbfec26-c96b-4534-af45-63e614e2fb9e"
      },
      "execution_count": 38,
      "outputs": [
        {
          "output_type": "execute_result",
          "data": {
            "text/plain": [
              "         datetime  rec_id  season  year  month  hour  is_holiday  weekday  \\\n",
              "0      2011-01-01       1       1     0      1     0           0        6   \n",
              "1      2011-01-01       2       1     0      1     1           0        6   \n",
              "2      2011-01-01       3       1     0      1     2           0        6   \n",
              "3      2011-01-01       4       1     0      1     3           0        6   \n",
              "4      2011-01-01       5       1     0      1     4           0        6   \n",
              "...           ...     ...     ...   ...    ...   ...         ...      ...   \n",
              "17374  2012-12-31   17375       1     1     12    19           0        1   \n",
              "17375  2012-12-31   17376       1     1     12    20           0        1   \n",
              "17376  2012-12-31   17377       1     1     12    21           0        1   \n",
              "17377  2012-12-31   17378       1     1     12    22           0        1   \n",
              "17378  2012-12-31   17379       1     1     12    23           0        1   \n",
              "\n",
              "       is_workingday  weather_condition  temp   atemp  humidity  windspeed  \\\n",
              "0                  0                  1  0.24  0.2879      0.81     0.0000   \n",
              "1                  0                  1  0.22  0.2727      0.80     0.0000   \n",
              "2                  0                  1  0.22  0.2727      0.80     0.0000   \n",
              "3                  0                  1  0.24  0.2879      0.75     0.0000   \n",
              "4                  0                  1  0.24  0.2879      0.75     0.0000   \n",
              "...              ...                ...   ...     ...       ...        ...   \n",
              "17374              1                  2  0.26  0.2576      0.60     0.1642   \n",
              "17375              1                  2  0.26  0.2576      0.60     0.1642   \n",
              "17376              1                  1  0.26  0.2576      0.60     0.1642   \n",
              "17377              1                  1  0.26  0.2727      0.56     0.1343   \n",
              "17378              1                  1  0.26  0.2727      0.65     0.1343   \n",
              "\n",
              "       casual  registered  total_count  \n",
              "0           3          13           16  \n",
              "1           8          32           40  \n",
              "2           5          27           32  \n",
              "3           3          10           13  \n",
              "4           0           1            1  \n",
              "...       ...         ...          ...  \n",
              "17374      11         108          119  \n",
              "17375       8          81           89  \n",
              "17376       7          83           90  \n",
              "17377      13          48           61  \n",
              "17378      12          37           49  \n",
              "\n",
              "[17379 rows x 17 columns]"
            ],
            "text/html": [
              "\n",
              "  <div id=\"df-4033a7ae-af15-44dd-91bb-50d0921e64d1\">\n",
              "    <div class=\"colab-df-container\">\n",
              "      <div>\n",
              "<style scoped>\n",
              "    .dataframe tbody tr th:only-of-type {\n",
              "        vertical-align: middle;\n",
              "    }\n",
              "\n",
              "    .dataframe tbody tr th {\n",
              "        vertical-align: top;\n",
              "    }\n",
              "\n",
              "    .dataframe thead th {\n",
              "        text-align: right;\n",
              "    }\n",
              "</style>\n",
              "<table border=\"1\" class=\"dataframe\">\n",
              "  <thead>\n",
              "    <tr style=\"text-align: right;\">\n",
              "      <th></th>\n",
              "      <th>datetime</th>\n",
              "      <th>rec_id</th>\n",
              "      <th>season</th>\n",
              "      <th>year</th>\n",
              "      <th>month</th>\n",
              "      <th>hour</th>\n",
              "      <th>is_holiday</th>\n",
              "      <th>weekday</th>\n",
              "      <th>is_workingday</th>\n",
              "      <th>weather_condition</th>\n",
              "      <th>temp</th>\n",
              "      <th>atemp</th>\n",
              "      <th>humidity</th>\n",
              "      <th>windspeed</th>\n",
              "      <th>casual</th>\n",
              "      <th>registered</th>\n",
              "      <th>total_count</th>\n",
              "    </tr>\n",
              "  </thead>\n",
              "  <tbody>\n",
              "    <tr>\n",
              "      <th>0</th>\n",
              "      <td>2011-01-01</td>\n",
              "      <td>1</td>\n",
              "      <td>1</td>\n",
              "      <td>0</td>\n",
              "      <td>1</td>\n",
              "      <td>0</td>\n",
              "      <td>0</td>\n",
              "      <td>6</td>\n",
              "      <td>0</td>\n",
              "      <td>1</td>\n",
              "      <td>0.24</td>\n",
              "      <td>0.2879</td>\n",
              "      <td>0.81</td>\n",
              "      <td>0.0000</td>\n",
              "      <td>3</td>\n",
              "      <td>13</td>\n",
              "      <td>16</td>\n",
              "    </tr>\n",
              "    <tr>\n",
              "      <th>1</th>\n",
              "      <td>2011-01-01</td>\n",
              "      <td>2</td>\n",
              "      <td>1</td>\n",
              "      <td>0</td>\n",
              "      <td>1</td>\n",
              "      <td>1</td>\n",
              "      <td>0</td>\n",
              "      <td>6</td>\n",
              "      <td>0</td>\n",
              "      <td>1</td>\n",
              "      <td>0.22</td>\n",
              "      <td>0.2727</td>\n",
              "      <td>0.80</td>\n",
              "      <td>0.0000</td>\n",
              "      <td>8</td>\n",
              "      <td>32</td>\n",
              "      <td>40</td>\n",
              "    </tr>\n",
              "    <tr>\n",
              "      <th>2</th>\n",
              "      <td>2011-01-01</td>\n",
              "      <td>3</td>\n",
              "      <td>1</td>\n",
              "      <td>0</td>\n",
              "      <td>1</td>\n",
              "      <td>2</td>\n",
              "      <td>0</td>\n",
              "      <td>6</td>\n",
              "      <td>0</td>\n",
              "      <td>1</td>\n",
              "      <td>0.22</td>\n",
              "      <td>0.2727</td>\n",
              "      <td>0.80</td>\n",
              "      <td>0.0000</td>\n",
              "      <td>5</td>\n",
              "      <td>27</td>\n",
              "      <td>32</td>\n",
              "    </tr>\n",
              "    <tr>\n",
              "      <th>3</th>\n",
              "      <td>2011-01-01</td>\n",
              "      <td>4</td>\n",
              "      <td>1</td>\n",
              "      <td>0</td>\n",
              "      <td>1</td>\n",
              "      <td>3</td>\n",
              "      <td>0</td>\n",
              "      <td>6</td>\n",
              "      <td>0</td>\n",
              "      <td>1</td>\n",
              "      <td>0.24</td>\n",
              "      <td>0.2879</td>\n",
              "      <td>0.75</td>\n",
              "      <td>0.0000</td>\n",
              "      <td>3</td>\n",
              "      <td>10</td>\n",
              "      <td>13</td>\n",
              "    </tr>\n",
              "    <tr>\n",
              "      <th>4</th>\n",
              "      <td>2011-01-01</td>\n",
              "      <td>5</td>\n",
              "      <td>1</td>\n",
              "      <td>0</td>\n",
              "      <td>1</td>\n",
              "      <td>4</td>\n",
              "      <td>0</td>\n",
              "      <td>6</td>\n",
              "      <td>0</td>\n",
              "      <td>1</td>\n",
              "      <td>0.24</td>\n",
              "      <td>0.2879</td>\n",
              "      <td>0.75</td>\n",
              "      <td>0.0000</td>\n",
              "      <td>0</td>\n",
              "      <td>1</td>\n",
              "      <td>1</td>\n",
              "    </tr>\n",
              "    <tr>\n",
              "      <th>...</th>\n",
              "      <td>...</td>\n",
              "      <td>...</td>\n",
              "      <td>...</td>\n",
              "      <td>...</td>\n",
              "      <td>...</td>\n",
              "      <td>...</td>\n",
              "      <td>...</td>\n",
              "      <td>...</td>\n",
              "      <td>...</td>\n",
              "      <td>...</td>\n",
              "      <td>...</td>\n",
              "      <td>...</td>\n",
              "      <td>...</td>\n",
              "      <td>...</td>\n",
              "      <td>...</td>\n",
              "      <td>...</td>\n",
              "      <td>...</td>\n",
              "    </tr>\n",
              "    <tr>\n",
              "      <th>17374</th>\n",
              "      <td>2012-12-31</td>\n",
              "      <td>17375</td>\n",
              "      <td>1</td>\n",
              "      <td>1</td>\n",
              "      <td>12</td>\n",
              "      <td>19</td>\n",
              "      <td>0</td>\n",
              "      <td>1</td>\n",
              "      <td>1</td>\n",
              "      <td>2</td>\n",
              "      <td>0.26</td>\n",
              "      <td>0.2576</td>\n",
              "      <td>0.60</td>\n",
              "      <td>0.1642</td>\n",
              "      <td>11</td>\n",
              "      <td>108</td>\n",
              "      <td>119</td>\n",
              "    </tr>\n",
              "    <tr>\n",
              "      <th>17375</th>\n",
              "      <td>2012-12-31</td>\n",
              "      <td>17376</td>\n",
              "      <td>1</td>\n",
              "      <td>1</td>\n",
              "      <td>12</td>\n",
              "      <td>20</td>\n",
              "      <td>0</td>\n",
              "      <td>1</td>\n",
              "      <td>1</td>\n",
              "      <td>2</td>\n",
              "      <td>0.26</td>\n",
              "      <td>0.2576</td>\n",
              "      <td>0.60</td>\n",
              "      <td>0.1642</td>\n",
              "      <td>8</td>\n",
              "      <td>81</td>\n",
              "      <td>89</td>\n",
              "    </tr>\n",
              "    <tr>\n",
              "      <th>17376</th>\n",
              "      <td>2012-12-31</td>\n",
              "      <td>17377</td>\n",
              "      <td>1</td>\n",
              "      <td>1</td>\n",
              "      <td>12</td>\n",
              "      <td>21</td>\n",
              "      <td>0</td>\n",
              "      <td>1</td>\n",
              "      <td>1</td>\n",
              "      <td>1</td>\n",
              "      <td>0.26</td>\n",
              "      <td>0.2576</td>\n",
              "      <td>0.60</td>\n",
              "      <td>0.1642</td>\n",
              "      <td>7</td>\n",
              "      <td>83</td>\n",
              "      <td>90</td>\n",
              "    </tr>\n",
              "    <tr>\n",
              "      <th>17377</th>\n",
              "      <td>2012-12-31</td>\n",
              "      <td>17378</td>\n",
              "      <td>1</td>\n",
              "      <td>1</td>\n",
              "      <td>12</td>\n",
              "      <td>22</td>\n",
              "      <td>0</td>\n",
              "      <td>1</td>\n",
              "      <td>1</td>\n",
              "      <td>1</td>\n",
              "      <td>0.26</td>\n",
              "      <td>0.2727</td>\n",
              "      <td>0.56</td>\n",
              "      <td>0.1343</td>\n",
              "      <td>13</td>\n",
              "      <td>48</td>\n",
              "      <td>61</td>\n",
              "    </tr>\n",
              "    <tr>\n",
              "      <th>17378</th>\n",
              "      <td>2012-12-31</td>\n",
              "      <td>17379</td>\n",
              "      <td>1</td>\n",
              "      <td>1</td>\n",
              "      <td>12</td>\n",
              "      <td>23</td>\n",
              "      <td>0</td>\n",
              "      <td>1</td>\n",
              "      <td>1</td>\n",
              "      <td>1</td>\n",
              "      <td>0.26</td>\n",
              "      <td>0.2727</td>\n",
              "      <td>0.65</td>\n",
              "      <td>0.1343</td>\n",
              "      <td>12</td>\n",
              "      <td>37</td>\n",
              "      <td>49</td>\n",
              "    </tr>\n",
              "  </tbody>\n",
              "</table>\n",
              "<p>17379 rows × 17 columns</p>\n",
              "</div>\n",
              "      <button class=\"colab-df-convert\" onclick=\"convertToInteractive('df-4033a7ae-af15-44dd-91bb-50d0921e64d1')\"\n",
              "              title=\"Convert this dataframe to an interactive table.\"\n",
              "              style=\"display:none;\">\n",
              "        \n",
              "  <svg xmlns=\"http://www.w3.org/2000/svg\" height=\"24px\"viewBox=\"0 0 24 24\"\n",
              "       width=\"24px\">\n",
              "    <path d=\"M0 0h24v24H0V0z\" fill=\"none\"/>\n",
              "    <path d=\"M18.56 5.44l.94 2.06.94-2.06 2.06-.94-2.06-.94-.94-2.06-.94 2.06-2.06.94zm-11 1L8.5 8.5l.94-2.06 2.06-.94-2.06-.94L8.5 2.5l-.94 2.06-2.06.94zm10 10l.94 2.06.94-2.06 2.06-.94-2.06-.94-.94-2.06-.94 2.06-2.06.94z\"/><path d=\"M17.41 7.96l-1.37-1.37c-.4-.4-.92-.59-1.43-.59-.52 0-1.04.2-1.43.59L10.3 9.45l-7.72 7.72c-.78.78-.78 2.05 0 2.83L4 21.41c.39.39.9.59 1.41.59.51 0 1.02-.2 1.41-.59l7.78-7.78 2.81-2.81c.8-.78.8-2.07 0-2.86zM5.41 20L4 18.59l7.72-7.72 1.47 1.35L5.41 20z\"/>\n",
              "  </svg>\n",
              "      </button>\n",
              "      \n",
              "  <style>\n",
              "    .colab-df-container {\n",
              "      display:flex;\n",
              "      flex-wrap:wrap;\n",
              "      gap: 12px;\n",
              "    }\n",
              "\n",
              "    .colab-df-convert {\n",
              "      background-color: #E8F0FE;\n",
              "      border: none;\n",
              "      border-radius: 50%;\n",
              "      cursor: pointer;\n",
              "      display: none;\n",
              "      fill: #1967D2;\n",
              "      height: 32px;\n",
              "      padding: 0 0 0 0;\n",
              "      width: 32px;\n",
              "    }\n",
              "\n",
              "    .colab-df-convert:hover {\n",
              "      background-color: #E2EBFA;\n",
              "      box-shadow: 0px 1px 2px rgba(60, 64, 67, 0.3), 0px 1px 3px 1px rgba(60, 64, 67, 0.15);\n",
              "      fill: #174EA6;\n",
              "    }\n",
              "\n",
              "    [theme=dark] .colab-df-convert {\n",
              "      background-color: #3B4455;\n",
              "      fill: #D2E3FC;\n",
              "    }\n",
              "\n",
              "    [theme=dark] .colab-df-convert:hover {\n",
              "      background-color: #434B5C;\n",
              "      box-shadow: 0px 1px 3px 1px rgba(0, 0, 0, 0.15);\n",
              "      filter: drop-shadow(0px 1px 2px rgba(0, 0, 0, 0.3));\n",
              "      fill: #FFFFFF;\n",
              "    }\n",
              "  </style>\n",
              "\n",
              "      <script>\n",
              "        const buttonEl =\n",
              "          document.querySelector('#df-4033a7ae-af15-44dd-91bb-50d0921e64d1 button.colab-df-convert');\n",
              "        buttonEl.style.display =\n",
              "          google.colab.kernel.accessAllowed ? 'block' : 'none';\n",
              "\n",
              "        async function convertToInteractive(key) {\n",
              "          const element = document.querySelector('#df-4033a7ae-af15-44dd-91bb-50d0921e64d1');\n",
              "          const dataTable =\n",
              "            await google.colab.kernel.invokeFunction('convertToInteractive',\n",
              "                                                     [key], {});\n",
              "          if (!dataTable) return;\n",
              "\n",
              "          const docLinkHtml = 'Like what you see? Visit the ' +\n",
              "            '<a target=\"_blank\" href=https://colab.research.google.com/notebooks/data_table.ipynb>data table notebook</a>'\n",
              "            + ' to learn more about interactive tables.';\n",
              "          element.innerHTML = '';\n",
              "          dataTable['output_type'] = 'display_data';\n",
              "          await google.colab.output.renderOutput(dataTable, element);\n",
              "          const docLink = document.createElement('div');\n",
              "          docLink.innerHTML = docLinkHtml;\n",
              "          element.appendChild(docLink);\n",
              "        }\n",
              "      </script>\n",
              "    </div>\n",
              "  </div>\n",
              "  "
            ]
          },
          "metadata": {},
          "execution_count": 38
        }
      ]
    },
    {
      "cell_type": "markdown",
      "source": [
        "1. Qual o tamanho desse dataset? = 17379 rows e 17 columns\n",
        "2. Qual a média da coluna windspeed? = 0.19009760630646177\n",
        "3. Qual a média da coluna temp? = 0.4969871684216583\n",
        "4. Quantos registros existem para o ano de 2011? = 8645\n",
        "5. Quantos registros existem para o ano de 2012? = 8734\n",
        "6. Quantas locações de bicicletas foram efetuadas em 2011? = 1243103\n",
        "7. Quantas locações de bicicletas foram efetuadas em 2012? = 2049576\n",
        "8. Qual estação do ano contém a maior média de locações de bicicletas?\n",
        "= 3 - verao\n",
        "9. Qual estação do ano contém a menor média de locações de bicicletas? = 1 - inverno\n",
        "10. Qual horário do dia contém a maior média de locações de bicicletas? = 17\n",
        "11. Qual horário do dia contém a menor média de locações de bicicletas? = 4\n",
        "12. Que dia da semana contém a maior média de locações de bicicletas? = 4 - quinta\n",
        "13. Que dia da semana contém a menor média de locações de bicicletas? = 0 - domingo"
      ],
      "metadata": {
        "id": "iJ3Kh5PRhT0n"
      }
    },
    {
      "cell_type": "code",
      "source": [
        "df['windspeed'].mean()"
      ],
      "metadata": {
        "colab": {
          "base_uri": "https://localhost:8080/"
        },
        "id": "YGtVw0hehGTo",
        "outputId": "4b5e891f-e601-4cff-9d35-c67fc2046d5f"
      },
      "execution_count": 39,
      "outputs": [
        {
          "output_type": "execute_result",
          "data": {
            "text/plain": [
              "0.19009760630646177"
            ]
          },
          "metadata": {},
          "execution_count": 39
        }
      ]
    },
    {
      "cell_type": "code",
      "source": [
        "df['temp'].mean()"
      ],
      "metadata": {
        "colab": {
          "base_uri": "https://localhost:8080/"
        },
        "id": "71T7pQxthdM_",
        "outputId": "ad9fac6e-a15b-442a-e6e3-4f86ba96ab52"
      },
      "execution_count": 40,
      "outputs": [
        {
          "output_type": "execute_result",
          "data": {
            "text/plain": [
              "0.4969871684216583"
            ]
          },
          "metadata": {},
          "execution_count": 40
        }
      ]
    },
    {
      "cell_type": "code",
      "source": [
        "df.groupby(df['year']).count()\n",
        "#df[df['year'] == 0]\n",
        "#df[df['year'] == 1]"
      ],
      "metadata": {
        "colab": {
          "base_uri": "https://localhost:8080/",
          "height": 207
        },
        "id": "tWeirogvhvou",
        "outputId": "5a6373c8-fe75-4409-8ce5-6b53f08ff7d2"
      },
      "execution_count": 60,
      "outputs": [
        {
          "output_type": "execute_result",
          "data": {
            "text/plain": [
              "      datetime  rec_id  season  month  hour  is_holiday  weekday  \\\n",
              "year                                                               \n",
              "0         8645    8645    8645   8645  8645        8645     8645   \n",
              "1         8734    8734    8734   8734  8734        8734     8734   \n",
              "\n",
              "      is_workingday  weather_condition  temp  atemp  humidity  windspeed  \\\n",
              "year                                                                       \n",
              "0              8645               8645  8645   8645      8645       8645   \n",
              "1              8734               8734  8734   8734      8734       8734   \n",
              "\n",
              "      casual  registered  total_count  \n",
              "year                                   \n",
              "0       8645        8645         8645  \n",
              "1       8734        8734         8734  "
            ],
            "text/html": [
              "\n",
              "  <div id=\"df-0b645bfb-ed7b-4ff0-814b-2cdbe452584c\">\n",
              "    <div class=\"colab-df-container\">\n",
              "      <div>\n",
              "<style scoped>\n",
              "    .dataframe tbody tr th:only-of-type {\n",
              "        vertical-align: middle;\n",
              "    }\n",
              "\n",
              "    .dataframe tbody tr th {\n",
              "        vertical-align: top;\n",
              "    }\n",
              "\n",
              "    .dataframe thead th {\n",
              "        text-align: right;\n",
              "    }\n",
              "</style>\n",
              "<table border=\"1\" class=\"dataframe\">\n",
              "  <thead>\n",
              "    <tr style=\"text-align: right;\">\n",
              "      <th></th>\n",
              "      <th>datetime</th>\n",
              "      <th>rec_id</th>\n",
              "      <th>season</th>\n",
              "      <th>month</th>\n",
              "      <th>hour</th>\n",
              "      <th>is_holiday</th>\n",
              "      <th>weekday</th>\n",
              "      <th>is_workingday</th>\n",
              "      <th>weather_condition</th>\n",
              "      <th>temp</th>\n",
              "      <th>atemp</th>\n",
              "      <th>humidity</th>\n",
              "      <th>windspeed</th>\n",
              "      <th>casual</th>\n",
              "      <th>registered</th>\n",
              "      <th>total_count</th>\n",
              "    </tr>\n",
              "    <tr>\n",
              "      <th>year</th>\n",
              "      <th></th>\n",
              "      <th></th>\n",
              "      <th></th>\n",
              "      <th></th>\n",
              "      <th></th>\n",
              "      <th></th>\n",
              "      <th></th>\n",
              "      <th></th>\n",
              "      <th></th>\n",
              "      <th></th>\n",
              "      <th></th>\n",
              "      <th></th>\n",
              "      <th></th>\n",
              "      <th></th>\n",
              "      <th></th>\n",
              "      <th></th>\n",
              "    </tr>\n",
              "  </thead>\n",
              "  <tbody>\n",
              "    <tr>\n",
              "      <th>0</th>\n",
              "      <td>8645</td>\n",
              "      <td>8645</td>\n",
              "      <td>8645</td>\n",
              "      <td>8645</td>\n",
              "      <td>8645</td>\n",
              "      <td>8645</td>\n",
              "      <td>8645</td>\n",
              "      <td>8645</td>\n",
              "      <td>8645</td>\n",
              "      <td>8645</td>\n",
              "      <td>8645</td>\n",
              "      <td>8645</td>\n",
              "      <td>8645</td>\n",
              "      <td>8645</td>\n",
              "      <td>8645</td>\n",
              "      <td>8645</td>\n",
              "    </tr>\n",
              "    <tr>\n",
              "      <th>1</th>\n",
              "      <td>8734</td>\n",
              "      <td>8734</td>\n",
              "      <td>8734</td>\n",
              "      <td>8734</td>\n",
              "      <td>8734</td>\n",
              "      <td>8734</td>\n",
              "      <td>8734</td>\n",
              "      <td>8734</td>\n",
              "      <td>8734</td>\n",
              "      <td>8734</td>\n",
              "      <td>8734</td>\n",
              "      <td>8734</td>\n",
              "      <td>8734</td>\n",
              "      <td>8734</td>\n",
              "      <td>8734</td>\n",
              "      <td>8734</td>\n",
              "    </tr>\n",
              "  </tbody>\n",
              "</table>\n",
              "</div>\n",
              "      <button class=\"colab-df-convert\" onclick=\"convertToInteractive('df-0b645bfb-ed7b-4ff0-814b-2cdbe452584c')\"\n",
              "              title=\"Convert this dataframe to an interactive table.\"\n",
              "              style=\"display:none;\">\n",
              "        \n",
              "  <svg xmlns=\"http://www.w3.org/2000/svg\" height=\"24px\"viewBox=\"0 0 24 24\"\n",
              "       width=\"24px\">\n",
              "    <path d=\"M0 0h24v24H0V0z\" fill=\"none\"/>\n",
              "    <path d=\"M18.56 5.44l.94 2.06.94-2.06 2.06-.94-2.06-.94-.94-2.06-.94 2.06-2.06.94zm-11 1L8.5 8.5l.94-2.06 2.06-.94-2.06-.94L8.5 2.5l-.94 2.06-2.06.94zm10 10l.94 2.06.94-2.06 2.06-.94-2.06-.94-.94-2.06-.94 2.06-2.06.94z\"/><path d=\"M17.41 7.96l-1.37-1.37c-.4-.4-.92-.59-1.43-.59-.52 0-1.04.2-1.43.59L10.3 9.45l-7.72 7.72c-.78.78-.78 2.05 0 2.83L4 21.41c.39.39.9.59 1.41.59.51 0 1.02-.2 1.41-.59l7.78-7.78 2.81-2.81c.8-.78.8-2.07 0-2.86zM5.41 20L4 18.59l7.72-7.72 1.47 1.35L5.41 20z\"/>\n",
              "  </svg>\n",
              "      </button>\n",
              "      \n",
              "  <style>\n",
              "    .colab-df-container {\n",
              "      display:flex;\n",
              "      flex-wrap:wrap;\n",
              "      gap: 12px;\n",
              "    }\n",
              "\n",
              "    .colab-df-convert {\n",
              "      background-color: #E8F0FE;\n",
              "      border: none;\n",
              "      border-radius: 50%;\n",
              "      cursor: pointer;\n",
              "      display: none;\n",
              "      fill: #1967D2;\n",
              "      height: 32px;\n",
              "      padding: 0 0 0 0;\n",
              "      width: 32px;\n",
              "    }\n",
              "\n",
              "    .colab-df-convert:hover {\n",
              "      background-color: #E2EBFA;\n",
              "      box-shadow: 0px 1px 2px rgba(60, 64, 67, 0.3), 0px 1px 3px 1px rgba(60, 64, 67, 0.15);\n",
              "      fill: #174EA6;\n",
              "    }\n",
              "\n",
              "    [theme=dark] .colab-df-convert {\n",
              "      background-color: #3B4455;\n",
              "      fill: #D2E3FC;\n",
              "    }\n",
              "\n",
              "    [theme=dark] .colab-df-convert:hover {\n",
              "      background-color: #434B5C;\n",
              "      box-shadow: 0px 1px 3px 1px rgba(0, 0, 0, 0.15);\n",
              "      filter: drop-shadow(0px 1px 2px rgba(0, 0, 0, 0.3));\n",
              "      fill: #FFFFFF;\n",
              "    }\n",
              "  </style>\n",
              "\n",
              "      <script>\n",
              "        const buttonEl =\n",
              "          document.querySelector('#df-0b645bfb-ed7b-4ff0-814b-2cdbe452584c button.colab-df-convert');\n",
              "        buttonEl.style.display =\n",
              "          google.colab.kernel.accessAllowed ? 'block' : 'none';\n",
              "\n",
              "        async function convertToInteractive(key) {\n",
              "          const element = document.querySelector('#df-0b645bfb-ed7b-4ff0-814b-2cdbe452584c');\n",
              "          const dataTable =\n",
              "            await google.colab.kernel.invokeFunction('convertToInteractive',\n",
              "                                                     [key], {});\n",
              "          if (!dataTable) return;\n",
              "\n",
              "          const docLinkHtml = 'Like what you see? Visit the ' +\n",
              "            '<a target=\"_blank\" href=https://colab.research.google.com/notebooks/data_table.ipynb>data table notebook</a>'\n",
              "            + ' to learn more about interactive tables.';\n",
              "          element.innerHTML = '';\n",
              "          dataTable['output_type'] = 'display_data';\n",
              "          await google.colab.output.renderOutput(dataTable, element);\n",
              "          const docLink = document.createElement('div');\n",
              "          docLink.innerHTML = docLinkHtml;\n",
              "          element.appendChild(docLink);\n",
              "        }\n",
              "      </script>\n",
              "    </div>\n",
              "  </div>\n",
              "  "
            ]
          },
          "metadata": {},
          "execution_count": 60
        }
      ]
    },
    {
      "cell_type": "code",
      "source": [
        "df.groupby(by='season').mean()"
      ],
      "metadata": {
        "colab": {
          "base_uri": "https://localhost:8080/",
          "height": 270
        },
        "id": "4HLfRGI7iOmm",
        "outputId": "ba93bd37-88c3-49ee-a121-2e988fa2fd0a"
      },
      "execution_count": 63,
      "outputs": [
        {
          "output_type": "execute_result",
          "data": {
            "text/plain": [
              "              rec_id      year      month       hour  is_holiday   weekday  \\\n",
              "season                                                                       \n",
              "1        6302.008015  0.512494   3.119755  11.648515    0.038661  3.008722   \n",
              "2        7287.727376  0.500340   4.654117  11.512134    0.021774  2.991608   \n",
              "3        9526.588968  0.501779   7.689724  11.507562    0.021352  3.033141   \n",
              "4       11655.779301  0.495747  10.702505  11.522448    0.034026  2.979915   \n",
              "\n",
              "        is_workingday  weather_condition      temp     atemp  humidity  \\\n",
              "season                                                                   \n",
              "1            0.658652           1.460160  0.299147  0.298116  0.581348   \n",
              "2            0.695396           1.443638  0.544663  0.520547  0.627022   \n",
              "3            0.698621           1.330294  0.706410  0.656004  0.633167   \n",
              "4            0.676749           1.472117  0.423138  0.415738  0.667124   \n",
              "\n",
              "        windspeed     casual  registered  total_count  \n",
              "season                                                 \n",
              "1        0.215107  14.290901   96.823668   111.114569  \n",
              "2        0.203410  46.160581  162.183488   208.344069  \n",
              "3        0.171593  50.287144  185.729093   236.016237  \n",
              "4        0.170819  30.666824  168.202032   198.868856  "
            ],
            "text/html": [
              "\n",
              "  <div id=\"df-e90011eb-3113-465a-8693-f568c2b36521\">\n",
              "    <div class=\"colab-df-container\">\n",
              "      <div>\n",
              "<style scoped>\n",
              "    .dataframe tbody tr th:only-of-type {\n",
              "        vertical-align: middle;\n",
              "    }\n",
              "\n",
              "    .dataframe tbody tr th {\n",
              "        vertical-align: top;\n",
              "    }\n",
              "\n",
              "    .dataframe thead th {\n",
              "        text-align: right;\n",
              "    }\n",
              "</style>\n",
              "<table border=\"1\" class=\"dataframe\">\n",
              "  <thead>\n",
              "    <tr style=\"text-align: right;\">\n",
              "      <th></th>\n",
              "      <th>rec_id</th>\n",
              "      <th>year</th>\n",
              "      <th>month</th>\n",
              "      <th>hour</th>\n",
              "      <th>is_holiday</th>\n",
              "      <th>weekday</th>\n",
              "      <th>is_workingday</th>\n",
              "      <th>weather_condition</th>\n",
              "      <th>temp</th>\n",
              "      <th>atemp</th>\n",
              "      <th>humidity</th>\n",
              "      <th>windspeed</th>\n",
              "      <th>casual</th>\n",
              "      <th>registered</th>\n",
              "      <th>total_count</th>\n",
              "    </tr>\n",
              "    <tr>\n",
              "      <th>season</th>\n",
              "      <th></th>\n",
              "      <th></th>\n",
              "      <th></th>\n",
              "      <th></th>\n",
              "      <th></th>\n",
              "      <th></th>\n",
              "      <th></th>\n",
              "      <th></th>\n",
              "      <th></th>\n",
              "      <th></th>\n",
              "      <th></th>\n",
              "      <th></th>\n",
              "      <th></th>\n",
              "      <th></th>\n",
              "      <th></th>\n",
              "    </tr>\n",
              "  </thead>\n",
              "  <tbody>\n",
              "    <tr>\n",
              "      <th>1</th>\n",
              "      <td>6302.008015</td>\n",
              "      <td>0.512494</td>\n",
              "      <td>3.119755</td>\n",
              "      <td>11.648515</td>\n",
              "      <td>0.038661</td>\n",
              "      <td>3.008722</td>\n",
              "      <td>0.658652</td>\n",
              "      <td>1.460160</td>\n",
              "      <td>0.299147</td>\n",
              "      <td>0.298116</td>\n",
              "      <td>0.581348</td>\n",
              "      <td>0.215107</td>\n",
              "      <td>14.290901</td>\n",
              "      <td>96.823668</td>\n",
              "      <td>111.114569</td>\n",
              "    </tr>\n",
              "    <tr>\n",
              "      <th>2</th>\n",
              "      <td>7287.727376</td>\n",
              "      <td>0.500340</td>\n",
              "      <td>4.654117</td>\n",
              "      <td>11.512134</td>\n",
              "      <td>0.021774</td>\n",
              "      <td>2.991608</td>\n",
              "      <td>0.695396</td>\n",
              "      <td>1.443638</td>\n",
              "      <td>0.544663</td>\n",
              "      <td>0.520547</td>\n",
              "      <td>0.627022</td>\n",
              "      <td>0.203410</td>\n",
              "      <td>46.160581</td>\n",
              "      <td>162.183488</td>\n",
              "      <td>208.344069</td>\n",
              "    </tr>\n",
              "    <tr>\n",
              "      <th>3</th>\n",
              "      <td>9526.588968</td>\n",
              "      <td>0.501779</td>\n",
              "      <td>7.689724</td>\n",
              "      <td>11.507562</td>\n",
              "      <td>0.021352</td>\n",
              "      <td>3.033141</td>\n",
              "      <td>0.698621</td>\n",
              "      <td>1.330294</td>\n",
              "      <td>0.706410</td>\n",
              "      <td>0.656004</td>\n",
              "      <td>0.633167</td>\n",
              "      <td>0.171593</td>\n",
              "      <td>50.287144</td>\n",
              "      <td>185.729093</td>\n",
              "      <td>236.016237</td>\n",
              "    </tr>\n",
              "    <tr>\n",
              "      <th>4</th>\n",
              "      <td>11655.779301</td>\n",
              "      <td>0.495747</td>\n",
              "      <td>10.702505</td>\n",
              "      <td>11.522448</td>\n",
              "      <td>0.034026</td>\n",
              "      <td>2.979915</td>\n",
              "      <td>0.676749</td>\n",
              "      <td>1.472117</td>\n",
              "      <td>0.423138</td>\n",
              "      <td>0.415738</td>\n",
              "      <td>0.667124</td>\n",
              "      <td>0.170819</td>\n",
              "      <td>30.666824</td>\n",
              "      <td>168.202032</td>\n",
              "      <td>198.868856</td>\n",
              "    </tr>\n",
              "  </tbody>\n",
              "</table>\n",
              "</div>\n",
              "      <button class=\"colab-df-convert\" onclick=\"convertToInteractive('df-e90011eb-3113-465a-8693-f568c2b36521')\"\n",
              "              title=\"Convert this dataframe to an interactive table.\"\n",
              "              style=\"display:none;\">\n",
              "        \n",
              "  <svg xmlns=\"http://www.w3.org/2000/svg\" height=\"24px\"viewBox=\"0 0 24 24\"\n",
              "       width=\"24px\">\n",
              "    <path d=\"M0 0h24v24H0V0z\" fill=\"none\"/>\n",
              "    <path d=\"M18.56 5.44l.94 2.06.94-2.06 2.06-.94-2.06-.94-.94-2.06-.94 2.06-2.06.94zm-11 1L8.5 8.5l.94-2.06 2.06-.94-2.06-.94L8.5 2.5l-.94 2.06-2.06.94zm10 10l.94 2.06.94-2.06 2.06-.94-2.06-.94-.94-2.06-.94 2.06-2.06.94z\"/><path d=\"M17.41 7.96l-1.37-1.37c-.4-.4-.92-.59-1.43-.59-.52 0-1.04.2-1.43.59L10.3 9.45l-7.72 7.72c-.78.78-.78 2.05 0 2.83L4 21.41c.39.39.9.59 1.41.59.51 0 1.02-.2 1.41-.59l7.78-7.78 2.81-2.81c.8-.78.8-2.07 0-2.86zM5.41 20L4 18.59l7.72-7.72 1.47 1.35L5.41 20z\"/>\n",
              "  </svg>\n",
              "      </button>\n",
              "      \n",
              "  <style>\n",
              "    .colab-df-container {\n",
              "      display:flex;\n",
              "      flex-wrap:wrap;\n",
              "      gap: 12px;\n",
              "    }\n",
              "\n",
              "    .colab-df-convert {\n",
              "      background-color: #E8F0FE;\n",
              "      border: none;\n",
              "      border-radius: 50%;\n",
              "      cursor: pointer;\n",
              "      display: none;\n",
              "      fill: #1967D2;\n",
              "      height: 32px;\n",
              "      padding: 0 0 0 0;\n",
              "      width: 32px;\n",
              "    }\n",
              "\n",
              "    .colab-df-convert:hover {\n",
              "      background-color: #E2EBFA;\n",
              "      box-shadow: 0px 1px 2px rgba(60, 64, 67, 0.3), 0px 1px 3px 1px rgba(60, 64, 67, 0.15);\n",
              "      fill: #174EA6;\n",
              "    }\n",
              "\n",
              "    [theme=dark] .colab-df-convert {\n",
              "      background-color: #3B4455;\n",
              "      fill: #D2E3FC;\n",
              "    }\n",
              "\n",
              "    [theme=dark] .colab-df-convert:hover {\n",
              "      background-color: #434B5C;\n",
              "      box-shadow: 0px 1px 3px 1px rgba(0, 0, 0, 0.15);\n",
              "      filter: drop-shadow(0px 1px 2px rgba(0, 0, 0, 0.3));\n",
              "      fill: #FFFFFF;\n",
              "    }\n",
              "  </style>\n",
              "\n",
              "      <script>\n",
              "        const buttonEl =\n",
              "          document.querySelector('#df-e90011eb-3113-465a-8693-f568c2b36521 button.colab-df-convert');\n",
              "        buttonEl.style.display =\n",
              "          google.colab.kernel.accessAllowed ? 'block' : 'none';\n",
              "\n",
              "        async function convertToInteractive(key) {\n",
              "          const element = document.querySelector('#df-e90011eb-3113-465a-8693-f568c2b36521');\n",
              "          const dataTable =\n",
              "            await google.colab.kernel.invokeFunction('convertToInteractive',\n",
              "                                                     [key], {});\n",
              "          if (!dataTable) return;\n",
              "\n",
              "          const docLinkHtml = 'Like what you see? Visit the ' +\n",
              "            '<a target=\"_blank\" href=https://colab.research.google.com/notebooks/data_table.ipynb>data table notebook</a>'\n",
              "            + ' to learn more about interactive tables.';\n",
              "          element.innerHTML = '';\n",
              "          dataTable['output_type'] = 'display_data';\n",
              "          await google.colab.output.renderOutput(dataTable, element);\n",
              "          const docLink = document.createElement('div');\n",
              "          docLink.innerHTML = docLinkHtml;\n",
              "          element.appendChild(docLink);\n",
              "        }\n",
              "      </script>\n",
              "    </div>\n",
              "  </div>\n",
              "  "
            ]
          },
          "metadata": {},
          "execution_count": 63
        }
      ]
    },
    {
      "cell_type": "code",
      "source": [
        "df.groupby(by='hour').mean()"
      ],
      "metadata": {
        "colab": {
          "base_uri": "https://localhost:8080/",
          "height": 897
        },
        "id": "VJ7G44BGjkkF",
        "outputId": "5070d037-c0b4-4649-f894-c273ddcc3c8f"
      },
      "execution_count": 66,
      "outputs": [
        {
          "output_type": "execute_result",
          "data": {
            "text/plain": [
              "           rec_id    season      year     month  is_holiday   weekday  \\\n",
              "hour                                                                    \n",
              "0     8677.683196  2.500000  0.502755  6.534435    0.028926  3.004132   \n",
              "1     8672.640884  2.497238  0.502762  6.526243    0.029006  3.008287   \n",
              "2     8746.538462  2.511888  0.507692  6.567832    0.029371  3.027972   \n",
              "3     8819.661406  2.539455  0.509326  6.645624    0.025825  3.027260   \n",
              "4     8892.555237  2.552367  0.516499  6.664275    0.028694  3.011478   \n",
              "5     8758.301255  2.513250  0.507671  6.581590    0.029289  3.023710   \n",
              "6     8674.376552  2.497931  0.502069  6.531034    0.028966  3.009655   \n",
              "7     8660.155433  2.496561  0.500688  6.525447    0.028886  3.001376   \n",
              "8     8661.155433  2.496561  0.500688  6.525447    0.028886  3.001376   \n",
              "9     8662.155433  2.496561  0.500688  6.525447    0.028886  3.001376   \n",
              "10    8663.155433  2.496561  0.500688  6.525447    0.028886  3.001376   \n",
              "11    8664.155433  2.496561  0.500688  6.525447    0.028886  3.001376   \n",
              "12    8653.798077  2.494505  0.500000  6.517857    0.028846  3.000000   \n",
              "13    8664.716049  2.496571  0.500686  6.522634    0.028807  2.998628   \n",
              "14    8665.716049  2.496571  0.500686  6.522634    0.028807  2.998628   \n",
              "15    8666.716049  2.496571  0.500686  6.522634    0.028807  2.998628   \n",
              "16    8656.647945  2.494521  0.500000  6.515068    0.028767  3.000000   \n",
              "17    8657.647945  2.494521  0.500000  6.515068    0.028767  3.000000   \n",
              "18    8673.884615  2.495879  0.501374  6.520604    0.028846  2.995879   \n",
              "19    8674.884615  2.495879  0.501374  6.520604    0.028846  2.995879   \n",
              "20    8675.884615  2.495879  0.501374  6.520604    0.028846  2.995879   \n",
              "21    8676.884615  2.495879  0.501374  6.520604    0.028846  2.995879   \n",
              "22    8677.884615  2.495879  0.501374  6.520604    0.028846  2.995879   \n",
              "23    8678.884615  2.495879  0.501374  6.520604    0.028846  2.995879   \n",
              "\n",
              "      is_workingday  weather_condition      temp     atemp  humidity  \\\n",
              "hour                                                                   \n",
              "0          0.683196           1.398072  0.467410  0.451105  0.691019   \n",
              "1          0.682320           1.400552  0.459365  0.443289  0.704213   \n",
              "2          0.681119           1.409790  0.454573  0.439184  0.716825   \n",
              "3          0.674319           1.424677  0.453113  0.438396  0.729785   \n",
              "4          0.674319           1.426112  0.446628  0.432549  0.742367   \n",
              "5          0.690377           1.422594  0.436123  0.423145  0.742929   \n",
              "6          0.684138           1.451034  0.432469  0.419376  0.744179   \n",
              "7          0.682256           1.486933  0.439092  0.425557  0.730908   \n",
              "8          0.682256           1.474553  0.454993  0.440272  0.702682   \n",
              "9          0.682256           1.484182  0.476726  0.458715  0.661692   \n",
              "10         0.682256           1.462173  0.500578  0.478139  0.616066   \n",
              "11         0.682256           1.449794  0.522613  0.497477  0.571431   \n",
              "12         0.682692           1.467033  0.540275  0.512903  0.536703   \n",
              "13         0.683128           1.444444  0.554733  0.525499  0.511591   \n",
              "14         0.683128           1.433471  0.565075  0.534188  0.496982   \n",
              "15         0.683128           1.425240  0.568615  0.536598  0.492126   \n",
              "16         0.683562           1.398630  0.564959  0.532460  0.495795   \n",
              "17         0.683562           1.409589  0.554575  0.523224  0.513438   \n",
              "18         0.684066           1.410714  0.541181  0.512736  0.535989   \n",
              "19         0.684066           1.381868  0.524176  0.499459  0.572445   \n",
              "20         0.684066           1.379121  0.508599  0.487221  0.601470   \n",
              "21         0.684066           1.373626  0.495302  0.476503  0.631538   \n",
              "22         0.684066           1.376374  0.484505  0.466535  0.653146   \n",
              "23         0.684066           1.416209  0.475027  0.458086  0.673269   \n",
              "\n",
              "      windspeed     casual  registered  total_count  \n",
              "hour                                                 \n",
              "0      0.161758  10.158402   43.739669    53.898072  \n",
              "1      0.158659   6.504144   26.871547    33.375691  \n",
              "2      0.154519   4.772028   18.097902    22.869930  \n",
              "3      0.150929   2.715925    9.011478    11.727403  \n",
              "4      0.155813   1.253945    5.098996     6.352941  \n",
              "5      0.150342   1.411437   18.478382    19.889819  \n",
              "6      0.157722   4.161379   71.882759    76.044138  \n",
              "7      0.163916  11.055021  201.009629   212.064649  \n",
              "8      0.176563  21.679505  337.331499   359.011004  \n",
              "9      0.191262  30.891334  188.418157   219.309491  \n",
              "10     0.202041  46.477304  127.191197   173.668501  \n",
              "11     0.207339  59.540578  148.602476   208.143054  \n",
              "12     0.216013  68.293956  185.021978   253.315934  \n",
              "13     0.221633  72.308642  181.352538   253.661180  \n",
              "14     0.232462  75.567901  165.381344   240.949246  \n",
              "15     0.235143  74.905350  176.327846   251.233196  \n",
              "16     0.237317  73.745205  238.238356   311.983562  \n",
              "17     0.233371  74.273973  387.178082   461.452055  \n",
              "18     0.224684  61.120879  364.390110   425.510989  \n",
              "19     0.210148  48.770604  262.752747   311.523352  \n",
              "20     0.195222  36.233516  189.796703   226.030220  \n",
              "21     0.180871  28.255495  144.059066   172.314560  \n",
              "22     0.174640  22.252747  109.082418   131.335165  \n",
              "23     0.164802  15.199176   72.631868    87.831044  "
            ],
            "text/html": [
              "\n",
              "  <div id=\"df-031ee50b-b4cf-4d49-ad53-092b9ff64ea7\">\n",
              "    <div class=\"colab-df-container\">\n",
              "      <div>\n",
              "<style scoped>\n",
              "    .dataframe tbody tr th:only-of-type {\n",
              "        vertical-align: middle;\n",
              "    }\n",
              "\n",
              "    .dataframe tbody tr th {\n",
              "        vertical-align: top;\n",
              "    }\n",
              "\n",
              "    .dataframe thead th {\n",
              "        text-align: right;\n",
              "    }\n",
              "</style>\n",
              "<table border=\"1\" class=\"dataframe\">\n",
              "  <thead>\n",
              "    <tr style=\"text-align: right;\">\n",
              "      <th></th>\n",
              "      <th>rec_id</th>\n",
              "      <th>season</th>\n",
              "      <th>year</th>\n",
              "      <th>month</th>\n",
              "      <th>is_holiday</th>\n",
              "      <th>weekday</th>\n",
              "      <th>is_workingday</th>\n",
              "      <th>weather_condition</th>\n",
              "      <th>temp</th>\n",
              "      <th>atemp</th>\n",
              "      <th>humidity</th>\n",
              "      <th>windspeed</th>\n",
              "      <th>casual</th>\n",
              "      <th>registered</th>\n",
              "      <th>total_count</th>\n",
              "    </tr>\n",
              "    <tr>\n",
              "      <th>hour</th>\n",
              "      <th></th>\n",
              "      <th></th>\n",
              "      <th></th>\n",
              "      <th></th>\n",
              "      <th></th>\n",
              "      <th></th>\n",
              "      <th></th>\n",
              "      <th></th>\n",
              "      <th></th>\n",
              "      <th></th>\n",
              "      <th></th>\n",
              "      <th></th>\n",
              "      <th></th>\n",
              "      <th></th>\n",
              "      <th></th>\n",
              "    </tr>\n",
              "  </thead>\n",
              "  <tbody>\n",
              "    <tr>\n",
              "      <th>0</th>\n",
              "      <td>8677.683196</td>\n",
              "      <td>2.500000</td>\n",
              "      <td>0.502755</td>\n",
              "      <td>6.534435</td>\n",
              "      <td>0.028926</td>\n",
              "      <td>3.004132</td>\n",
              "      <td>0.683196</td>\n",
              "      <td>1.398072</td>\n",
              "      <td>0.467410</td>\n",
              "      <td>0.451105</td>\n",
              "      <td>0.691019</td>\n",
              "      <td>0.161758</td>\n",
              "      <td>10.158402</td>\n",
              "      <td>43.739669</td>\n",
              "      <td>53.898072</td>\n",
              "    </tr>\n",
              "    <tr>\n",
              "      <th>1</th>\n",
              "      <td>8672.640884</td>\n",
              "      <td>2.497238</td>\n",
              "      <td>0.502762</td>\n",
              "      <td>6.526243</td>\n",
              "      <td>0.029006</td>\n",
              "      <td>3.008287</td>\n",
              "      <td>0.682320</td>\n",
              "      <td>1.400552</td>\n",
              "      <td>0.459365</td>\n",
              "      <td>0.443289</td>\n",
              "      <td>0.704213</td>\n",
              "      <td>0.158659</td>\n",
              "      <td>6.504144</td>\n",
              "      <td>26.871547</td>\n",
              "      <td>33.375691</td>\n",
              "    </tr>\n",
              "    <tr>\n",
              "      <th>2</th>\n",
              "      <td>8746.538462</td>\n",
              "      <td>2.511888</td>\n",
              "      <td>0.507692</td>\n",
              "      <td>6.567832</td>\n",
              "      <td>0.029371</td>\n",
              "      <td>3.027972</td>\n",
              "      <td>0.681119</td>\n",
              "      <td>1.409790</td>\n",
              "      <td>0.454573</td>\n",
              "      <td>0.439184</td>\n",
              "      <td>0.716825</td>\n",
              "      <td>0.154519</td>\n",
              "      <td>4.772028</td>\n",
              "      <td>18.097902</td>\n",
              "      <td>22.869930</td>\n",
              "    </tr>\n",
              "    <tr>\n",
              "      <th>3</th>\n",
              "      <td>8819.661406</td>\n",
              "      <td>2.539455</td>\n",
              "      <td>0.509326</td>\n",
              "      <td>6.645624</td>\n",
              "      <td>0.025825</td>\n",
              "      <td>3.027260</td>\n",
              "      <td>0.674319</td>\n",
              "      <td>1.424677</td>\n",
              "      <td>0.453113</td>\n",
              "      <td>0.438396</td>\n",
              "      <td>0.729785</td>\n",
              "      <td>0.150929</td>\n",
              "      <td>2.715925</td>\n",
              "      <td>9.011478</td>\n",
              "      <td>11.727403</td>\n",
              "    </tr>\n",
              "    <tr>\n",
              "      <th>4</th>\n",
              "      <td>8892.555237</td>\n",
              "      <td>2.552367</td>\n",
              "      <td>0.516499</td>\n",
              "      <td>6.664275</td>\n",
              "      <td>0.028694</td>\n",
              "      <td>3.011478</td>\n",
              "      <td>0.674319</td>\n",
              "      <td>1.426112</td>\n",
              "      <td>0.446628</td>\n",
              "      <td>0.432549</td>\n",
              "      <td>0.742367</td>\n",
              "      <td>0.155813</td>\n",
              "      <td>1.253945</td>\n",
              "      <td>5.098996</td>\n",
              "      <td>6.352941</td>\n",
              "    </tr>\n",
              "    <tr>\n",
              "      <th>5</th>\n",
              "      <td>8758.301255</td>\n",
              "      <td>2.513250</td>\n",
              "      <td>0.507671</td>\n",
              "      <td>6.581590</td>\n",
              "      <td>0.029289</td>\n",
              "      <td>3.023710</td>\n",
              "      <td>0.690377</td>\n",
              "      <td>1.422594</td>\n",
              "      <td>0.436123</td>\n",
              "      <td>0.423145</td>\n",
              "      <td>0.742929</td>\n",
              "      <td>0.150342</td>\n",
              "      <td>1.411437</td>\n",
              "      <td>18.478382</td>\n",
              "      <td>19.889819</td>\n",
              "    </tr>\n",
              "    <tr>\n",
              "      <th>6</th>\n",
              "      <td>8674.376552</td>\n",
              "      <td>2.497931</td>\n",
              "      <td>0.502069</td>\n",
              "      <td>6.531034</td>\n",
              "      <td>0.028966</td>\n",
              "      <td>3.009655</td>\n",
              "      <td>0.684138</td>\n",
              "      <td>1.451034</td>\n",
              "      <td>0.432469</td>\n",
              "      <td>0.419376</td>\n",
              "      <td>0.744179</td>\n",
              "      <td>0.157722</td>\n",
              "      <td>4.161379</td>\n",
              "      <td>71.882759</td>\n",
              "      <td>76.044138</td>\n",
              "    </tr>\n",
              "    <tr>\n",
              "      <th>7</th>\n",
              "      <td>8660.155433</td>\n",
              "      <td>2.496561</td>\n",
              "      <td>0.500688</td>\n",
              "      <td>6.525447</td>\n",
              "      <td>0.028886</td>\n",
              "      <td>3.001376</td>\n",
              "      <td>0.682256</td>\n",
              "      <td>1.486933</td>\n",
              "      <td>0.439092</td>\n",
              "      <td>0.425557</td>\n",
              "      <td>0.730908</td>\n",
              "      <td>0.163916</td>\n",
              "      <td>11.055021</td>\n",
              "      <td>201.009629</td>\n",
              "      <td>212.064649</td>\n",
              "    </tr>\n",
              "    <tr>\n",
              "      <th>8</th>\n",
              "      <td>8661.155433</td>\n",
              "      <td>2.496561</td>\n",
              "      <td>0.500688</td>\n",
              "      <td>6.525447</td>\n",
              "      <td>0.028886</td>\n",
              "      <td>3.001376</td>\n",
              "      <td>0.682256</td>\n",
              "      <td>1.474553</td>\n",
              "      <td>0.454993</td>\n",
              "      <td>0.440272</td>\n",
              "      <td>0.702682</td>\n",
              "      <td>0.176563</td>\n",
              "      <td>21.679505</td>\n",
              "      <td>337.331499</td>\n",
              "      <td>359.011004</td>\n",
              "    </tr>\n",
              "    <tr>\n",
              "      <th>9</th>\n",
              "      <td>8662.155433</td>\n",
              "      <td>2.496561</td>\n",
              "      <td>0.500688</td>\n",
              "      <td>6.525447</td>\n",
              "      <td>0.028886</td>\n",
              "      <td>3.001376</td>\n",
              "      <td>0.682256</td>\n",
              "      <td>1.484182</td>\n",
              "      <td>0.476726</td>\n",
              "      <td>0.458715</td>\n",
              "      <td>0.661692</td>\n",
              "      <td>0.191262</td>\n",
              "      <td>30.891334</td>\n",
              "      <td>188.418157</td>\n",
              "      <td>219.309491</td>\n",
              "    </tr>\n",
              "    <tr>\n",
              "      <th>10</th>\n",
              "      <td>8663.155433</td>\n",
              "      <td>2.496561</td>\n",
              "      <td>0.500688</td>\n",
              "      <td>6.525447</td>\n",
              "      <td>0.028886</td>\n",
              "      <td>3.001376</td>\n",
              "      <td>0.682256</td>\n",
              "      <td>1.462173</td>\n",
              "      <td>0.500578</td>\n",
              "      <td>0.478139</td>\n",
              "      <td>0.616066</td>\n",
              "      <td>0.202041</td>\n",
              "      <td>46.477304</td>\n",
              "      <td>127.191197</td>\n",
              "      <td>173.668501</td>\n",
              "    </tr>\n",
              "    <tr>\n",
              "      <th>11</th>\n",
              "      <td>8664.155433</td>\n",
              "      <td>2.496561</td>\n",
              "      <td>0.500688</td>\n",
              "      <td>6.525447</td>\n",
              "      <td>0.028886</td>\n",
              "      <td>3.001376</td>\n",
              "      <td>0.682256</td>\n",
              "      <td>1.449794</td>\n",
              "      <td>0.522613</td>\n",
              "      <td>0.497477</td>\n",
              "      <td>0.571431</td>\n",
              "      <td>0.207339</td>\n",
              "      <td>59.540578</td>\n",
              "      <td>148.602476</td>\n",
              "      <td>208.143054</td>\n",
              "    </tr>\n",
              "    <tr>\n",
              "      <th>12</th>\n",
              "      <td>8653.798077</td>\n",
              "      <td>2.494505</td>\n",
              "      <td>0.500000</td>\n",
              "      <td>6.517857</td>\n",
              "      <td>0.028846</td>\n",
              "      <td>3.000000</td>\n",
              "      <td>0.682692</td>\n",
              "      <td>1.467033</td>\n",
              "      <td>0.540275</td>\n",
              "      <td>0.512903</td>\n",
              "      <td>0.536703</td>\n",
              "      <td>0.216013</td>\n",
              "      <td>68.293956</td>\n",
              "      <td>185.021978</td>\n",
              "      <td>253.315934</td>\n",
              "    </tr>\n",
              "    <tr>\n",
              "      <th>13</th>\n",
              "      <td>8664.716049</td>\n",
              "      <td>2.496571</td>\n",
              "      <td>0.500686</td>\n",
              "      <td>6.522634</td>\n",
              "      <td>0.028807</td>\n",
              "      <td>2.998628</td>\n",
              "      <td>0.683128</td>\n",
              "      <td>1.444444</td>\n",
              "      <td>0.554733</td>\n",
              "      <td>0.525499</td>\n",
              "      <td>0.511591</td>\n",
              "      <td>0.221633</td>\n",
              "      <td>72.308642</td>\n",
              "      <td>181.352538</td>\n",
              "      <td>253.661180</td>\n",
              "    </tr>\n",
              "    <tr>\n",
              "      <th>14</th>\n",
              "      <td>8665.716049</td>\n",
              "      <td>2.496571</td>\n",
              "      <td>0.500686</td>\n",
              "      <td>6.522634</td>\n",
              "      <td>0.028807</td>\n",
              "      <td>2.998628</td>\n",
              "      <td>0.683128</td>\n",
              "      <td>1.433471</td>\n",
              "      <td>0.565075</td>\n",
              "      <td>0.534188</td>\n",
              "      <td>0.496982</td>\n",
              "      <td>0.232462</td>\n",
              "      <td>75.567901</td>\n",
              "      <td>165.381344</td>\n",
              "      <td>240.949246</td>\n",
              "    </tr>\n",
              "    <tr>\n",
              "      <th>15</th>\n",
              "      <td>8666.716049</td>\n",
              "      <td>2.496571</td>\n",
              "      <td>0.500686</td>\n",
              "      <td>6.522634</td>\n",
              "      <td>0.028807</td>\n",
              "      <td>2.998628</td>\n",
              "      <td>0.683128</td>\n",
              "      <td>1.425240</td>\n",
              "      <td>0.568615</td>\n",
              "      <td>0.536598</td>\n",
              "      <td>0.492126</td>\n",
              "      <td>0.235143</td>\n",
              "      <td>74.905350</td>\n",
              "      <td>176.327846</td>\n",
              "      <td>251.233196</td>\n",
              "    </tr>\n",
              "    <tr>\n",
              "      <th>16</th>\n",
              "      <td>8656.647945</td>\n",
              "      <td>2.494521</td>\n",
              "      <td>0.500000</td>\n",
              "      <td>6.515068</td>\n",
              "      <td>0.028767</td>\n",
              "      <td>3.000000</td>\n",
              "      <td>0.683562</td>\n",
              "      <td>1.398630</td>\n",
              "      <td>0.564959</td>\n",
              "      <td>0.532460</td>\n",
              "      <td>0.495795</td>\n",
              "      <td>0.237317</td>\n",
              "      <td>73.745205</td>\n",
              "      <td>238.238356</td>\n",
              "      <td>311.983562</td>\n",
              "    </tr>\n",
              "    <tr>\n",
              "      <th>17</th>\n",
              "      <td>8657.647945</td>\n",
              "      <td>2.494521</td>\n",
              "      <td>0.500000</td>\n",
              "      <td>6.515068</td>\n",
              "      <td>0.028767</td>\n",
              "      <td>3.000000</td>\n",
              "      <td>0.683562</td>\n",
              "      <td>1.409589</td>\n",
              "      <td>0.554575</td>\n",
              "      <td>0.523224</td>\n",
              "      <td>0.513438</td>\n",
              "      <td>0.233371</td>\n",
              "      <td>74.273973</td>\n",
              "      <td>387.178082</td>\n",
              "      <td>461.452055</td>\n",
              "    </tr>\n",
              "    <tr>\n",
              "      <th>18</th>\n",
              "      <td>8673.884615</td>\n",
              "      <td>2.495879</td>\n",
              "      <td>0.501374</td>\n",
              "      <td>6.520604</td>\n",
              "      <td>0.028846</td>\n",
              "      <td>2.995879</td>\n",
              "      <td>0.684066</td>\n",
              "      <td>1.410714</td>\n",
              "      <td>0.541181</td>\n",
              "      <td>0.512736</td>\n",
              "      <td>0.535989</td>\n",
              "      <td>0.224684</td>\n",
              "      <td>61.120879</td>\n",
              "      <td>364.390110</td>\n",
              "      <td>425.510989</td>\n",
              "    </tr>\n",
              "    <tr>\n",
              "      <th>19</th>\n",
              "      <td>8674.884615</td>\n",
              "      <td>2.495879</td>\n",
              "      <td>0.501374</td>\n",
              "      <td>6.520604</td>\n",
              "      <td>0.028846</td>\n",
              "      <td>2.995879</td>\n",
              "      <td>0.684066</td>\n",
              "      <td>1.381868</td>\n",
              "      <td>0.524176</td>\n",
              "      <td>0.499459</td>\n",
              "      <td>0.572445</td>\n",
              "      <td>0.210148</td>\n",
              "      <td>48.770604</td>\n",
              "      <td>262.752747</td>\n",
              "      <td>311.523352</td>\n",
              "    </tr>\n",
              "    <tr>\n",
              "      <th>20</th>\n",
              "      <td>8675.884615</td>\n",
              "      <td>2.495879</td>\n",
              "      <td>0.501374</td>\n",
              "      <td>6.520604</td>\n",
              "      <td>0.028846</td>\n",
              "      <td>2.995879</td>\n",
              "      <td>0.684066</td>\n",
              "      <td>1.379121</td>\n",
              "      <td>0.508599</td>\n",
              "      <td>0.487221</td>\n",
              "      <td>0.601470</td>\n",
              "      <td>0.195222</td>\n",
              "      <td>36.233516</td>\n",
              "      <td>189.796703</td>\n",
              "      <td>226.030220</td>\n",
              "    </tr>\n",
              "    <tr>\n",
              "      <th>21</th>\n",
              "      <td>8676.884615</td>\n",
              "      <td>2.495879</td>\n",
              "      <td>0.501374</td>\n",
              "      <td>6.520604</td>\n",
              "      <td>0.028846</td>\n",
              "      <td>2.995879</td>\n",
              "      <td>0.684066</td>\n",
              "      <td>1.373626</td>\n",
              "      <td>0.495302</td>\n",
              "      <td>0.476503</td>\n",
              "      <td>0.631538</td>\n",
              "      <td>0.180871</td>\n",
              "      <td>28.255495</td>\n",
              "      <td>144.059066</td>\n",
              "      <td>172.314560</td>\n",
              "    </tr>\n",
              "    <tr>\n",
              "      <th>22</th>\n",
              "      <td>8677.884615</td>\n",
              "      <td>2.495879</td>\n",
              "      <td>0.501374</td>\n",
              "      <td>6.520604</td>\n",
              "      <td>0.028846</td>\n",
              "      <td>2.995879</td>\n",
              "      <td>0.684066</td>\n",
              "      <td>1.376374</td>\n",
              "      <td>0.484505</td>\n",
              "      <td>0.466535</td>\n",
              "      <td>0.653146</td>\n",
              "      <td>0.174640</td>\n",
              "      <td>22.252747</td>\n",
              "      <td>109.082418</td>\n",
              "      <td>131.335165</td>\n",
              "    </tr>\n",
              "    <tr>\n",
              "      <th>23</th>\n",
              "      <td>8678.884615</td>\n",
              "      <td>2.495879</td>\n",
              "      <td>0.501374</td>\n",
              "      <td>6.520604</td>\n",
              "      <td>0.028846</td>\n",
              "      <td>2.995879</td>\n",
              "      <td>0.684066</td>\n",
              "      <td>1.416209</td>\n",
              "      <td>0.475027</td>\n",
              "      <td>0.458086</td>\n",
              "      <td>0.673269</td>\n",
              "      <td>0.164802</td>\n",
              "      <td>15.199176</td>\n",
              "      <td>72.631868</td>\n",
              "      <td>87.831044</td>\n",
              "    </tr>\n",
              "  </tbody>\n",
              "</table>\n",
              "</div>\n",
              "      <button class=\"colab-df-convert\" onclick=\"convertToInteractive('df-031ee50b-b4cf-4d49-ad53-092b9ff64ea7')\"\n",
              "              title=\"Convert this dataframe to an interactive table.\"\n",
              "              style=\"display:none;\">\n",
              "        \n",
              "  <svg xmlns=\"http://www.w3.org/2000/svg\" height=\"24px\"viewBox=\"0 0 24 24\"\n",
              "       width=\"24px\">\n",
              "    <path d=\"M0 0h24v24H0V0z\" fill=\"none\"/>\n",
              "    <path d=\"M18.56 5.44l.94 2.06.94-2.06 2.06-.94-2.06-.94-.94-2.06-.94 2.06-2.06.94zm-11 1L8.5 8.5l.94-2.06 2.06-.94-2.06-.94L8.5 2.5l-.94 2.06-2.06.94zm10 10l.94 2.06.94-2.06 2.06-.94-2.06-.94-.94-2.06-.94 2.06-2.06.94z\"/><path d=\"M17.41 7.96l-1.37-1.37c-.4-.4-.92-.59-1.43-.59-.52 0-1.04.2-1.43.59L10.3 9.45l-7.72 7.72c-.78.78-.78 2.05 0 2.83L4 21.41c.39.39.9.59 1.41.59.51 0 1.02-.2 1.41-.59l7.78-7.78 2.81-2.81c.8-.78.8-2.07 0-2.86zM5.41 20L4 18.59l7.72-7.72 1.47 1.35L5.41 20z\"/>\n",
              "  </svg>\n",
              "      </button>\n",
              "      \n",
              "  <style>\n",
              "    .colab-df-container {\n",
              "      display:flex;\n",
              "      flex-wrap:wrap;\n",
              "      gap: 12px;\n",
              "    }\n",
              "\n",
              "    .colab-df-convert {\n",
              "      background-color: #E8F0FE;\n",
              "      border: none;\n",
              "      border-radius: 50%;\n",
              "      cursor: pointer;\n",
              "      display: none;\n",
              "      fill: #1967D2;\n",
              "      height: 32px;\n",
              "      padding: 0 0 0 0;\n",
              "      width: 32px;\n",
              "    }\n",
              "\n",
              "    .colab-df-convert:hover {\n",
              "      background-color: #E2EBFA;\n",
              "      box-shadow: 0px 1px 2px rgba(60, 64, 67, 0.3), 0px 1px 3px 1px rgba(60, 64, 67, 0.15);\n",
              "      fill: #174EA6;\n",
              "    }\n",
              "\n",
              "    [theme=dark] .colab-df-convert {\n",
              "      background-color: #3B4455;\n",
              "      fill: #D2E3FC;\n",
              "    }\n",
              "\n",
              "    [theme=dark] .colab-df-convert:hover {\n",
              "      background-color: #434B5C;\n",
              "      box-shadow: 0px 1px 3px 1px rgba(0, 0, 0, 0.15);\n",
              "      filter: drop-shadow(0px 1px 2px rgba(0, 0, 0, 0.3));\n",
              "      fill: #FFFFFF;\n",
              "    }\n",
              "  </style>\n",
              "\n",
              "      <script>\n",
              "        const buttonEl =\n",
              "          document.querySelector('#df-031ee50b-b4cf-4d49-ad53-092b9ff64ea7 button.colab-df-convert');\n",
              "        buttonEl.style.display =\n",
              "          google.colab.kernel.accessAllowed ? 'block' : 'none';\n",
              "\n",
              "        async function convertToInteractive(key) {\n",
              "          const element = document.querySelector('#df-031ee50b-b4cf-4d49-ad53-092b9ff64ea7');\n",
              "          const dataTable =\n",
              "            await google.colab.kernel.invokeFunction('convertToInteractive',\n",
              "                                                     [key], {});\n",
              "          if (!dataTable) return;\n",
              "\n",
              "          const docLinkHtml = 'Like what you see? Visit the ' +\n",
              "            '<a target=\"_blank\" href=https://colab.research.google.com/notebooks/data_table.ipynb>data table notebook</a>'\n",
              "            + ' to learn more about interactive tables.';\n",
              "          element.innerHTML = '';\n",
              "          dataTable['output_type'] = 'display_data';\n",
              "          await google.colab.output.renderOutput(dataTable, element);\n",
              "          const docLink = document.createElement('div');\n",
              "          docLink.innerHTML = docLinkHtml;\n",
              "          element.appendChild(docLink);\n",
              "        }\n",
              "      </script>\n",
              "    </div>\n",
              "  </div>\n",
              "  "
            ]
          },
          "metadata": {},
          "execution_count": 66
        }
      ]
    },
    {
      "cell_type": "code",
      "source": [
        "df.groupby(by='weekday').mean()"
      ],
      "metadata": {
        "colab": {
          "base_uri": "https://localhost:8080/",
          "height": 364
        },
        "id": "2SEhGM8JkrPk",
        "outputId": "e5fc4d2f-e320-40e5-8b53-046deef1f353"
      },
      "execution_count": 67,
      "outputs": [
        {
          "output_type": "execute_result",
          "data": {
            "text/plain": [
              "              rec_id    season      year     month       hour  is_holiday  \\\n",
              "weekday                                                                     \n",
              "0        8697.580735  2.490408  0.507994  6.487210  11.555156    0.000000   \n",
              "1        8645.734167  2.488503  0.501815  6.479225  11.556676    0.144010   \n",
              "2        8665.830004  2.529148  0.501834  6.516918  11.622095    0.009376   \n",
              "3        8703.582222  2.510707  0.503434  6.543838  11.527273    0.009697   \n",
              "4        8739.579927  2.521651  0.504249  6.590045  11.556050    0.019425   \n",
              "5        8725.739043  2.495778  0.501809  6.593888  11.527945    0.019300   \n",
              "6        8652.199841  2.476115  0.496815  6.553344  11.483678    0.000000   \n",
              "\n",
              "         is_workingday  weather_condition      temp     atemp  humidity  \\\n",
              "weekday                                                                   \n",
              "0             0.000000           1.362110  0.483821  0.465507  0.627994   \n",
              "1             0.855990           1.431222  0.495046  0.475908  0.635651   \n",
              "2             0.990624           1.476152  0.508569  0.487179  0.639833   \n",
              "3             0.990303           1.485657  0.506675  0.483528  0.644820   \n",
              "4             0.980575           1.402266  0.507017  0.485021  0.609628   \n",
              "5             0.980700           1.412143  0.496429  0.471828  0.613840   \n",
              "6             0.000000           1.408838  0.481847  0.461909  0.619084   \n",
              "\n",
              "         windspeed     casual  registered  total_count  \n",
              "weekday                                                 \n",
              "0         0.188093  56.163469  121.305356   177.468825  \n",
              "1         0.188863  28.553449  155.191206   183.744655  \n",
              "2         0.191917  23.580514  167.658377   191.238891  \n",
              "3         0.187172  23.159192  167.971313   191.130505  \n",
              "4         0.191987  24.872521  171.564144   196.436665  \n",
              "5         0.186430  31.458786  164.677121   196.135907  \n",
              "6         0.196190  61.246815  128.962978   190.209793  "
            ],
            "text/html": [
              "\n",
              "  <div id=\"df-bbfd0ad1-b465-4335-9b43-3f552fcbe730\">\n",
              "    <div class=\"colab-df-container\">\n",
              "      <div>\n",
              "<style scoped>\n",
              "    .dataframe tbody tr th:only-of-type {\n",
              "        vertical-align: middle;\n",
              "    }\n",
              "\n",
              "    .dataframe tbody tr th {\n",
              "        vertical-align: top;\n",
              "    }\n",
              "\n",
              "    .dataframe thead th {\n",
              "        text-align: right;\n",
              "    }\n",
              "</style>\n",
              "<table border=\"1\" class=\"dataframe\">\n",
              "  <thead>\n",
              "    <tr style=\"text-align: right;\">\n",
              "      <th></th>\n",
              "      <th>rec_id</th>\n",
              "      <th>season</th>\n",
              "      <th>year</th>\n",
              "      <th>month</th>\n",
              "      <th>hour</th>\n",
              "      <th>is_holiday</th>\n",
              "      <th>is_workingday</th>\n",
              "      <th>weather_condition</th>\n",
              "      <th>temp</th>\n",
              "      <th>atemp</th>\n",
              "      <th>humidity</th>\n",
              "      <th>windspeed</th>\n",
              "      <th>casual</th>\n",
              "      <th>registered</th>\n",
              "      <th>total_count</th>\n",
              "    </tr>\n",
              "    <tr>\n",
              "      <th>weekday</th>\n",
              "      <th></th>\n",
              "      <th></th>\n",
              "      <th></th>\n",
              "      <th></th>\n",
              "      <th></th>\n",
              "      <th></th>\n",
              "      <th></th>\n",
              "      <th></th>\n",
              "      <th></th>\n",
              "      <th></th>\n",
              "      <th></th>\n",
              "      <th></th>\n",
              "      <th></th>\n",
              "      <th></th>\n",
              "      <th></th>\n",
              "    </tr>\n",
              "  </thead>\n",
              "  <tbody>\n",
              "    <tr>\n",
              "      <th>0</th>\n",
              "      <td>8697.580735</td>\n",
              "      <td>2.490408</td>\n",
              "      <td>0.507994</td>\n",
              "      <td>6.487210</td>\n",
              "      <td>11.555156</td>\n",
              "      <td>0.000000</td>\n",
              "      <td>0.000000</td>\n",
              "      <td>1.362110</td>\n",
              "      <td>0.483821</td>\n",
              "      <td>0.465507</td>\n",
              "      <td>0.627994</td>\n",
              "      <td>0.188093</td>\n",
              "      <td>56.163469</td>\n",
              "      <td>121.305356</td>\n",
              "      <td>177.468825</td>\n",
              "    </tr>\n",
              "    <tr>\n",
              "      <th>1</th>\n",
              "      <td>8645.734167</td>\n",
              "      <td>2.488503</td>\n",
              "      <td>0.501815</td>\n",
              "      <td>6.479225</td>\n",
              "      <td>11.556676</td>\n",
              "      <td>0.144010</td>\n",
              "      <td>0.855990</td>\n",
              "      <td>1.431222</td>\n",
              "      <td>0.495046</td>\n",
              "      <td>0.475908</td>\n",
              "      <td>0.635651</td>\n",
              "      <td>0.188863</td>\n",
              "      <td>28.553449</td>\n",
              "      <td>155.191206</td>\n",
              "      <td>183.744655</td>\n",
              "    </tr>\n",
              "    <tr>\n",
              "      <th>2</th>\n",
              "      <td>8665.830004</td>\n",
              "      <td>2.529148</td>\n",
              "      <td>0.501834</td>\n",
              "      <td>6.516918</td>\n",
              "      <td>11.622095</td>\n",
              "      <td>0.009376</td>\n",
              "      <td>0.990624</td>\n",
              "      <td>1.476152</td>\n",
              "      <td>0.508569</td>\n",
              "      <td>0.487179</td>\n",
              "      <td>0.639833</td>\n",
              "      <td>0.191917</td>\n",
              "      <td>23.580514</td>\n",
              "      <td>167.658377</td>\n",
              "      <td>191.238891</td>\n",
              "    </tr>\n",
              "    <tr>\n",
              "      <th>3</th>\n",
              "      <td>8703.582222</td>\n",
              "      <td>2.510707</td>\n",
              "      <td>0.503434</td>\n",
              "      <td>6.543838</td>\n",
              "      <td>11.527273</td>\n",
              "      <td>0.009697</td>\n",
              "      <td>0.990303</td>\n",
              "      <td>1.485657</td>\n",
              "      <td>0.506675</td>\n",
              "      <td>0.483528</td>\n",
              "      <td>0.644820</td>\n",
              "      <td>0.187172</td>\n",
              "      <td>23.159192</td>\n",
              "      <td>167.971313</td>\n",
              "      <td>191.130505</td>\n",
              "    </tr>\n",
              "    <tr>\n",
              "      <th>4</th>\n",
              "      <td>8739.579927</td>\n",
              "      <td>2.521651</td>\n",
              "      <td>0.504249</td>\n",
              "      <td>6.590045</td>\n",
              "      <td>11.556050</td>\n",
              "      <td>0.019425</td>\n",
              "      <td>0.980575</td>\n",
              "      <td>1.402266</td>\n",
              "      <td>0.507017</td>\n",
              "      <td>0.485021</td>\n",
              "      <td>0.609628</td>\n",
              "      <td>0.191987</td>\n",
              "      <td>24.872521</td>\n",
              "      <td>171.564144</td>\n",
              "      <td>196.436665</td>\n",
              "    </tr>\n",
              "    <tr>\n",
              "      <th>5</th>\n",
              "      <td>8725.739043</td>\n",
              "      <td>2.495778</td>\n",
              "      <td>0.501809</td>\n",
              "      <td>6.593888</td>\n",
              "      <td>11.527945</td>\n",
              "      <td>0.019300</td>\n",
              "      <td>0.980700</td>\n",
              "      <td>1.412143</td>\n",
              "      <td>0.496429</td>\n",
              "      <td>0.471828</td>\n",
              "      <td>0.613840</td>\n",
              "      <td>0.186430</td>\n",
              "      <td>31.458786</td>\n",
              "      <td>164.677121</td>\n",
              "      <td>196.135907</td>\n",
              "    </tr>\n",
              "    <tr>\n",
              "      <th>6</th>\n",
              "      <td>8652.199841</td>\n",
              "      <td>2.476115</td>\n",
              "      <td>0.496815</td>\n",
              "      <td>6.553344</td>\n",
              "      <td>11.483678</td>\n",
              "      <td>0.000000</td>\n",
              "      <td>0.000000</td>\n",
              "      <td>1.408838</td>\n",
              "      <td>0.481847</td>\n",
              "      <td>0.461909</td>\n",
              "      <td>0.619084</td>\n",
              "      <td>0.196190</td>\n",
              "      <td>61.246815</td>\n",
              "      <td>128.962978</td>\n",
              "      <td>190.209793</td>\n",
              "    </tr>\n",
              "  </tbody>\n",
              "</table>\n",
              "</div>\n",
              "      <button class=\"colab-df-convert\" onclick=\"convertToInteractive('df-bbfd0ad1-b465-4335-9b43-3f552fcbe730')\"\n",
              "              title=\"Convert this dataframe to an interactive table.\"\n",
              "              style=\"display:none;\">\n",
              "        \n",
              "  <svg xmlns=\"http://www.w3.org/2000/svg\" height=\"24px\"viewBox=\"0 0 24 24\"\n",
              "       width=\"24px\">\n",
              "    <path d=\"M0 0h24v24H0V0z\" fill=\"none\"/>\n",
              "    <path d=\"M18.56 5.44l.94 2.06.94-2.06 2.06-.94-2.06-.94-.94-2.06-.94 2.06-2.06.94zm-11 1L8.5 8.5l.94-2.06 2.06-.94-2.06-.94L8.5 2.5l-.94 2.06-2.06.94zm10 10l.94 2.06.94-2.06 2.06-.94-2.06-.94-.94-2.06-.94 2.06-2.06.94z\"/><path d=\"M17.41 7.96l-1.37-1.37c-.4-.4-.92-.59-1.43-.59-.52 0-1.04.2-1.43.59L10.3 9.45l-7.72 7.72c-.78.78-.78 2.05 0 2.83L4 21.41c.39.39.9.59 1.41.59.51 0 1.02-.2 1.41-.59l7.78-7.78 2.81-2.81c.8-.78.8-2.07 0-2.86zM5.41 20L4 18.59l7.72-7.72 1.47 1.35L5.41 20z\"/>\n",
              "  </svg>\n",
              "      </button>\n",
              "      \n",
              "  <style>\n",
              "    .colab-df-container {\n",
              "      display:flex;\n",
              "      flex-wrap:wrap;\n",
              "      gap: 12px;\n",
              "    }\n",
              "\n",
              "    .colab-df-convert {\n",
              "      background-color: #E8F0FE;\n",
              "      border: none;\n",
              "      border-radius: 50%;\n",
              "      cursor: pointer;\n",
              "      display: none;\n",
              "      fill: #1967D2;\n",
              "      height: 32px;\n",
              "      padding: 0 0 0 0;\n",
              "      width: 32px;\n",
              "    }\n",
              "\n",
              "    .colab-df-convert:hover {\n",
              "      background-color: #E2EBFA;\n",
              "      box-shadow: 0px 1px 2px rgba(60, 64, 67, 0.3), 0px 1px 3px 1px rgba(60, 64, 67, 0.15);\n",
              "      fill: #174EA6;\n",
              "    }\n",
              "\n",
              "    [theme=dark] .colab-df-convert {\n",
              "      background-color: #3B4455;\n",
              "      fill: #D2E3FC;\n",
              "    }\n",
              "\n",
              "    [theme=dark] .colab-df-convert:hover {\n",
              "      background-color: #434B5C;\n",
              "      box-shadow: 0px 1px 3px 1px rgba(0, 0, 0, 0.15);\n",
              "      filter: drop-shadow(0px 1px 2px rgba(0, 0, 0, 0.3));\n",
              "      fill: #FFFFFF;\n",
              "    }\n",
              "  </style>\n",
              "\n",
              "      <script>\n",
              "        const buttonEl =\n",
              "          document.querySelector('#df-bbfd0ad1-b465-4335-9b43-3f552fcbe730 button.colab-df-convert');\n",
              "        buttonEl.style.display =\n",
              "          google.colab.kernel.accessAllowed ? 'block' : 'none';\n",
              "\n",
              "        async function convertToInteractive(key) {\n",
              "          const element = document.querySelector('#df-bbfd0ad1-b465-4335-9b43-3f552fcbe730');\n",
              "          const dataTable =\n",
              "            await google.colab.kernel.invokeFunction('convertToInteractive',\n",
              "                                                     [key], {});\n",
              "          if (!dataTable) return;\n",
              "\n",
              "          const docLinkHtml = 'Like what you see? Visit the ' +\n",
              "            '<a target=\"_blank\" href=https://colab.research.google.com/notebooks/data_table.ipynb>data table notebook</a>'\n",
              "            + ' to learn more about interactive tables.';\n",
              "          element.innerHTML = '';\n",
              "          dataTable['output_type'] = 'display_data';\n",
              "          await google.colab.output.renderOutput(dataTable, element);\n",
              "          const docLink = document.createElement('div');\n",
              "          docLink.innerHTML = docLinkHtml;\n",
              "          element.appendChild(docLink);\n",
              "        }\n",
              "      </script>\n",
              "    </div>\n",
              "  </div>\n",
              "  "
            ]
          },
          "metadata": {},
          "execution_count": 67
        }
      ]
    },
    {
      "cell_type": "code",
      "source": [
        ""
      ],
      "metadata": {
        "colab": {
          "base_uri": "https://localhost:8080/"
        },
        "id": "svVRh0zOlLFk",
        "outputId": "7f8e897d-4b56-4c3c-d78b-705ed8c6fd40"
      },
      "execution_count": 86,
      "outputs": [
        {
          "output_type": "execute_result",
          "data": {
            "text/plain": [
              "<pandas.core.groupby.generic.DataFrameGroupBy object at 0x7f4983d89350>"
            ]
          },
          "metadata": {},
          "execution_count": 86
        }
      ]
    },
    {
      "cell_type": "code",
      "source": [
        ""
      ],
      "metadata": {
        "id": "6_EyatlDlmiL"
      },
      "execution_count": null,
      "outputs": []
    }
  ]
}